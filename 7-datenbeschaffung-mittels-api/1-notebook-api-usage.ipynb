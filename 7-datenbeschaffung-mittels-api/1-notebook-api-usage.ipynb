{
 "cells": [
  {
   "cell_type": "code",
   "execution_count": null,
   "id": "industrial-donna",
   "metadata": {},
   "outputs": [],
   "source": [
    "import requests\n",
    "import json\n",
    "import pandas as pd"
   ]
  },
  {
   "cell_type": "markdown",
   "id": "d9c8459c",
   "metadata": {},
   "source": [
    "### Anwendungsbeispiel 1: Automatisierte Übersetzung mit DeepL\n",
    "\n",
    "Read the [docs](https://www.deepl.com/docs-api)"
   ]
  },
  {
   "cell_type": "code",
   "execution_count": null,
   "id": "978eba2d",
   "metadata": {},
   "outputs": [],
   "source": [
    "# Abruf Auth Token aus externer Datei\n",
    "with open('token.json') as f:\n",
    "    credentials = json.load(f)\n",
    "    AUTH_KEY_DEEPL = credentials['AUTH_TOKEN_DEEPL']\n",
    "\n",
    "# Manuelle Eingabe des Auth Token (nicht empfohlen!)\n",
    "# AUTH_KEY_DEEPL = '<INSERT TOKEN>'"
   ]
  },
  {
   "cell_type": "code",
   "execution_count": null,
   "id": "3aec9d55",
   "metadata": {},
   "outputs": [],
   "source": [
    "ENDPOINT = 'https://api-free.deepl.com/v2/translate'\n",
    "\n",
    "text = \"\"\"Data literacy is the ability to read, understand, create, and communicate data as information. Much like literacy as a general concept, data literacy focuses on the competencies involved in working with data.\n",
    "It is, however, not similar to the ability to read text since it requires certain skills involving reading and understanding data.\"\"\"\n",
    "\n",
    "HEADER = {'Authorization': 'DeepL-Auth-Key ' + AUTH_KEY_DEEPL}\n",
    "\n",
    "PARAMS = {'source_lang': 'EN',\n",
    "          'target_lang': 'DE',\n",
    "          'text': text}\n",
    "\n",
    "response = requests.get(ENDPOINT, headers=HEADER, params=PARAMS)\n",
    "response, HEADER"
   ]
  },
  {
   "cell_type": "code",
   "execution_count": null,
   "id": "9ce03015",
   "metadata": {},
   "outputs": [],
   "source": [
    "response"
   ]
  },
  {
   "cell_type": "code",
   "execution_count": null,
   "id": "c78c58d8",
   "metadata": {},
   "outputs": [],
   "source": [
    "response.request.url"
   ]
  },
  {
   "cell_type": "code",
   "execution_count": null,
   "id": "77108a35",
   "metadata": {},
   "outputs": [],
   "source": [
    "response.json()"
   ]
  },
  {
   "cell_type": "code",
   "execution_count": null,
   "id": "34a93dcd",
   "metadata": {},
   "outputs": [],
   "source": [
    "response.json()['translations'][0]['text']"
   ]
  },
  {
   "cell_type": "code",
   "execution_count": null,
   "id": "quarterly-diamond",
   "metadata": {},
   "outputs": [],
   "source": [
    "def translate(text, source_lang, target_lang):\n",
    "        \n",
    "    ENDPOINT = 'https://api-free.deepl.com/v2/translate'\n",
    "    \n",
    "    with open('token.json') as f:\n",
    "        credentials = json.load(f)\n",
    "        AUTH_KEY_DEEPL = credentials['AUTH_TOKEN_DEEPL']\n",
    "\n",
    "    # AUTH_KEY_DEEPL = '<INSERT TOKEN>'\n",
    "    \n",
    "    HEADER = {'Authorization': 'DeepL-Auth-Key ' + AUTH_KEY_DEEPL}\n",
    "\n",
    "    PARAMS = {'source_lang': 'EN',\n",
    "              'target_lang': 'DE',\n",
    "              'text': text}\n",
    "    \n",
    "    response = requests.get(ENDPOINT, headers=HEADER, params=PARAMS).json()['translations'][0]['text']\n",
    "    return response"
   ]
  },
  {
   "cell_type": "code",
   "execution_count": null,
   "id": "95b013ba",
   "metadata": {},
   "outputs": [],
   "source": [
    "sentences = [\"Data literacy is the ability to read, understand, create, and communicate data as information.\",\n",
    "             \"Much like literacy as a general concept, data literacy focuses on the competencies involved in working with data.\",\n",
    "             \"It is, however, not similar to the ability to read text since it requires certain skills involving reading and understanding data.\"]\n",
    "\n",
    "for sent in sentences:\n",
    "    print(translate(sent, 'EN', 'DE'))"
   ]
  },
  {
   "cell_type": "markdown",
   "id": "fadf0ed5",
   "metadata": {},
   "source": [
    "*Hinweis: Es gibt sogar ein separates Python package (`deepl`), was die Benutzung der API noch einfacher macht!*"
   ]
  },
  {
   "cell_type": "markdown",
   "id": "f87a0261",
   "metadata": {},
   "source": [
    "### Anwendungsbeispiel 2: Transkription mit AssemblyAI\n",
    "\n",
    "Read the [docs](https://docs.assemblyai.com/)"
   ]
  },
  {
   "cell_type": "markdown",
   "id": "f41050f8",
   "metadata": {},
   "source": [
    "Schritt 1: Upload der Audio-Datei"
   ]
  },
  {
   "cell_type": "code",
   "execution_count": null,
   "id": "d518ab0d",
   "metadata": {},
   "outputs": [],
   "source": [
    "UPLOAD_ENDPOINT = 'https://api.assemblyai.com/v2/upload'\n",
    "\n",
    "with open('token.json') as f:\n",
    "    credentials = json.load(f)\n",
    "    AUTH_TOKEN_ASSEMBLYAI = credentials['AUTH_TOKEN_ASSEMBLYAI']\n",
    "\n",
    "# AUTH_TOKEN_ASSEMBLYAI = '<INSERT TOKEN>'\n",
    "\n",
    "HEADER = {'authorization': AUTH_TOKEN_ASSEMBLYAI,\n",
    "          'content-type': 'application/json'}\n",
    "\n",
    "with open('recording.m4a', 'rb') as f:\n",
    "    audio_file = f.read()\n",
    "    \n",
    "response = requests.post(UPLOAD_ENDPOINT, headers=HEADER, data=audio_file)"
   ]
  },
  {
   "cell_type": "code",
   "execution_count": null,
   "id": "3755b00e",
   "metadata": {},
   "outputs": [],
   "source": [
    "response"
   ]
  },
  {
   "cell_type": "code",
   "execution_count": null,
   "id": "c746f286",
   "metadata": {},
   "outputs": [],
   "source": [
    "response.json()"
   ]
  },
  {
   "cell_type": "markdown",
   "id": "b4da0bdf",
   "metadata": {},
   "source": [
    "Schritt 2: Starten der Transkription\n",
    "\n",
    "Inzwischen werden auch Transkriptionen in [Spanisch, Französisch, Deutsch und Italienisch](https://docs.assemblyai.com/#supported-languages) unterstützt."
   ]
  },
  {
   "cell_type": "code",
   "execution_count": null,
   "id": "8fa80d40",
   "metadata": {},
   "outputs": [],
   "source": [
    "TRANSCRIPT_ENDPOINT = 'https://api.assemblyai.com/v2/transcript'\n",
    "\n",
    "UPLOAD_URL = response.json()['upload_url']\n",
    "\n",
    "JSON = {'audio_url': UPLOAD_URL,\n",
    "        'language_code': 'en',\n",
    "        'speaker_labels': 'true'}\n",
    "\n",
    "reponse = requests.post(TRANSCRIPT_ENDPOINT, headers=HEADER, json=JSON)"
   ]
  },
  {
   "cell_type": "code",
   "execution_count": null,
   "id": "772330ac",
   "metadata": {},
   "outputs": [],
   "source": [
    "response"
   ]
  },
  {
   "cell_type": "code",
   "execution_count": null,
   "id": "fb466779",
   "metadata": {},
   "outputs": [],
   "source": [
    "reponse.json()"
   ]
  },
  {
   "cell_type": "markdown",
   "id": "11a979dd",
   "metadata": {},
   "source": [
    "Schritt 3: Download des Transkriptes\n",
    "\n",
    "*Hinweis: Laut [Anbieter](https://docs.assemblyai.com/#processing-times) veranschlagt der Prozess etwa 30% der Länge der Audio-Datei.*"
   ]
  },
  {
   "cell_type": "code",
   "execution_count": null,
   "id": "62355c27",
   "metadata": {},
   "outputs": [],
   "source": [
    "TRANSCRIPT_ID = reponse.json()['id']\n",
    "\n",
    "response = requests.get(TRANSCRIPT_ENDPOINT + '/' + TRANSCRIPT_ID, headers=HEADER)\n",
    "response.json()"
   ]
  },
  {
   "cell_type": "code",
   "execution_count": null,
   "id": "54bb3e08",
   "metadata": {},
   "outputs": [],
   "source": [
    "response.json()['text']"
   ]
  },
  {
   "cell_type": "markdown",
   "id": "894257d1",
   "metadata": {},
   "source": [
    "### Anwendungsbeispiel 3: Musik-Empfehlungen mit Spotify\n",
    "\n",
    "Read the [docs](https://developer.spotify.com/documentation/web-api/)"
   ]
  },
  {
   "cell_type": "markdown",
   "id": "e83d16c5",
   "metadata": {},
   "source": [
    "Schritt 1: Erstellen eines Authentication Token"
   ]
  },
  {
   "cell_type": "code",
   "execution_count": null,
   "id": "3f8b0ba0",
   "metadata": {},
   "outputs": [],
   "source": [
    "AUTH_ENDPOINT = 'https://accounts.spotify.com/api/token'\n",
    "\n",
    "with open('token.json') as f:\n",
    "    credentials = json.load(f)\n",
    "    CLIENT_ID_SPOTIFY = credentials['CLIENT_ID_SPOTIFY']\n",
    "    CLIENT_SECRET_SPOTIFY = credentials['CLIENT_SECRET_SPOTIFY'] \n",
    "\n",
    "# CLIENT_ID_SPOTIFY = '<INSERT CLIENT_ID>'\n",
    "# CLIENT_SECRET_SPOTIFY = '<INSERT CLIENT_SECRET>'\n",
    "\n",
    "DATA = {'grant_type': 'client_credentials',\n",
    "        'client_id': CLIENT_ID_SPOTIFY,\n",
    "        'client_secret': CLIENT_SECRET_SPOTIFY}\n",
    "\n",
    "response = requests.post(AUTH_ENDPOINT, data=DATA)"
   ]
  },
  {
   "cell_type": "code",
   "execution_count": null,
   "id": "b8a17b69",
   "metadata": {},
   "outputs": [],
   "source": [
    "response"
   ]
  },
  {
   "cell_type": "code",
   "execution_count": null,
   "id": "d8b84652",
   "metadata": {},
   "outputs": [],
   "source": [
    "response.json()"
   ]
  },
  {
   "cell_type": "markdown",
   "id": "0d8faeed",
   "metadata": {},
   "source": [
    "Schritt 2: Abruf von Song Eigenschaften\n",
    "\n",
    "*Hinweis: Die Spotify API bietet eine Fülle an verschiedenen Abfragemöglichkeiten (d.h. [Endpoints](https://developer.spotify.com/documentation/web-api/reference/#/)). Zudem gibt es ein separates Python package (`spotipy`), was die Benutzung der API noch einfacher macht!*"
   ]
  },
  {
   "cell_type": "code",
   "execution_count": null,
   "id": "3ac82b06",
   "metadata": {},
   "outputs": [],
   "source": [
    "FEATURES_ENDPOINT = 'https://api.spotify.com/v1/audio-features/'\n",
    "\n",
    "AUTH_TOKEN_SPOTIFY = response.json()['access_token']\n",
    "\n",
    "TRACK_ID = '1bBglCIHeIwR78kJXJzkZo'\n",
    "\n",
    "HEADER = {'Content-Type': 'application/json',\n",
    "           'Authorization': 'Bearer ' + AUTH_TOKEN_SPOTIFY}\n",
    "\n",
    "response = requests.get(FEATURES_ENDPOINT + TRACK_ID, headers=HEADER)"
   ]
  },
  {
   "cell_type": "code",
   "execution_count": null,
   "id": "846b7d62",
   "metadata": {},
   "outputs": [],
   "source": [
    "response"
   ]
  },
  {
   "cell_type": "code",
   "execution_count": null,
   "id": "74e87580",
   "metadata": {},
   "outputs": [],
   "source": [
    "response.json()"
   ]
  },
  {
   "cell_type": "markdown",
   "id": "7e4fe914",
   "metadata": {},
   "source": [
    "Schritt 3: Abruf von Song Empfehlungen"
   ]
  },
  {
   "cell_type": "code",
   "execution_count": null,
   "id": "41342134",
   "metadata": {},
   "outputs": [],
   "source": [
    "RECOMMEND_ENDPOINT = 'https://api.spotify.com/v1/recommendations'\n",
    "\n",
    "PARAMS = {'seed_tracks': '1bBglCIHeIwR78kJXJzkZo,30dDeLflXjGSv7qjrjmYCG,6gOR8xTSQWEMfEJa7r52k7',\n",
    "          'limit': 5}\n",
    "\n",
    "response = requests.get(RECOMMEND_ENDPOINT, headers=HEADER, params=PARAMS)"
   ]
  },
  {
   "cell_type": "code",
   "execution_count": null,
   "id": "967fef59",
   "metadata": {},
   "outputs": [],
   "source": [
    "response"
   ]
  },
  {
   "cell_type": "code",
   "execution_count": null,
   "id": "e1154adc",
   "metadata": {},
   "outputs": [],
   "source": [
    "response.json()"
   ]
  },
  {
   "cell_type": "markdown",
   "id": "1bc52db9",
   "metadata": {},
   "source": [
    "### Anwendungsbeispiel 4: Amtliche Statistiken mit Datenguide\n",
    "\n",
    "Read the [docs](https://datengui.de/docs)\n",
    "\n",
    "*Hinweis: Da Datenguide open data bereitstellt brauchen wir keine `auth_token`! Der `data` Code `52411:ISV001` kennzeichnet den Datensatz \"Statistik über beantragte Insolvenzverfahren - Insolvenzverfahren\", der `region` Code `05` steht für \"Nordrhein-Westfalen\", und es werden alle verfügbaren Daten ab `2008` abgerufen.*"
   ]
  },
  {
   "cell_type": "code",
   "execution_count": null,
   "id": "7a6d8a3a",
   "metadata": {},
   "outputs": [],
   "source": [
    "ENDPOINT_DATENGUIDE = 'https://tabular.genesapi.org'\n",
    "\n",
    "PARAMS = {'data': '52411:ISV001',\n",
    "          'region': '05',\n",
    "          'time': '2008:',\n",
    "          'format':'json'}\n",
    "\n",
    "response = requests.get(ENDPOINT_DATENGUIDE, params=PARAMS)"
   ]
  },
  {
   "cell_type": "code",
   "execution_count": null,
   "id": "e95fc48b",
   "metadata": {},
   "outputs": [],
   "source": [
    "response"
   ]
  },
  {
   "cell_type": "code",
   "execution_count": null,
   "id": "07532099",
   "metadata": {},
   "outputs": [],
   "source": [
    "response.json()"
   ]
  },
  {
   "cell_type": "code",
   "execution_count": null,
   "id": "97104a6e",
   "metadata": {},
   "outputs": [],
   "source": [
    "pd.DataFrame(response.json()['data'])"
   ]
  }
 ],
 "metadata": {
  "interpreter": {
   "hash": "52634da84371cba311ea128a5ea7cdc41ff074b781779e754b270ff9f8153cee"
  },
  "kernelspec": {
   "display_name": "Python 3.8.5 64-bit",
   "language": "python",
   "name": "python3"
  },
  "language_info": {
   "codemirror_mode": {
    "name": "ipython",
    "version": 3
   },
   "file_extension": ".py",
   "mimetype": "text/x-python",
   "name": "python",
   "nbconvert_exporter": "python",
   "pygments_lexer": "ipython3",
   "version": "3.8.5"
  }
 },
 "nbformat": 4,
 "nbformat_minor": 5
}
