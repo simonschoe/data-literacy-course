{
 "cells": [
  {
   "cell_type": "markdown",
   "id": "2b8b41c7",
   "metadata": {},
   "source": [
    "### 3 Datenmanipulation und Datenanalyse"
   ]
  },
  {
   "cell_type": "markdown",
   "id": "8cf3e678",
   "metadata": {},
   "source": [
    "##### 3.2 Einführung in `pandas`"
   ]
  },
  {
   "cell_type": "code",
   "execution_count": null,
   "id": "3e130343",
   "metadata": {},
   "outputs": [],
   "source": [
    "!pip install pandas"
   ]
  },
  {
   "cell_type": "code",
   "execution_count": 2,
   "id": "df4721e2",
   "metadata": {},
   "outputs": [],
   "source": [
    "import pandas as pd"
   ]
  },
  {
   "cell_type": "code",
   "execution_count": null,
   "id": "b8bafe3c",
   "metadata": {},
   "outputs": [],
   "source": [
    "pd.Series([1995, 2017, 2018, 2000], name='year')"
   ]
  },
  {
   "cell_type": "code",
   "execution_count": null,
   "id": "4ea94f09",
   "metadata": {},
   "outputs": [],
   "source": [
    "pd.Series([1995, 2017, 2018, 2000], index = ['1st_ceo', '2nd_ceo', '3rd_ceo', '4th_ceo'], name = 'year')"
   ]
  },
  {
   "cell_type": "code",
   "execution_count": null,
   "id": "8992b968",
   "metadata": {},
   "outputs": [],
   "source": [
    "pd.Series({'1st_ceo': 1995, '2nd_ceo': 2017, '3rd_ceo': 2018, '4th_ceo': 2000}, name = 'year')"
   ]
  },
  {
   "cell_type": "code",
   "execution_count": null,
   "id": "7b0e096f",
   "metadata": {},
   "outputs": [],
   "source": [
    "years = pd.Series({'1st_ceo': 1995, '2nd_ceo': 2017, '3rd_ceo': 2018, '4th_ceo': 2000}, name = 'year')\n",
    "\n",
    "print(\"Index:\\t\", years.index)\n",
    "print(\"Values:\\t\", years.values)\n",
    "print(\"Name:\\t\", years.name)"
   ]
  },
  {
   "cell_type": "code",
   "execution_count": null,
   "id": "d845a07b",
   "metadata": {},
   "outputs": [],
   "source": [
    "data = {'year': [1995, 2017, 2018, 2000],\n",
    "        'exec_fullname': ['Ira A. Eichner', 'David P. Storch', 'John McClain Holmes, III', 'William J. Cadogan'],\n",
    "        'Departure Code': [5, 5, None, 6]}\n",
    "\n",
    "df = pd.DataFrame(data)\n",
    "df"
   ]
  },
  {
   "cell_type": "code",
   "execution_count": null,
   "id": "47e125a9",
   "metadata": {},
   "outputs": [],
   "source": [
    "print(\"Index:\\t\", df.index)\n",
    "print(\"Spalten:\", df.columns)\n",
    "print(\"Dims:\\t\", df.shape)"
   ]
  },
  {
   "cell_type": "markdown",
   "id": "17114600",
   "metadata": {},
   "source": [
    "##### 3.3 Importieren von Daten"
   ]
  },
  {
   "cell_type": "code",
   "execution_count": null,
   "id": "4e1f563a",
   "metadata": {},
   "outputs": [],
   "source": [
    "# Im Gegensatz zu `pandas` ist `openpyxl` noch nicht vorinstalliert (ggf. Neustart des Kernels erforderlich)\n",
    "!pip install openpyxl"
   ]
  },
  {
   "cell_type": "code",
   "execution_count": null,
   "id": "b6016d05",
   "metadata": {},
   "outputs": [],
   "source": [
    "df = pd.read_excel('./data/CEO Dismissal Data 2021.02.03.xlsx', 'Sheet1', engine='openpyxl')\n",
    "\n",
    "df.head(n=5)  # Gegenteil zu `.head` ist `.tail`"
   ]
  },
  {
   "cell_type": "code",
   "execution_count": null,
   "id": "1e6ee4f0",
   "metadata": {},
   "outputs": [],
   "source": [
    "df = pd.read_excel('./data/CEO Dismissal Data 2021.02.03.xlsx', 'Sheet1', engine='openpyxl', index_col=0)\n",
    "\n",
    "df.head(n=5)"
   ]
  },
  {
   "cell_type": "code",
   "execution_count": 3,
   "id": "7ef7048b",
   "metadata": {},
   "outputs": [
    {
     "data": {
      "text/html": [
       "<div>\n",
       "<style scoped>\n",
       "    .dataframe tbody tr th:only-of-type {\n",
       "        vertical-align: middle;\n",
       "    }\n",
       "\n",
       "    .dataframe tbody tr th {\n",
       "        vertical-align: top;\n",
       "    }\n",
       "\n",
       "    .dataframe thead th {\n",
       "        text-align: right;\n",
       "    }\n",
       "</style>\n",
       "<table border=\"1\" class=\"dataframe\">\n",
       "  <thead>\n",
       "    <tr style=\"text-align: right;\">\n",
       "      <th></th>\n",
       "      <th>firm_name</th>\n",
       "      <th>firm_id</th>\n",
       "      <th>year</th>\n",
       "      <th>ceo_id</th>\n",
       "      <th>ceo_name</th>\n",
       "      <th>depart_code</th>\n",
       "      <th>ceo_dismi</th>\n",
       "      <th>interim_or_co</th>\n",
       "      <th>tenure_no</th>\n",
       "      <th>max_tenure</th>\n",
       "      <th>fy_gone</th>\n",
       "      <th>date_gone</th>\n",
       "      <th>still_active</th>\n",
       "      <th>notes1</th>\n",
       "      <th>notes2</th>\n",
       "    </tr>\n",
       "    <tr>\n",
       "      <th>id</th>\n",
       "      <th></th>\n",
       "      <th></th>\n",
       "      <th></th>\n",
       "      <th></th>\n",
       "      <th></th>\n",
       "      <th></th>\n",
       "      <th></th>\n",
       "      <th></th>\n",
       "      <th></th>\n",
       "      <th></th>\n",
       "      <th></th>\n",
       "      <th></th>\n",
       "      <th></th>\n",
       "      <th></th>\n",
       "      <th></th>\n",
       "    </tr>\n",
       "  </thead>\n",
       "  <tbody>\n",
       "    <tr>\n",
       "      <th>1</th>\n",
       "      <td>AAR CORP</td>\n",
       "      <td>1004</td>\n",
       "      <td>1995</td>\n",
       "      <td>5622</td>\n",
       "      <td>Ira A. Eichner</td>\n",
       "      <td>5.0</td>\n",
       "      <td>0.0</td>\n",
       "      <td>NaN</td>\n",
       "      <td>1</td>\n",
       "      <td>1</td>\n",
       "      <td>1996.0</td>\n",
       "      <td>1996-10-01 00:00:00</td>\n",
       "      <td>NaN</td>\n",
       "      <td>Mr. Ira A. Eichner served as CEO until October...</td>\n",
       "      <td>https://www.comparably.com/companies/aar-corp/...</td>\n",
       "    </tr>\n",
       "    <tr>\n",
       "      <th>2</th>\n",
       "      <td>AAR CORP</td>\n",
       "      <td>1004</td>\n",
       "      <td>2017</td>\n",
       "      <td>5623</td>\n",
       "      <td>David P. Storch</td>\n",
       "      <td>5.0</td>\n",
       "      <td>0.0</td>\n",
       "      <td>NaN</td>\n",
       "      <td>1</td>\n",
       "      <td>1</td>\n",
       "      <td>2018.0</td>\n",
       "      <td>2018-05-31 00:00:00</td>\n",
       "      <td>NaN</td>\n",
       "      <td>Agreed to stay as non-executive chairman post ...</td>\n",
       "      <td>https://advance-lexis-com.umiss.idm.oclc.org/a...</td>\n",
       "    </tr>\n",
       "    <tr>\n",
       "      <th>3</th>\n",
       "      <td>AAR CORP</td>\n",
       "      <td>1004</td>\n",
       "      <td>2018</td>\n",
       "      <td>51547</td>\n",
       "      <td>John McClain Holmes, III</td>\n",
       "      <td>NaN</td>\n",
       "      <td>NaN</td>\n",
       "      <td>NaN</td>\n",
       "      <td>1</td>\n",
       "      <td>1</td>\n",
       "      <td>NaN</td>\n",
       "      <td>NaN</td>\n",
       "      <td>17nov2020</td>\n",
       "      <td>NaN</td>\n",
       "      <td>https://www.aarcorp.com/about/corporate-officers/</td>\n",
       "    </tr>\n",
       "    <tr>\n",
       "      <th>4</th>\n",
       "      <td>ADC TELECOMMUNICATIONS INC</td>\n",
       "      <td>1013</td>\n",
       "      <td>2000</td>\n",
       "      <td>2611</td>\n",
       "      <td>William J. Cadogan</td>\n",
       "      <td>6.0</td>\n",
       "      <td>0.0</td>\n",
       "      <td>NaN</td>\n",
       "      <td>1</td>\n",
       "      <td>1</td>\n",
       "      <td>2001.0</td>\n",
       "      <td>2001-02-15 00:00:00</td>\n",
       "      <td>NaN</td>\n",
       "      <td>William Cadogan, the retiring CEO and chairman...</td>\n",
       "      <td>https://www.bizjournals.com/twincities/stories...</td>\n",
       "    </tr>\n",
       "    <tr>\n",
       "      <th>5</th>\n",
       "      <td>ADC TELECOMMUNICATIONS INC</td>\n",
       "      <td>1013</td>\n",
       "      <td>2003</td>\n",
       "      <td>23275</td>\n",
       "      <td>Richard R. Roscitt</td>\n",
       "      <td>6.0</td>\n",
       "      <td>0.0</td>\n",
       "      <td>NaN</td>\n",
       "      <td>1</td>\n",
       "      <td>1</td>\n",
       "      <td>2003.0</td>\n",
       "      <td>2003-08-13 00:00:00</td>\n",
       "      <td>NaN</td>\n",
       "      <td>Richard R. \"Rick\" Roscitt has accepted a new p...</td>\n",
       "      <td>https://www.businesswire.com/news/home/2003081...</td>\n",
       "    </tr>\n",
       "  </tbody>\n",
       "</table>\n",
       "</div>"
      ],
      "text/plain": [
       "                     firm_name  firm_id  year  ceo_id   \n",
       "id                                                      \n",
       "1                     AAR CORP     1004  1995    5622  \\\n",
       "2                     AAR CORP     1004  2017    5623   \n",
       "3                     AAR CORP     1004  2018   51547   \n",
       "4   ADC TELECOMMUNICATIONS INC     1013  2000    2611   \n",
       "5   ADC TELECOMMUNICATIONS INC     1013  2003   23275   \n",
       "\n",
       "                    ceo_name  depart_code  ceo_dismi interim_or_co  tenure_no   \n",
       "id                                                                              \n",
       "1             Ira A. Eichner          5.0        0.0           NaN          1  \\\n",
       "2            David P. Storch          5.0        0.0           NaN          1   \n",
       "3   John McClain Holmes, III          NaN        NaN           NaN          1   \n",
       "4         William J. Cadogan          6.0        0.0           NaN          1   \n",
       "5         Richard R. Roscitt          6.0        0.0           NaN          1   \n",
       "\n",
       "    max_tenure  fy_gone            date_gone still_active   \n",
       "id                                                          \n",
       "1            1   1996.0  1996-10-01 00:00:00          NaN  \\\n",
       "2            1   2018.0  2018-05-31 00:00:00          NaN   \n",
       "3            1      NaN                  NaN    17nov2020   \n",
       "4            1   2001.0  2001-02-15 00:00:00          NaN   \n",
       "5            1   2003.0  2003-08-13 00:00:00          NaN   \n",
       "\n",
       "                                               notes1   \n",
       "id                                                      \n",
       "1   Mr. Ira A. Eichner served as CEO until October...  \\\n",
       "2   Agreed to stay as non-executive chairman post ...   \n",
       "3                                                 NaN   \n",
       "4   William Cadogan, the retiring CEO and chairman...   \n",
       "5   Richard R. \"Rick\" Roscitt has accepted a new p...   \n",
       "\n",
       "                                               notes2  \n",
       "id                                                     \n",
       "1   https://www.comparably.com/companies/aar-corp/...  \n",
       "2   https://advance-lexis-com.umiss.idm.oclc.org/a...  \n",
       "3   https://www.aarcorp.com/about/corporate-officers/  \n",
       "4   https://www.bizjournals.com/twincities/stories...  \n",
       "5   https://www.businesswire.com/news/home/2003081...  "
      ]
     },
     "execution_count": 3,
     "metadata": {},
     "output_type": "execute_result"
    }
   ],
   "source": [
    "col_names = ['id', 'firm_name' , 'firm_id', 'year', 'ceo_id', 'ceo_name', 'depart_code', 'ceo_dismi', 'interim_or_co',\n",
    "             'tenure_no', 'max_tenure', 'fy_gone', 'date_gone', 'still_active', 'notes1', 'notes2']\n",
    "\n",
    "df = pd.read_excel('./data/CEO Dismissal Data 2021.02.03.xlsx', 'Sheet1', engine='openpyxl',\n",
    "                   index_col=0, names=col_names)\n",
    "\n",
    "df.head(n = 5)"
   ]
  },
  {
   "cell_type": "code",
   "execution_count": null,
   "id": "96625376",
   "metadata": {},
   "outputs": [],
   "source": [
    "url = 'https://zenodo.org/record/4543893/files/CEO%20Dismissal%20Data%202021.02.03.xlsx?download=1'\n",
    "\n",
    "df = pd.read_excel(url, 'Sheet1', engine='openpyxl', index_col=0, names=col_names)"
   ]
  },
  {
   "cell_type": "code",
   "execution_count": null,
   "id": "3e78db6d",
   "metadata": {},
   "outputs": [],
   "source": [
    "df.shape  # achtung: bei shape handelt es sich um ein Attribut des DataFrames, nicht um eine Methode!"
   ]
  },
  {
   "cell_type": "code",
   "execution_count": null,
   "id": "1d715eed",
   "metadata": {},
   "outputs": [],
   "source": [
    "df.columns"
   ]
  },
  {
   "cell_type": "code",
   "execution_count": null,
   "id": "cleared-empire",
   "metadata": {},
   "outputs": [],
   "source": [
    "df.info()"
   ]
  },
  {
   "cell_type": "code",
   "execution_count": null,
   "id": "informational-terrain",
   "metadata": {},
   "outputs": [],
   "source": [
    "df.to_csv('./data/CEO Dismissal Data 2021.02.03.csv')  # achtung: bad naming convention!"
   ]
  },
  {
   "cell_type": "code",
   "execution_count": null,
   "id": "colored-madness",
   "metadata": {},
   "outputs": [],
   "source": [
    "df.to_csv?"
   ]
  },
  {
   "cell_type": "code",
   "execution_count": null,
   "id": "alternate-tribune",
   "metadata": {},
   "outputs": [],
   "source": [
    "df.to_csv('./data/CEO Dismissal Data 2021.02.03.csv', sep=';', decimal=',')"
   ]
  },
  {
   "cell_type": "markdown",
   "id": "92ba3b13",
   "metadata": {},
   "source": [
    "##### 3.4 Operationen auf Zeilen"
   ]
  },
  {
   "cell_type": "markdown",
   "id": "ba67d453",
   "metadata": {},
   "source": [
    "**Indexing / Slicing:**"
   ]
  },
  {
   "cell_type": "code",
   "execution_count": null,
   "id": "d146cb72",
   "metadata": {},
   "outputs": [],
   "source": [
    "df.head(5)"
   ]
  },
  {
   "cell_type": "code",
   "execution_count": null,
   "id": "7f8dc8d8",
   "metadata": {},
   "outputs": [],
   "source": [
    "df.iloc[5]"
   ]
  },
  {
   "cell_type": "code",
   "execution_count": null,
   "id": "9f135e88",
   "metadata": {},
   "outputs": [],
   "source": [
    "# hier führen .loc und .iloc zum gleichen Ergebnis, da der DataFrame-Index eine Zahl ist\n",
    "df.loc[5]"
   ]
  },
  {
   "cell_type": "code",
   "execution_count": 4,
   "id": "dbab4579",
   "metadata": {},
   "outputs": [
    {
     "data": {
      "text/html": [
       "<div>\n",
       "<style scoped>\n",
       "    .dataframe tbody tr th:only-of-type {\n",
       "        vertical-align: middle;\n",
       "    }\n",
       "\n",
       "    .dataframe tbody tr th {\n",
       "        vertical-align: top;\n",
       "    }\n",
       "\n",
       "    .dataframe thead th {\n",
       "        text-align: right;\n",
       "    }\n",
       "</style>\n",
       "<table border=\"1\" class=\"dataframe\">\n",
       "  <thead>\n",
       "    <tr style=\"text-align: right;\">\n",
       "      <th></th>\n",
       "      <th>firm_name</th>\n",
       "      <th>firm_id</th>\n",
       "      <th>year</th>\n",
       "      <th>ceo_id</th>\n",
       "      <th>ceo_name</th>\n",
       "      <th>depart_code</th>\n",
       "      <th>ceo_dismi</th>\n",
       "      <th>interim_or_co</th>\n",
       "      <th>tenure_no</th>\n",
       "      <th>max_tenure</th>\n",
       "      <th>fy_gone</th>\n",
       "      <th>date_gone</th>\n",
       "      <th>still_active</th>\n",
       "      <th>notes1</th>\n",
       "      <th>notes2</th>\n",
       "    </tr>\n",
       "    <tr>\n",
       "      <th>id</th>\n",
       "      <th></th>\n",
       "      <th></th>\n",
       "      <th></th>\n",
       "      <th></th>\n",
       "      <th></th>\n",
       "      <th></th>\n",
       "      <th></th>\n",
       "      <th></th>\n",
       "      <th></th>\n",
       "      <th></th>\n",
       "      <th></th>\n",
       "      <th></th>\n",
       "      <th></th>\n",
       "      <th></th>\n",
       "      <th></th>\n",
       "    </tr>\n",
       "  </thead>\n",
       "  <tbody>\n",
       "    <tr>\n",
       "      <th>6</th>\n",
       "      <td>ADC TELECOMMUNICATIONS INC</td>\n",
       "      <td>1013</td>\n",
       "      <td>2010</td>\n",
       "      <td>8741</td>\n",
       "      <td>Robert E. Switz</td>\n",
       "      <td>7.0</td>\n",
       "      <td>0.0</td>\n",
       "      <td>NaN</td>\n",
       "      <td>1</td>\n",
       "      <td>1</td>\n",
       "      <td>2011.0</td>\n",
       "      <td>2010-12-01 00:00:00</td>\n",
       "      <td>NaN</td>\n",
       "      <td>Robert E. Switz was the chairman, president an...</td>\n",
       "      <td>https://www.micron.com/about/our-company/leade...</td>\n",
       "    </tr>\n",
       "  </tbody>\n",
       "</table>\n",
       "</div>"
      ],
      "text/plain": [
       "                     firm_name  firm_id  year  ceo_id         ceo_name   \n",
       "id                                                                       \n",
       "6   ADC TELECOMMUNICATIONS INC     1013  2010    8741  Robert E. Switz  \\\n",
       "\n",
       "    depart_code  ceo_dismi interim_or_co  tenure_no  max_tenure  fy_gone   \n",
       "id                                                                         \n",
       "6           7.0        0.0           NaN          1           1   2011.0  \\\n",
       "\n",
       "              date_gone still_active   \n",
       "id                                     \n",
       "6   2010-12-01 00:00:00          NaN  \\\n",
       "\n",
       "                                               notes1   \n",
       "id                                                      \n",
       "6   Robert E. Switz was the chairman, president an...  \\\n",
       "\n",
       "                                               notes2  \n",
       "id                                                     \n",
       "6   https://www.micron.com/about/our-company/leade...  "
      ]
     },
     "execution_count": 4,
     "metadata": {},
     "output_type": "execute_result"
    }
   ],
   "source": [
    "df.iloc[5:6]"
   ]
  },
  {
   "cell_type": "code",
   "execution_count": 5,
   "id": "00a349ca",
   "metadata": {},
   "outputs": [
    {
     "data": {
      "text/html": [
       "<div>\n",
       "<style scoped>\n",
       "    .dataframe tbody tr th:only-of-type {\n",
       "        vertical-align: middle;\n",
       "    }\n",
       "\n",
       "    .dataframe tbody tr th {\n",
       "        vertical-align: top;\n",
       "    }\n",
       "\n",
       "    .dataframe thead th {\n",
       "        text-align: right;\n",
       "    }\n",
       "</style>\n",
       "<table border=\"1\" class=\"dataframe\">\n",
       "  <thead>\n",
       "    <tr style=\"text-align: right;\">\n",
       "      <th></th>\n",
       "      <th>firm_name</th>\n",
       "      <th>firm_id</th>\n",
       "      <th>year</th>\n",
       "      <th>ceo_id</th>\n",
       "      <th>ceo_name</th>\n",
       "      <th>depart_code</th>\n",
       "      <th>ceo_dismi</th>\n",
       "      <th>interim_or_co</th>\n",
       "      <th>tenure_no</th>\n",
       "      <th>max_tenure</th>\n",
       "      <th>fy_gone</th>\n",
       "      <th>date_gone</th>\n",
       "      <th>still_active</th>\n",
       "      <th>notes1</th>\n",
       "      <th>notes2</th>\n",
       "    </tr>\n",
       "    <tr>\n",
       "      <th>id</th>\n",
       "      <th></th>\n",
       "      <th></th>\n",
       "      <th></th>\n",
       "      <th></th>\n",
       "      <th></th>\n",
       "      <th></th>\n",
       "      <th></th>\n",
       "      <th></th>\n",
       "      <th></th>\n",
       "      <th></th>\n",
       "      <th></th>\n",
       "      <th></th>\n",
       "      <th></th>\n",
       "      <th></th>\n",
       "      <th></th>\n",
       "    </tr>\n",
       "  </thead>\n",
       "  <tbody>\n",
       "    <tr>\n",
       "      <th>6</th>\n",
       "      <td>ADC TELECOMMUNICATIONS INC</td>\n",
       "      <td>1013</td>\n",
       "      <td>2010</td>\n",
       "      <td>8741</td>\n",
       "      <td>Robert E. Switz</td>\n",
       "      <td>7.0</td>\n",
       "      <td>0.0</td>\n",
       "      <td>NaN</td>\n",
       "      <td>1</td>\n",
       "      <td>1</td>\n",
       "      <td>2011.0</td>\n",
       "      <td>2010-12-01 00:00:00</td>\n",
       "      <td>NaN</td>\n",
       "      <td>Robert E. Switz was the chairman, president an...</td>\n",
       "      <td>https://www.micron.com/about/our-company/leade...</td>\n",
       "    </tr>\n",
       "    <tr>\n",
       "      <th>7</th>\n",
       "      <td>ALPHARMA INC -CL A</td>\n",
       "      <td>1034</td>\n",
       "      <td>1993</td>\n",
       "      <td>5628</td>\n",
       "      <td>Jeffrey E. Smith</td>\n",
       "      <td>5.0</td>\n",
       "      <td>0.0</td>\n",
       "      <td>NaN</td>\n",
       "      <td>1</td>\n",
       "      <td>1</td>\n",
       "      <td>1994.0</td>\n",
       "      <td>1994-06-01 00:00:00</td>\n",
       "      <td>NaN</td>\n",
       "      <td>From 1985 to 2002, Jeffrey E. Smith served in ...</td>\n",
       "      <td>https://www.biospace.com/article/releases/pdi-...</td>\n",
       "    </tr>\n",
       "  </tbody>\n",
       "</table>\n",
       "</div>"
      ],
      "text/plain": [
       "                     firm_name  firm_id  year  ceo_id          ceo_name   \n",
       "id                                                                        \n",
       "6   ADC TELECOMMUNICATIONS INC     1013  2010    8741   Robert E. Switz  \\\n",
       "7           ALPHARMA INC -CL A     1034  1993    5628  Jeffrey E. Smith   \n",
       "\n",
       "    depart_code  ceo_dismi interim_or_co  tenure_no  max_tenure  fy_gone   \n",
       "id                                                                         \n",
       "6           7.0        0.0           NaN          1           1   2011.0  \\\n",
       "7           5.0        0.0           NaN          1           1   1994.0   \n",
       "\n",
       "              date_gone still_active   \n",
       "id                                     \n",
       "6   2010-12-01 00:00:00          NaN  \\\n",
       "7   1994-06-01 00:00:00          NaN   \n",
       "\n",
       "                                               notes1   \n",
       "id                                                      \n",
       "6   Robert E. Switz was the chairman, president an...  \\\n",
       "7   From 1985 to 2002, Jeffrey E. Smith served in ...   \n",
       "\n",
       "                                               notes2  \n",
       "id                                                     \n",
       "6   https://www.micron.com/about/our-company/leade...  \n",
       "7   https://www.biospace.com/article/releases/pdi-...  "
      ]
     },
     "execution_count": 5,
     "metadata": {},
     "output_type": "execute_result"
    }
   ],
   "source": [
    "df.iloc[5:7]"
   ]
  },
  {
   "cell_type": "code",
   "execution_count": null,
   "id": "4c91deb5",
   "metadata": {},
   "outputs": [],
   "source": [
    "df.iloc[[5, 10, 15]]"
   ]
  },
  {
   "cell_type": "code",
   "execution_count": 6,
   "id": "161141aa",
   "metadata": {},
   "outputs": [
    {
     "data": {
      "text/html": [
       "<div>\n",
       "<style scoped>\n",
       "    .dataframe tbody tr th:only-of-type {\n",
       "        vertical-align: middle;\n",
       "    }\n",
       "\n",
       "    .dataframe tbody tr th {\n",
       "        vertical-align: top;\n",
       "    }\n",
       "\n",
       "    .dataframe thead th {\n",
       "        text-align: right;\n",
       "    }\n",
       "</style>\n",
       "<table border=\"1\" class=\"dataframe\">\n",
       "  <thead>\n",
       "    <tr style=\"text-align: right;\">\n",
       "      <th></th>\n",
       "      <th>firm_name</th>\n",
       "      <th>firm_id</th>\n",
       "      <th>year</th>\n",
       "      <th>ceo_id</th>\n",
       "      <th>ceo_name</th>\n",
       "      <th>depart_code</th>\n",
       "      <th>ceo_dismi</th>\n",
       "      <th>interim_or_co</th>\n",
       "      <th>tenure_no</th>\n",
       "      <th>max_tenure</th>\n",
       "      <th>fy_gone</th>\n",
       "      <th>date_gone</th>\n",
       "      <th>still_active</th>\n",
       "      <th>notes1</th>\n",
       "      <th>notes2</th>\n",
       "    </tr>\n",
       "    <tr>\n",
       "      <th>id</th>\n",
       "      <th></th>\n",
       "      <th></th>\n",
       "      <th></th>\n",
       "      <th></th>\n",
       "      <th></th>\n",
       "      <th></th>\n",
       "      <th></th>\n",
       "      <th></th>\n",
       "      <th></th>\n",
       "      <th></th>\n",
       "      <th></th>\n",
       "      <th></th>\n",
       "      <th></th>\n",
       "      <th></th>\n",
       "      <th></th>\n",
       "    </tr>\n",
       "  </thead>\n",
       "  <tbody>\n",
       "    <tr>\n",
       "      <th>9025</th>\n",
       "      <td>LYONDELLBASELL INDUSTRIES NV</td>\n",
       "      <td>294524</td>\n",
       "      <td>2017</td>\n",
       "      <td>46408</td>\n",
       "      <td>Bhavesh V. Patel</td>\n",
       "      <td>NaN</td>\n",
       "      <td>NaN</td>\n",
       "      <td>NaN</td>\n",
       "      <td>1</td>\n",
       "      <td>1</td>\n",
       "      <td>NaN</td>\n",
       "      <td>NaN</td>\n",
       "      <td>03feb2021</td>\n",
       "      <td>NaN</td>\n",
       "      <td>NaN</td>\n",
       "    </tr>\n",
       "    <tr>\n",
       "      <th>9026</th>\n",
       "      <td>ALLEGION PLC</td>\n",
       "      <td>316056</td>\n",
       "      <td>2017</td>\n",
       "      <td>48314</td>\n",
       "      <td>David D. Petratis</td>\n",
       "      <td>NaN</td>\n",
       "      <td>NaN</td>\n",
       "      <td>NaN</td>\n",
       "      <td>1</td>\n",
       "      <td>1</td>\n",
       "      <td>NaN</td>\n",
       "      <td>NaN</td>\n",
       "      <td>03feb2021</td>\n",
       "      <td>NaN</td>\n",
       "      <td>NaN</td>\n",
       "    </tr>\n",
       "    <tr>\n",
       "      <th>9027</th>\n",
       "      <td>DORIAN LPG LTD</td>\n",
       "      <td>317264</td>\n",
       "      <td>2019</td>\n",
       "      <td>63143</td>\n",
       "      <td>John C. Hadjipateras</td>\n",
       "      <td>NaN</td>\n",
       "      <td>NaN</td>\n",
       "      <td>NaN</td>\n",
       "      <td>1</td>\n",
       "      <td>1</td>\n",
       "      <td>NaN</td>\n",
       "      <td>NaN</td>\n",
       "      <td>03feb2021</td>\n",
       "      <td>NaN</td>\n",
       "      <td>https://dorianlpg.com/about/management/default...</td>\n",
       "    </tr>\n",
       "    <tr>\n",
       "      <th>9028</th>\n",
       "      <td>NVENT ELECTRIC PLC</td>\n",
       "      <td>326688</td>\n",
       "      <td>2019</td>\n",
       "      <td>62002</td>\n",
       "      <td>Beth A. Wozniak</td>\n",
       "      <td>NaN</td>\n",
       "      <td>NaN</td>\n",
       "      <td>NaN</td>\n",
       "      <td>1</td>\n",
       "      <td>1</td>\n",
       "      <td>NaN</td>\n",
       "      <td>NaN</td>\n",
       "      <td>03feb2021</td>\n",
       "      <td>NaN</td>\n",
       "      <td>https://www.nvent.com/en-us/about-nvent/execut...</td>\n",
       "    </tr>\n",
       "    <tr>\n",
       "      <th>9029</th>\n",
       "      <td>ARCOSA INC</td>\n",
       "      <td>328795</td>\n",
       "      <td>2019</td>\n",
       "      <td>61546</td>\n",
       "      <td>Antonio Carrillo</td>\n",
       "      <td>NaN</td>\n",
       "      <td>NaN</td>\n",
       "      <td>NaN</td>\n",
       "      <td>1</td>\n",
       "      <td>1</td>\n",
       "      <td>NaN</td>\n",
       "      <td>NaN</td>\n",
       "      <td>03feb2021</td>\n",
       "      <td>NaN</td>\n",
       "      <td>https://craft.co/arcosa/executives#:~:text=Arc...</td>\n",
       "    </tr>\n",
       "  </tbody>\n",
       "</table>\n",
       "</div>"
      ],
      "text/plain": [
       "                         firm_name  firm_id  year  ceo_id   \n",
       "id                                                          \n",
       "9025  LYONDELLBASELL INDUSTRIES NV   294524  2017   46408  \\\n",
       "9026                  ALLEGION PLC   316056  2017   48314   \n",
       "9027                DORIAN LPG LTD   317264  2019   63143   \n",
       "9028            NVENT ELECTRIC PLC   326688  2019   62002   \n",
       "9029                    ARCOSA INC   328795  2019   61546   \n",
       "\n",
       "                  ceo_name  depart_code  ceo_dismi interim_or_co  tenure_no   \n",
       "id                                                                            \n",
       "9025      Bhavesh V. Patel          NaN        NaN           NaN          1  \\\n",
       "9026     David D. Petratis          NaN        NaN           NaN          1   \n",
       "9027  John C. Hadjipateras          NaN        NaN           NaN          1   \n",
       "9028       Beth A. Wozniak          NaN        NaN           NaN          1   \n",
       "9029      Antonio Carrillo          NaN        NaN           NaN          1   \n",
       "\n",
       "      max_tenure  fy_gone date_gone still_active notes1   \n",
       "id                                                        \n",
       "9025           1      NaN       NaN    03feb2021    NaN  \\\n",
       "9026           1      NaN       NaN    03feb2021    NaN   \n",
       "9027           1      NaN       NaN    03feb2021    NaN   \n",
       "9028           1      NaN       NaN    03feb2021    NaN   \n",
       "9029           1      NaN       NaN    03feb2021    NaN   \n",
       "\n",
       "                                                 notes2  \n",
       "id                                                       \n",
       "9025                                                NaN  \n",
       "9026                                                NaN  \n",
       "9027  https://dorianlpg.com/about/management/default...  \n",
       "9028  https://www.nvent.com/en-us/about-nvent/execut...  \n",
       "9029  https://craft.co/arcosa/executives#:~:text=Arc...  "
      ]
     },
     "execution_count": 6,
     "metadata": {},
     "output_type": "execute_result"
    }
   ],
   "source": [
    "df.iloc[-5:]"
   ]
  },
  {
   "cell_type": "code",
   "execution_count": null,
   "id": "eebb2691",
   "metadata": {},
   "outputs": [],
   "source": [
    "# mit Pandas können idR mehrere Befehle hintereinander geschaltet werden (chaining)\n",
    "df.drop(5, axis=0).head(n=5)"
   ]
  },
  {
   "cell_type": "code",
   "execution_count": null,
   "id": "9f4a5c60",
   "metadata": {},
   "outputs": [],
   "source": [
    "df.drop(5, axis='rows').head(n=5)"
   ]
  },
  {
   "cell_type": "markdown",
   "id": "400a01ee",
   "metadata": {},
   "source": [
    "**Boolean Masking / Filtern:**"
   ]
  },
  {
   "cell_type": "code",
   "execution_count": null,
   "id": "a75d0fd2",
   "metadata": {},
   "outputs": [],
   "source": [
    "df['fy_gone'] > 2010"
   ]
  },
  {
   "cell_type": "code",
   "execution_count": null,
   "id": "f8d70ffc",
   "metadata": {},
   "outputs": [],
   "source": [
    "mask = df['fy_gone'] > 2010\n",
    "df[mask]"
   ]
  },
  {
   "cell_type": "code",
   "execution_count": null,
   "id": "0141cf89",
   "metadata": {},
   "outputs": [],
   "source": [
    "# alternativ in kurz:\n",
    "df[df['fy_gone'] > 2010]"
   ]
  },
  {
   "cell_type": "code",
   "execution_count": null,
   "id": "bc716ad4",
   "metadata": {},
   "outputs": [],
   "source": [
    "# durch \"&\" (und) sowie \"|\" (oder) können mehrere Bedingungen kombiniert werden\n",
    "df[(df['fy_gone'] > 2010) & (df['fy_gone'] < 2015)]"
   ]
  },
  {
   "cell_type": "code",
   "execution_count": null,
   "id": "babf7d4a",
   "metadata": {},
   "outputs": [],
   "source": [
    "df[df['ceo_name'] == 'Ira A. Eichner']  # achtung: exact match"
   ]
  },
  {
   "cell_type": "code",
   "execution_count": null,
   "id": "c16c1df5",
   "metadata": {},
   "outputs": [],
   "source": [
    "df[df['ceo_name'].str.contains('Jobs')]  # string methods erlauben auch partielles matching"
   ]
  },
  {
   "cell_type": "code",
   "execution_count": null,
   "id": "9625d0c2",
   "metadata": {},
   "outputs": [],
   "source": [
    "# alle CEOs, die nicht mehr aktiv sind\n",
    "df[df['still_active'].isna()]"
   ]
  },
  {
   "cell_type": "code",
   "execution_count": null,
   "id": "004895c3",
   "metadata": {},
   "outputs": [],
   "source": [
    "# alle CEOs, die noch aktiv sind\n",
    "df[~df['still_active'].isna()]  # \"~\" als Verneinungsoperator in Pandas"
   ]
  },
  {
   "cell_type": "markdown",
   "id": "e29b239c",
   "metadata": {},
   "source": [
    "**Sortieren:**"
   ]
  },
  {
   "cell_type": "code",
   "execution_count": null,
   "id": "3b07490e",
   "metadata": {},
   "outputs": [],
   "source": [
    "df.sort_index(ascending=False)  # Achtung: `ascending=True` als default"
   ]
  },
  {
   "cell_type": "code",
   "execution_count": null,
   "id": "3efe857c",
   "metadata": {},
   "outputs": [],
   "source": [
    "df.sort_values(by='depart_code', ascending=True)\n",
    "df"
   ]
  },
  {
   "cell_type": "code",
   "execution_count": null,
   "id": "d552e581",
   "metadata": {},
   "outputs": [],
   "source": [
    "# Persistierung der Sortierung mittels `inplace=True` oder Überschreibung der `df` Variable\n",
    "df.sort_values(by='depart_code', ascending=True, inplace=True)\n",
    "df"
   ]
  },
  {
   "cell_type": "code",
   "execution_count": null,
   "id": "d64ca793",
   "metadata": {},
   "outputs": [],
   "source": [
    "df = df.sort_index()\n",
    "df  "
   ]
  },
  {
   "cell_type": "code",
   "execution_count": null,
   "id": "b7f9bb7c",
   "metadata": {},
   "outputs": [],
   "source": [
    "df.sort_values(by=['ceo_id', 'fy_gone'], ascending=True)"
   ]
  },
  {
   "cell_type": "code",
   "execution_count": null,
   "id": "6444d06c",
   "metadata": {},
   "outputs": [],
   "source": [
    "df.sort_values(by=['ceo_id', 'fy_gone'], ascending=[True, False])"
   ]
  },
  {
   "cell_type": "markdown",
   "id": "047be3d3",
   "metadata": {},
   "source": [
    "**Sampling:**"
   ]
  },
  {
   "cell_type": "code",
   "execution_count": null,
   "id": "4274219c",
   "metadata": {},
   "outputs": [],
   "source": [
    "df.head(n=100)"
   ]
  },
  {
   "cell_type": "code",
   "execution_count": null,
   "id": "70aefa94",
   "metadata": {},
   "outputs": [],
   "source": [
    "df.tail(n=100)"
   ]
  },
  {
   "cell_type": "code",
   "execution_count": null,
   "id": "befe0de8",
   "metadata": {},
   "outputs": [],
   "source": [
    "df.sample(n=100, replace=False)"
   ]
  },
  {
   "cell_type": "code",
   "execution_count": null,
   "id": "e03f6e8f",
   "metadata": {},
   "outputs": [],
   "source": [
    "df.sample(frac=0.2, replace=False)"
   ]
  },
  {
   "cell_type": "code",
   "execution_count": null,
   "id": "f8f8d4b0",
   "metadata": {},
   "outputs": [],
   "source": [
    "df.sample(frac=0.2, replace=False, random_state=2023)  # der `random_state` wird häufig auch `seed` genannt"
   ]
  },
  {
   "cell_type": "markdown",
   "id": "463bbca2",
   "metadata": {},
   "source": [
    "**Transformieren:**"
   ]
  },
  {
   "cell_type": "code",
   "execution_count": null,
   "id": "83aa39b5",
   "metadata": {},
   "outputs": [],
   "source": [
    "df.dropna(axis=0, how='any')"
   ]
  },
  {
   "cell_type": "code",
   "execution_count": null,
   "id": "3599402d",
   "metadata": {},
   "outputs": [],
   "source": [
    "df.dropna(axis=0, how='any', subset=['depart_code'])"
   ]
  },
  {
   "cell_type": "code",
   "execution_count": null,
   "id": "6fa43830",
   "metadata": {},
   "outputs": [],
   "source": [
    "df.dropna(axis=0, how='any', subset=['depart_code', 'still_active'])"
   ]
  },
  {
   "cell_type": "code",
   "execution_count": null,
   "id": "7391f097",
   "metadata": {},
   "outputs": [],
   "source": [
    "df.fillna({'depart_code': 1, 'fy_gone': 2010})  # achtung: manueller Eingriff in die Daten!"
   ]
  },
  {
   "cell_type": "code",
   "execution_count": null,
   "metadata": {},
   "outputs": [],
   "source": [
    "df.replace('AAR CORP', 'AAR Corporation')"
   ]
  },
  {
   "cell_type": "code",
   "execution_count": null,
   "id": "2709e45a",
   "metadata": {},
   "outputs": [],
   "source": [
    "df[df['fy_gone'] > 2021]  # angenommene Outlier"
   ]
  },
  {
   "cell_type": "code",
   "execution_count": null,
   "id": "4f8a1195",
   "metadata": {},
   "outputs": [],
   "source": [
    "df[df['fy_gone'] <= 2021]"
   ]
  },
  {
   "cell_type": "markdown",
   "id": "258590e3",
   "metadata": {},
   "source": [
    "##### 3.5 Operationen auf Spalten"
   ]
  },
  {
   "cell_type": "markdown",
   "id": "115177fa",
   "metadata": {},
   "source": [
    "**Indexing / Slicing:**"
   ]
  },
  {
   "cell_type": "code",
   "execution_count": null,
   "id": "6ca202ce",
   "metadata": {},
   "outputs": [],
   "source": [
    "df.iloc[:, 5]"
   ]
  },
  {
   "cell_type": "code",
   "execution_count": null,
   "id": "d519b800",
   "metadata": {},
   "outputs": [],
   "source": [
    "df.loc[:, 'depart_code']"
   ]
  },
  {
   "cell_type": "code",
   "execution_count": null,
   "id": "8503d64a",
   "metadata": {},
   "outputs": [],
   "source": [
    "df['depart_code']  # alternativ: df.depart_code"
   ]
  },
  {
   "cell_type": "code",
   "execution_count": null,
   "id": "7a0f3a94",
   "metadata": {},
   "outputs": [],
   "source": [
    "df[['ceo_id', 'depart_code']]"
   ]
  },
  {
   "cell_type": "code",
   "execution_count": null,
   "id": "23d25849",
   "metadata": {},
   "outputs": [],
   "source": [
    "# alternativ bei vielen Spalten\n",
    "cols = ['ceo_id', 'depart_code']\n",
    "df[cols]"
   ]
  },
  {
   "cell_type": "code",
   "execution_count": null,
   "id": "e12c2656",
   "metadata": {},
   "outputs": [],
   "source": [
    "df.loc[900:1000, 'depart_code']"
   ]
  },
  {
   "cell_type": "code",
   "execution_count": null,
   "id": "a8f5e3fe",
   "metadata": {},
   "outputs": [],
   "source": [
    "df.drop(['notes1', 'notes2'], axis=1)"
   ]
  },
  {
   "cell_type": "code",
   "execution_count": null,
   "id": "ccbff2c3",
   "metadata": {},
   "outputs": [],
   "source": [
    "df"
   ]
  },
  {
   "cell_type": "code",
   "execution_count": null,
   "id": "33a0d757",
   "metadata": {},
   "outputs": [],
   "source": [
    "# um das Ergebnis zu speichern, muss der reduzierte DataFrame in einer neuen Variable gespeichert werden (sonst geht das Ergebnis verloren)\n",
    "# alternativ: Verwendung des `inplace` Arguments!\n",
    "\n",
    "df.drop(['notes2'], axis=1)\n",
    "df"
   ]
  },
  {
   "cell_type": "code",
   "execution_count": null,
   "id": "afb71c57",
   "metadata": {},
   "outputs": [],
   "source": [
    "df.drop(['notes2'], axis=1, inplace=True)\n",
    "df"
   ]
  },
  {
   "cell_type": "markdown",
   "id": "77b4d1ac",
   "metadata": {},
   "source": [
    "**Umbennen:**"
   ]
  },
  {
   "cell_type": "code",
   "execution_count": null,
   "id": "cf877e09",
   "metadata": {},
   "outputs": [],
   "source": [
    "df.rename(columns={'firm_name': 'company_name', 'ceo_dismi': 'dismissed'})"
   ]
  },
  {
   "cell_type": "markdown",
   "id": "2f7f62d2",
   "metadata": {},
   "source": [
    "**Sortieren:**"
   ]
  },
  {
   "cell_type": "code",
   "execution_count": null,
   "id": "d2ac1f92",
   "metadata": {},
   "outputs": [],
   "source": [
    "col_names = ['firm_id', 'firm_name' , 'year', 'ceo_id', 'ceo_name', 'depart_code', 'ceo_dismi',\n",
    "             'interim_or_co', 'tenure_no', 'max_tenure', 'fy_gone', 'date_gone', 'still_active']\n",
    "\n",
    "df.reindex(columns=col_names)"
   ]
  },
  {
   "cell_type": "markdown",
   "id": "8ea0d9e6",
   "metadata": {},
   "source": [
    "**Transformieren:**"
   ]
  },
  {
   "cell_type": "code",
   "execution_count": null,
   "id": "2aa92d66",
   "metadata": {},
   "outputs": [],
   "source": [
    "dismis_dates = df['date_gone']\n",
    "dismis_dates"
   ]
  },
  {
   "cell_type": "code",
   "execution_count": null,
   "id": "e85871c1",
   "metadata": {},
   "outputs": [],
   "source": [
    "dismis_dates = pd.to_datetime(dismis_dates, errors='coerce')\n",
    "dismis_dates"
   ]
  },
  {
   "cell_type": "code",
   "execution_count": null,
   "id": "f5620385",
   "metadata": {},
   "outputs": [],
   "source": [
    "dismis_month = dismis_dates.dt.month_name()\n",
    "dismis_month"
   ]
  },
  {
   "cell_type": "code",
   "execution_count": null,
   "id": "1f6e67de",
   "metadata": {},
   "outputs": [],
   "source": [
    "df['month_gone'] = dismis_month\n",
    "df"
   ]
  },
  {
   "cell_type": "markdown",
   "id": "legitimate-power",
   "metadata": {},
   "source": [
    "##### 3.6 Datenaggregation auf Spalten"
   ]
  },
  {
   "cell_type": "markdown",
   "id": "2b4b38bf",
   "metadata": {},
   "source": [
    "**Univariate Statistiken:**"
   ]
  },
  {
   "cell_type": "code",
   "execution_count": null,
   "id": "642c8077",
   "metadata": {},
   "outputs": [],
   "source": [
    "df['max_tenure'].mean(), df['max_tenure'].median()"
   ]
  },
  {
   "cell_type": "code",
   "execution_count": null,
   "id": "bb01f358",
   "metadata": {},
   "outputs": [],
   "source": [
    "print(\"Probability of dismissal:\\t\\t\", df['ceo_dismi'].mean())\n",
    "print(\"Probability of dismissal (exkl. NA):\\t\", df['ceo_dismi'].mean(skipna=True))\n",
    "print(\"Probability of dismissal (inkl. NA):\\t\", df['ceo_dismi'].mean(skipna=False))"
   ]
  },
  {
   "cell_type": "code",
   "execution_count": null,
   "id": "ad9e94a2",
   "metadata": {},
   "outputs": [],
   "source": [
    "print(\"Number of dismissals:\\t\", df['ceo_dismi'].sum())\n",
    "print(\"Main fluctuation year:\\t\", df['fy_gone'].mode()[0])"
   ]
  },
  {
   "cell_type": "code",
   "execution_count": null,
   "id": "75fc8d6f",
   "metadata": {},
   "outputs": [],
   "source": [
    "print(\"First dismissal:\\t\", df['fy_gone'].min())\n",
    "print(\"Last dismissal:\\t\\t\", df['fy_gone'].max())"
   ]
  },
  {
   "cell_type": "markdown",
   "id": "6fe24cfa",
   "metadata": {},
   "source": [
    "**Bivariate Statistiken:**"
   ]
  },
  {
   "cell_type": "code",
   "execution_count": null,
   "id": "79958a6b",
   "metadata": {},
   "outputs": [],
   "source": [
    "df['tenure_no'].corr(df['max_tenure'])"
   ]
  },
  {
   "cell_type": "code",
   "execution_count": null,
   "id": "d05c5128",
   "metadata": {},
   "outputs": [],
   "source": [
    "df.corr(method='pearson')"
   ]
  },
  {
   "cell_type": "code",
   "execution_count": null,
   "id": "0067b54b",
   "metadata": {},
   "outputs": [],
   "source": [
    "# mehr zum Thema Korrelationen in der Vorlesung \"Korrelation & Kausalität\"\n",
    "df.corr(method='pearson', numeric_only=True)"
   ]
  },
  {
   "cell_type": "code",
   "execution_count": null,
   "id": "2d1920a0",
   "metadata": {},
   "outputs": [],
   "source": [
    "df.corr(method='spearman', numeric_only=True)"
   ]
  },
  {
   "cell_type": "markdown",
   "id": "1f47efbd",
   "metadata": {},
   "source": [
    "**Einzigartige Werte:**"
   ]
  },
  {
   "cell_type": "code",
   "execution_count": null,
   "id": "13030aad",
   "metadata": {},
   "outputs": [],
   "source": [
    "df['depart_code'].unique()"
   ]
  },
  {
   "cell_type": "code",
   "execution_count": null,
   "id": "4c89a13e",
   "metadata": {},
   "outputs": [],
   "source": [
    "df['depart_code'].value_counts()"
   ]
  },
  {
   "cell_type": "code",
   "execution_count": null,
   "id": "b74ad334",
   "metadata": {},
   "outputs": [],
   "source": [
    "df.describe()"
   ]
  },
  {
   "cell_type": "markdown",
   "id": "8ab4e04c",
   "metadata": {},
   "source": [
    "**Z-Standardisierung:**"
   ]
  },
  {
   "cell_type": "code",
   "execution_count": null,
   "id": "034760a1",
   "metadata": {},
   "outputs": [],
   "source": [
    "df['year']"
   ]
  },
  {
   "cell_type": "code",
   "execution_count": null,
   "id": "50c2ce3f",
   "metadata": {},
   "outputs": [],
   "source": [
    "(df['year'] - df['year'].mean()) / df['year'].std()"
   ]
  },
  {
   "cell_type": "markdown",
   "id": "dbb0e314",
   "metadata": {},
   "source": [
    "##### 3.7 Operationen auf Gruppen"
   ]
  },
  {
   "cell_type": "code",
   "execution_count": null,
   "id": "elementary-credits",
   "metadata": {},
   "outputs": [],
   "source": [
    "data = {'year': [1995, 2017, 2018, 1995],\n",
    "        'exec_fullname': ['Ira A. Eichner', 'David P. Storch',\n",
    "                          'John McClain Holmes, III', 'William J. Cadogan'],\n",
    "        'Departure Code': [5, 5, None, 6]}\n",
    "\n",
    "df_dummy = pd.DataFrame(data)\n",
    "df_dummy"
   ]
  },
  {
   "cell_type": "code",
   "execution_count": null,
   "id": "bizarre-azerbaijan",
   "metadata": {},
   "outputs": [],
   "source": [
    "grouped_df = df_dummy.groupby('year')['Departure Code']\n",
    "grouped_df"
   ]
  },
  {
   "cell_type": "code",
   "execution_count": null,
   "id": "3e3b367e",
   "metadata": {},
   "outputs": [],
   "source": [
    "grouped_df.sum()"
   ]
  },
  {
   "cell_type": "code",
   "execution_count": null,
   "id": "representative-cotton",
   "metadata": {},
   "outputs": [],
   "source": [
    "grouped_df.mean()"
   ]
  },
  {
   "cell_type": "code",
   "execution_count": null,
   "id": "149448f5",
   "metadata": {},
   "outputs": [],
   "source": [
    "grouped_df.agg(['sum', 'mean'])"
   ]
  },
  {
   "cell_type": "code",
   "execution_count": null,
   "id": "954e5f28",
   "metadata": {},
   "outputs": [],
   "source": [
    "grouped_df.agg([('total','sum'), ('average','mean')])"
   ]
  },
  {
   "cell_type": "code",
   "execution_count": null,
   "id": "fcdbc5fe",
   "metadata": {},
   "outputs": [],
   "source": [
    "data2 = {'year': [1995, 2018, 2018, 1995],\n",
    "        'exec_fullname': ['Ira A. Eichner', 'David P. Storch',\n",
    "                          'John McClain Holmes, III', 'William J. Cadogan'],\n",
    "        'Departure Code': [5, 5, None, 6]}\n",
    "\n",
    "df_dummy2 = pd.DataFrame(data2)\n",
    "df_dummy2"
   ]
  },
  {
   "cell_type": "code",
   "execution_count": null,
   "id": "dental-audience",
   "metadata": {},
   "outputs": [],
   "source": [
    "df_dummy2.groupby('year').apply(\n",
    "    lambda g: g[g['Departure Code'] == 5]\n",
    ") "
   ]
  },
  {
   "cell_type": "code",
   "execution_count": null,
   "id": "36eacfff",
   "metadata": {},
   "outputs": [],
   "source": [
    "df_dummy2.groupby('year').apply(\n",
    "    lambda g: g['Departure Code'].fillna(\n",
    "        g['Departure Code'].mean()\n",
    "    )\n",
    ")"
   ]
  },
  {
   "cell_type": "code",
   "execution_count": null,
   "id": "492c45e4",
   "metadata": {},
   "outputs": [],
   "source": [
    "# alternativ:\n",
    "\n",
    "def mean_impute(g):\n",
    "    group_mean = g['Departure Code'].mean()\n",
    "    return g['Departure Code'].fillna(group_mean)\n",
    "\n",
    "df_dummy2.groupby('year').apply(lambda g: mean_impute(g))"
   ]
  }
 ],
 "metadata": {
  "interpreter": {
   "hash": "52634da84371cba311ea128a5ea7cdc41ff074b781779e754b270ff9f8153cee"
  },
  "kernelspec": {
   "display_name": "Python 3.8.5 64-bit",
   "language": "python",
   "name": "python3"
  },
  "language_info": {
   "codemirror_mode": {
    "name": "ipython",
    "version": 3
   },
   "file_extension": ".py",
   "mimetype": "text/x-python",
   "name": "python",
   "nbconvert_exporter": "python",
   "pygments_lexer": "ipython3",
   "version": "3.8.5"
  }
 },
 "nbformat": 4,
 "nbformat_minor": 5
}
