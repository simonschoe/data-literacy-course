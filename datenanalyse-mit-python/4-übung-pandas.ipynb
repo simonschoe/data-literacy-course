{
 "cells": [
  {
   "cell_type": "markdown",
   "id": "2b8b41c7",
   "metadata": {},
   "source": [
    "### Übungsaufgaben Kapitel 3 - Datenmanipulation und Datenanalyse"
   ]
  },
  {
   "cell_type": "code",
   "execution_count": null,
   "id": "4e1f563a",
   "metadata": {},
   "outputs": [],
   "source": [
    "# Im Gegensatz zu `pandas` ist `openpyxl` noch nicht vorinstalliert\n",
    "!pip install openpyxl"
   ]
  },
  {
   "cell_type": "code",
   "execution_count": 1,
   "id": "df4721e2",
   "metadata": {},
   "outputs": [],
   "source": [
    "import pandas as pd"
   ]
  },
  {
   "cell_type": "markdown",
   "id": "0e38a1af",
   "metadata": {},
   "source": [
    "**Hinweis:** Wir benennen die Spaltennamen des *CEO dissmissal* Datensatzes beim Datenimport um, um uns nachfolgend die Verarbeitung zu erleichtern:\n",
    "\n",
    "```python\n",
    "{'dismissal_dataset_id': 'id'\n",
    " 'coname': 'firm_name'\n",
    " 'gvkey': 'firm_id'\n",
    " 'year': 'year'\n",
    " 'co_per_rol': 'ceo_id'\n",
    " 'exec_fullname': 'ceo_name'\n",
    " 'Departure Code': 'depart_code'\n",
    " 'ceo_dismissal': 'ceo_dismi'\n",
    " 'Interim & Co-CEO': 'interim_or_co'\n",
    " 'tenure_no': 'tenure_no'\n",
    " 'max_tenure_ceodb': 'max_tenure'\n",
    " 'The fiscal year during which the CEO exited - for clarity': 'fy_gone'\n",
    " 'leftofc': 'date_gone'\n",
    " 'Still There': 'still_active'\n",
    " 'Notes and Thoughts': 'notes1'\n",
    " 'Notes 2': 'notes2'}\n",
    "```"
   ]
  },
  {
   "cell_type": "code",
   "execution_count": null,
   "id": "7ef7048b",
   "metadata": {},
   "outputs": [],
   "source": [
    "col_names = ['id', 'firm_name' , 'firm_id', 'year', 'ceo_id', 'ceo_name', 'depart_code', 'ceo_dismi', 'interim_or_co',\n",
    "             'tenure_no', 'max_tenure', 'fy_gone', 'date_gone', 'still_active', 'notes1', 'notes2']\n",
    "\n",
    "url = 'https://zenodo.org/record/4543893/files/CEO%20Dismissal%20Data%202021.02.03.xlsx?download=1'\n",
    "\n",
    "df = pd.read_excel(url, 'Sheet1', engine='openpyxl', index_col=0, names=col_names)\n",
    "\n",
    "df.head(n=5)"
   ]
  },
  {
   "cell_type": "markdown",
   "id": "92ba3b13",
   "metadata": {},
   "source": [
    "##### 3.4 Operationen auf Zeilen\n",
    "\n",
    "*Hinweis: Durch klick auf das kleine `+` in der oberen Toolbar oder durch selektieren einer Code Zelle und klicken der Tasten `a` (above) oder `b` (below) können neue Code Zellen eingefügt werden.*"
   ]
  },
  {
   "cell_type": "markdown",
   "id": "232021af",
   "metadata": {},
   "source": [
    "1. Selektiere die ersten 3 Beobachtungen des Datensatzes."
   ]
  },
  {
   "cell_type": "code",
   "execution_count": null,
   "id": "2bfb03b8",
   "metadata": {},
   "outputs": [],
   "source": []
  },
  {
   "cell_type": "markdown",
   "id": "242ae4d3",
   "metadata": {},
   "source": [
    "2. Selektiere die letzten 100 Beobachtungen des Datensatzes."
   ]
  },
  {
   "cell_type": "code",
   "execution_count": null,
   "id": "1028e83d",
   "metadata": {},
   "outputs": [],
   "source": []
  },
  {
   "cell_type": "markdown",
   "id": "3cf62194",
   "metadata": {},
   "source": [
    "3. Selektiere alle Beobachtungen aus dem Jahr 2000 und früher (Spalte `year`)."
   ]
  },
  {
   "cell_type": "code",
   "execution_count": null,
   "id": "dcb286ee",
   "metadata": {},
   "outputs": [],
   "source": []
  },
  {
   "cell_type": "markdown",
   "id": "de6d92f5",
   "metadata": {},
   "source": [
    "4. Selektiere alle Beobachtungen aus dem Jahr 2000 und früher oder 2010 und später (Spalte `year`)."
   ]
  },
  {
   "cell_type": "code",
   "execution_count": null,
   "id": "03aaa59b",
   "metadata": {},
   "outputs": [],
   "source": []
  },
  {
   "attachments": {},
   "cell_type": "markdown",
   "id": "d71876db",
   "metadata": {},
   "source": [
    "5. Selektiere alle CEOs, denen in der zweiten Amtszeit (`tenure_no == 2`) gekündigt wurde (`ceo_dismi == 1`)."
   ]
  },
  {
   "cell_type": "code",
   "execution_count": null,
   "id": "6a41b4cc",
   "metadata": {},
   "outputs": [],
   "source": []
  },
  {
   "cell_type": "markdown",
   "id": "47d6937c",
   "metadata": {},
   "source": [
    "6. Selektiere alle Beobachtungen, zu denen es denen es keine Notizen gibt (d.h. `notes1` enthält keinen Eintrag)."
   ]
  },
  {
   "cell_type": "code",
   "execution_count": null,
   "id": "1d06e9dc",
   "metadata": {},
   "outputs": [],
   "source": []
  },
  {
   "cell_type": "markdown",
   "id": "eefd5850",
   "metadata": {},
   "source": [
    "7. Selektiere alle Beobachtungen, zu denen es denen es Notizen gibt (d.h. `notes1` enthält einen Eintrag)."
   ]
  },
  {
   "cell_type": "code",
   "execution_count": null,
   "id": "2f7e02d0",
   "metadata": {},
   "outputs": [],
   "source": []
  },
  {
   "cell_type": "markdown",
   "id": "f16008ec",
   "metadata": {},
   "source": [
    "8. Sortiere den Datensatz nach dem `year` in absteigender Reihenfolge und speichere das Resultat in der Variable `df_sorted`."
   ]
  },
  {
   "cell_type": "code",
   "execution_count": null,
   "id": "eba8f608",
   "metadata": {},
   "outputs": [],
   "source": []
  },
  {
   "cell_type": "markdown",
   "id": "dc0b7869",
   "metadata": {},
   "source": [
    "9. Sortiere den Datensatz nach dem `year` in absteigender Reihenfolge und überschreibe den original Datensatz unter Verwendung des `inplace` Arguments."
   ]
  },
  {
   "cell_type": "code",
   "execution_count": null,
   "id": "eb339b04",
   "metadata": {},
   "outputs": [],
   "source": []
  },
  {
   "cell_type": "markdown",
   "id": "a2723f78",
   "metadata": {},
   "source": [
    "10. Sortiere den Datensatz nun wieder nach dem ursprünglichen Index unter Verwendung des `inplace` Arguments."
   ]
  },
  {
   "cell_type": "code",
   "execution_count": null,
   "id": "6c8c7738",
   "metadata": {},
   "outputs": [],
   "source": []
  },
  {
   "attachments": {},
   "cell_type": "markdown",
   "id": "5b3c0d51",
   "metadata": {},
   "source": [
    "11. Ziehe eine zufällige Stichprobe (mit Zurücklegen), deren Größe 40% des originalen Datensatzes entspricht. Verwende dafür die *Seed* 2023 (d.h. setze `random_state=2023`)."
   ]
  },
  {
   "cell_type": "code",
   "execution_count": null,
   "id": "67045baf",
   "metadata": {},
   "outputs": [],
   "source": []
  },
  {
   "cell_type": "markdown",
   "id": "335ec89f",
   "metadata": {},
   "source": [
    "12. Selektiere alle CEOs, die eine 3. oder sogar 4. Amtszeit (`tenure_no`) angetreten haben (=potenzielle Ausreißer?)."
   ]
  },
  {
   "cell_type": "code",
   "execution_count": null,
   "id": "5c689e88",
   "metadata": {},
   "outputs": [],
   "source": []
  },
  {
   "cell_type": "markdown",
   "id": "9a392b4a",
   "metadata": {},
   "source": [
    "13. Selektiere alle CEOs, deren `ceo_name` mit einem `L` beginnt. (*Tipp: Wirf einen Blick in die [`pandas` Dokumentation](https://pandas.pydata.org/pandas-docs/stable/reference/api/pandas.Series.str.startswith.html)*)"
   ]
  },
  {
   "cell_type": "code",
   "execution_count": null,
   "id": "e8509998",
   "metadata": {},
   "outputs": [],
   "source": []
  },
  {
   "cell_type": "markdown",
   "id": "258590e3",
   "metadata": {},
   "source": [
    "##### 3.5 Operationen auf Spalten\n",
    "\n",
    "*Hinweis: Durch klick auf das kleine `+` in der oberen Toolbar oder durch selektieren einer Code Zelle und klicken der Tasten `a` (above) oder `b` (below) können neue Code Zellen eingefügt werden.*"
   ]
  },
  {
   "cell_type": "markdown",
   "id": "39abe253",
   "metadata": {},
   "source": [
    "1. Selektiere die ersten 3 Spalten und letzten 100 Zeilen des Datensatzes."
   ]
  },
  {
   "cell_type": "code",
   "execution_count": null,
   "id": "406fefb8",
   "metadata": {},
   "outputs": [],
   "source": []
  },
  {
   "cell_type": "markdown",
   "id": "99b0732a",
   "metadata": {},
   "source": [
    "2. Selektiere den Firmennamen, den CEO-Namen und die Information, ob diese/r immer noch im Amt ist. (*Achtung: Variablen aus dem Data Dictionary wurden umbenannt beim Datenimport!*)"
   ]
  },
  {
   "cell_type": "code",
   "execution_count": null,
   "id": "347374ba",
   "metadata": {},
   "outputs": [],
   "source": []
  },
  {
   "cell_type": "markdown",
   "id": "2da76b03",
   "metadata": {},
   "source": [
    "3. Selektiere alle Spalten außer die Spalten `max_tenure` und `date_gone` (d.h. diese sollen entfernt werden)."
   ]
  },
  {
   "cell_type": "code",
   "execution_count": null,
   "id": "190d41d3",
   "metadata": {},
   "outputs": [],
   "source": []
  },
  {
   "cell_type": "markdown",
   "id": "b0868363",
   "metadata": {},
   "source": [
    "4. Ersetze die Beobachtungen mit Index `1`, `10` und `100` in der Spalte `ceo_dismi` durch ein `None` (*missing value*)."
   ]
  },
  {
   "cell_type": "code",
   "execution_count": null,
   "id": "803ad941",
   "metadata": {},
   "outputs": [],
   "source": []
  },
  {
   "cell_type": "markdown",
   "id": "eb3128a3",
   "metadata": {},
   "source": [
    "5. Füge für alle leeren Einträge in der Variable `ceo_dismi` den Code `3` ein. Verwende dafür zusätzlich das `inplace` Argument."
   ]
  },
  {
   "cell_type": "code",
   "execution_count": null,
   "id": "f5a118af",
   "metadata": {},
   "outputs": [],
   "source": []
  },
  {
   "cell_type": "markdown",
   "id": "3fd3509c",
   "metadata": {},
   "source": [
    "6. Nun nehmen wir an, dass bei der Kodierung (d.h. der Erhebung der Gründe für ein Ausscheiden eines CEOs (`depart_code`)) ein Fehler gemacht wurde. Der/die Kodierer:in ist in der Zeile verrutscht und hat stets einen um 1 zu niedrigen Code eingetragen. Erhöhe `depart_code` nachträglich um 1, um den Fehler zu korrigieren, und ersetz dabei die alte Spalte."
   ]
  },
  {
   "cell_type": "code",
   "execution_count": null,
   "id": "b869d8b8",
   "metadata": {},
   "outputs": [],
   "source": []
  },
  {
   "cell_type": "markdown",
   "id": "29f810c8",
   "metadata": {},
   "source": [
    "7. Benenne die angepasste Spalte `depart_code` in `depart_code_new` um."
   ]
  },
  {
   "cell_type": "code",
   "execution_count": null,
   "id": "750027ce",
   "metadata": {},
   "outputs": [],
   "source": []
  },
  {
   "attachments": {},
   "cell_type": "markdown",
   "id": "1eaf9f16",
   "metadata": {},
   "source": [
    "8. Erzeuge einen zweiten DataFrame der das Jahr (`year`), den CEO-Namen (`ceo_name`) und die Anzahl der Amtszeiten (`tenure_no`) enthält. Nenne diesen neuen DataFrame `df2`."
   ]
  },
  {
   "cell_type": "code",
   "execution_count": null,
   "id": "b8edfae1",
   "metadata": {},
   "outputs": [],
   "source": []
  },
  {
   "cell_type": "markdown",
   "id": "legitimate-power",
   "metadata": {},
   "source": [
    "##### 3.6 Datenaggregation auf Spalten\n",
    "\n",
    "*Hinweis: Durch klick auf das kleine `+` in der oberen Toolbar oder durch selektieren einer Code Zelle und klicken der Tasten `a` (above) oder `b` (below) können neue Code Zellen eingefügt werden.*"
   ]
  },
  {
   "cell_type": "markdown",
   "id": "da40070b",
   "metadata": {},
   "source": [
    "1. Ermittle die maximale und minimale Anzahl an Amtszeiten (`tenure_no`) sowie das durchschnittliche `year` aller Beobachtungen im Datensatz. Ermittle zudem das Median-`year`. Was fällt dir auf?"
   ]
  },
  {
   "cell_type": "code",
   "execution_count": null,
   "id": "23c14907",
   "metadata": {},
   "outputs": [],
   "source": []
  },
  {
   "cell_type": "markdown",
   "id": "b8c45281",
   "metadata": {},
   "source": [
    "2. Ermittle die Korrelation zwischen `year` und `year_gone`. Warum beobachten wir eine Korrelation < 1?"
   ]
  },
  {
   "cell_type": "code",
   "execution_count": null,
   "id": "1868bc62",
   "metadata": {},
   "outputs": [],
   "source": []
  },
  {
   "cell_type": "markdown",
   "id": "4e022f65",
   "metadata": {},
   "source": [
    "3. Was sind die top 5 Unternehmen mit den meisten Events (d.h. Beobachtungen) im Datensatz?"
   ]
  },
  {
   "cell_type": "code",
   "execution_count": null,
   "id": "bf54c1ab",
   "metadata": {},
   "outputs": [],
   "source": []
  },
  {
   "cell_type": "markdown",
   "id": "abd8cbc4",
   "metadata": {},
   "source": [
    "4. Führe eine *Z-Standardisierung* der Variable `tenure_no` durch."
   ]
  },
  {
   "cell_type": "code",
   "execution_count": null,
   "id": "343df83b",
   "metadata": {},
   "outputs": [],
   "source": []
  },
  {
   "cell_type": "markdown",
   "id": "89e75e79",
   "metadata": {},
   "source": [
    "5. Selektiere alle *einzigartigen* Firmen, für die Beobachtungen in den Jahren 2000 oder früher vorliegen (d.h. keine Duplikate)."
   ]
  },
  {
   "cell_type": "code",
   "execution_count": null,
   "id": "753569d6",
   "metadata": {},
   "outputs": [],
   "source": []
  },
  {
   "attachments": {},
   "cell_type": "markdown",
   "id": "d6ea3cb2",
   "metadata": {},
   "source": [
    "6. Liste alle CEOs, die mindestens drei Mal ihr Amt niedergelegt haben."
   ]
  },
  {
   "cell_type": "code",
   "execution_count": null,
   "id": "f444e953",
   "metadata": {},
   "outputs": [],
   "source": []
  },
  {
   "cell_type": "markdown",
   "id": "dbb0e314",
   "metadata": {},
   "source": [
    "##### Übungsaufgaben Kapitel 3.7 - Operationen auf Gruppen\n",
    "\n",
    "*Hinweis: Durch klick auf das kleine `+` in der oberen Toolbar oder durch selektieren einer Code Zelle und klicken der Tasten `a` (above) oder `b` (below) können neue Code Zellen eingefügt werden.*"
   ]
  },
  {
   "cell_type": "markdown",
   "id": "de0d01d8",
   "metadata": {},
   "source": [
    "1. Gruppiere die Daten nach dem Jahr und zähle die Anzahl der Beobachtungen pro Jahr mittels `.size()`."
   ]
  },
  {
   "cell_type": "code",
   "execution_count": null,
   "id": "7ef6e5cb",
   "metadata": {},
   "outputs": [],
   "source": []
  },
  {
   "cell_type": "markdown",
   "id": "0598e4e4",
   "metadata": {},
   "source": [
    "2. Gruppiere die Daten nach dem Jahr und berechne den `mean` sowie `median` für `max_tenure` pro Jahr."
   ]
  },
  {
   "cell_type": "code",
   "execution_count": null,
   "id": "3d9ebc14",
   "metadata": {},
   "outputs": [],
   "source": []
  },
  {
   "cell_type": "markdown",
   "id": "b76d0997",
   "metadata": {},
   "source": [
    "3. Gruppiere die Daten nach dem Jahr und berechne den `mean` sowie `median` für `max_tenure` pro Jahr. Nenne die neu entstehenden Spalten `Mittelwert` sowie `Median`."
   ]
  },
  {
   "cell_type": "code",
   "execution_count": null,
   "id": "6143727a",
   "metadata": {},
   "outputs": [],
   "source": []
  },
  {
   "cell_type": "markdown",
   "id": "afaf4668",
   "metadata": {},
   "source": [
    "4. Gruppiere die Daten nach dem Jahr und filter für Jahre mit mehr als 250 Beobachtungen. *Hinweis: Die Größe eines `DataFrame`, d.h. die Anzahl der Beobachtungen, kann mittels `len(df)` ermittelt werden.*"
   ]
  },
  {
   "cell_type": "code",
   "execution_count": null,
   "id": "107efa50",
   "metadata": {},
   "outputs": [],
   "source": []
  },
  {
   "cell_type": "markdown",
   "id": "d1996735",
   "metadata": {},
   "source": [
    "5. Gruppiere die Daten nach dem Jahr und zähle die Anzahl der Beobachtungen pro Jahr für CEOs in der zweiten Amtszeit."
   ]
  },
  {
   "cell_type": "code",
   "execution_count": null,
   "id": "17312424",
   "metadata": {},
   "outputs": [],
   "source": []
  }
 ],
 "metadata": {
  "interpreter": {
   "hash": "52634da84371cba311ea128a5ea7cdc41ff074b781779e754b270ff9f8153cee"
  },
  "kernelspec": {
   "display_name": "Python 3.8.5 64-bit",
   "language": "python",
   "name": "python3"
  },
  "language_info": {
   "codemirror_mode": {
    "name": "ipython",
    "version": 3
   },
   "file_extension": ".py",
   "mimetype": "text/x-python",
   "name": "python",
   "nbconvert_exporter": "python",
   "pygments_lexer": "ipython3",
   "version": "3.8.5"
  }
 },
 "nbformat": 4,
 "nbformat_minor": 5
}
