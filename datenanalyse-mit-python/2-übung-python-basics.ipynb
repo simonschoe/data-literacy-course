{
 "cells": [
  {
   "attachments": {},
   "cell_type": "markdown",
   "id": "2b8b41c7",
   "metadata": {},
   "source": [
    "### Übungsaufgaben Kapitel 2 - Einführung in Python\n",
    "\n",
    "*Hinweis: Durch klick auf das kleine `+` in der Toolbar oder durch selektieren einer Code Zelle und klicken der Tasten `a` (above) oder `b` (below) können neue Code Zellen eingefügt werden.*"
   ]
  },
  {
   "attachments": {},
   "cell_type": "markdown",
   "id": "77cb8898",
   "metadata": {},
   "source": [
    "Für ein Experiment sind vier Personen angemeldet: Alice (P1), Bob (P2), Charlie (P3) und Malfoy (P4). Erstelle für jede Person eine Variable und halte die Namen in dieser fest."
   ]
  },
  {
   "cell_type": "code",
   "execution_count": null,
   "id": "1a888d12",
   "metadata": {},
   "outputs": [],
   "source": []
  },
  {
   "cell_type": "markdown",
   "id": "be67ee5e",
   "metadata": {},
   "source": [
    "Bedauerlicherweise muss Malfoy krankheitsbedingt ausscheiden und wird durch eine weitere Person, die ebenfalls den Namen Alice trägt, ersetzt. Passe die entsprechende Variable an."
   ]
  },
  {
   "cell_type": "code",
   "execution_count": null,
   "id": "76db163d",
   "metadata": {},
   "outputs": [],
   "source": []
  },
  {
   "attachments": {},
   "cell_type": "markdown",
   "id": "174c6fef",
   "metadata": {},
   "source": [
    "Um Verwechslungen zu vermeiden entscheidet sich die urpsrüngliche Alice, unter ihrem Spitznamen Aly teilzunehmen. Passe die Variable entsprechend an."
   ]
  },
  {
   "cell_type": "code",
   "execution_count": null,
   "id": "9b53cbab",
   "metadata": {},
   "outputs": [],
   "source": []
  },
  {
   "cell_type": "markdown",
   "id": "3cc26988",
   "metadata": {},
   "source": [
    "Zusätzlich soll die Variable `participant_count` erstellt werden, die die Anzahl an Teilnehmern festhält."
   ]
  },
  {
   "cell_type": "code",
   "execution_count": null,
   "id": "ac5e078b",
   "metadata": {},
   "outputs": [],
   "source": []
  },
  {
   "attachments": {},
   "cell_type": "markdown",
   "id": "50f91bb3",
   "metadata": {},
   "source": [
    "Zu Beginn des Experiments wird eine Umfrage durchgeführt, um die Freundschaftsverhältnisse zwischen den Proband:innen festzustellen, um hinterher untersuchen zu können, inwieweit diese die Entscheidungen beeinflussen. Hierbei wird jede/r Proband:in einzeln befragt. Freundschaften müssen daher nicht symmetrisch sein. Hieraus resultieren die folgenden 12 Beziehungen. Die Zahlen in den Variablennamen beziehen sich dabei auf die Proband:innen-Nummern."
   ]
  },
  {
   "cell_type": "code",
   "execution_count": null,
   "id": "8e38c215",
   "metadata": {},
   "outputs": [],
   "source": [
    "friendship_1_2 = True\n",
    "friendship_1_3 = False\n",
    "friendship_1_4 = False\n",
    "friendship_2_1 = 1\n",
    "friendship_2_3 = 1\n",
    "friendship_2_4 = 0\n",
    "friendship_3_1 = False\n",
    "friendship_3_2 = 0.2\n",
    "friendship_3_4 = True\n",
    "friendship_4_1 = True\n",
    "friendship_4_2 = False\n",
    "friendship_4_3 = True"
   ]
  },
  {
   "attachments": {},
   "cell_type": "markdown",
   "id": "be4934eb",
   "metadata": {},
   "source": [
    "Offenbar haben die Proband:innen nicht alle bool'sche Angaben (`True`/`False`) getätigt. Darüber hinaus hat Charlie eine nicht binäre Kategorisierung seiner Freundschaften getroffen (`friendship_3_2`). Möglicherweise soll die `0.2` eine schwache Freundschaft zu Bob indizieren. Überführe zur Vereinheitlichung die vier nicht bool'schen Variablen mittels *Typkonvertierung* in bool'sche Werte."
   ]
  },
  {
   "cell_type": "code",
   "execution_count": null,
   "id": "6ab103a0",
   "metadata": {},
   "outputs": [],
   "source": []
  },
  {
   "cell_type": "markdown",
   "id": "1f76430f",
   "metadata": {},
   "source": [
    "Was fällt bei der Konvertierung von `friendship_3_2` auf? Wie hätte das Resultat für andere Werte (z.B. 0.8, -1 oder 1.2) ausgesehen?"
   ]
  },
  {
   "cell_type": "code",
   "execution_count": null,
   "id": "ef42013d",
   "metadata": {},
   "outputs": [],
   "source": []
  },
  {
   "cell_type": "markdown",
   "id": "090e3019",
   "metadata": {},
   "source": [
    "Offensichtlich ist diese Art der Speicherung von Freundschaftsverhältnissen besonders für größere Teilnehmer:innenzahlen ineffizient und soll verbessert werden. Erstelle hierzu als ersten Schritt für jede/n Proband:in eine Liste der Freund:innen (aka Freundesliste), die deren Realnamen enthält. Es sollten somit nur Freund:innen gelistet werden, bei denen das Freundschaftsverhältnis `True` ist."
   ]
  },
  {
   "cell_type": "code",
   "execution_count": null,
   "id": "d2358655",
   "metadata": {},
   "outputs": [],
   "source": []
  },
  {
   "cell_type": "markdown",
   "id": "becbf3d5",
   "metadata": {},
   "source": [
    "Erstelle nun mithilfe der anfänglichen Namensvariablen und dieser Listen ein Dictionary, welches key-value-Paare mit dem folgenden Schema enthält:\n",
    "\n",
    "```\n",
    "{P1: [List of Freund:innen],\n",
    " P2: [List of Freund:innen],\n",
    " P3: [List of Freund:innen],\n",
    " P4: [List of Freund:innen]}\n",
    "```"
   ]
  },
  {
   "cell_type": "code",
   "execution_count": null,
   "id": "837abbbe",
   "metadata": {},
   "outputs": [],
   "source": []
  },
  {
   "cell_type": "markdown",
   "id": "8783af6c",
   "metadata": {},
   "source": [
    "Charlie entdeckt, dass die Daten nun ihn und Bob als Freunde listen und bittet darum, diese Verbindung zu entfernen, da er die Freundschaft nur als schwach betrachtet."
   ]
  },
  {
   "cell_type": "code",
   "execution_count": null,
   "id": "d0ce4d4b",
   "metadata": {},
   "outputs": [],
   "source": []
  },
  {
   "cell_type": "markdown",
   "id": "c7cd8d5b",
   "metadata": {},
   "source": [
    "Wieviele Freunde hat Charlie nun angegeben? (Verwende die Funktion `len()` um die Länge der Freundesliste von Charlie zu bestimmen)"
   ]
  },
  {
   "cell_type": "code",
   "execution_count": null,
   "id": "e69bfd02",
   "metadata": {},
   "outputs": [],
   "source": []
  },
  {
   "attachments": {},
   "cell_type": "markdown",
   "id": "f3ca29e0",
   "metadata": {},
   "source": [
    "Hat Alice mindestens zwei Freunde? (das Ergebnis sollte `True` oder `False` ergeben)"
   ]
  },
  {
   "cell_type": "code",
   "execution_count": null,
   "id": "d5912eb4",
   "metadata": {},
   "outputs": [],
   "source": []
  },
  {
   "attachments": {},
   "cell_type": "markdown",
   "id": "b9957d7a",
   "metadata": {},
   "source": [
    "Ist Alice zweiter Freund Bob? (das Ergebnis sollte `True` oder `False` ergeben)"
   ]
  },
  {
   "cell_type": "code",
   "execution_count": null,
   "id": "47cae290",
   "metadata": {},
   "outputs": [],
   "source": []
  },
  {
   "attachments": {},
   "cell_type": "markdown",
   "id": "3583b48a",
   "metadata": {},
   "source": [
    "Ist Alice zweiter Freund Bob oder Charlie? (das Ergebnis sollte `True` oder `False` ergeben)"
   ]
  },
  {
   "cell_type": "code",
   "execution_count": null,
   "id": "0f8c7141",
   "metadata": {},
   "outputs": [],
   "source": []
  },
  {
   "attachments": {},
   "cell_type": "markdown",
   "id": "5e454abe",
   "metadata": {},
   "source": [
    "Ist Alice erste Freundin Aly und Alice zweiter Freund Charlie? (das Ergebnis sollte `True` oder `False` ergeben)"
   ]
  },
  {
   "cell_type": "code",
   "execution_count": null,
   "id": "a972f56e",
   "metadata": {},
   "outputs": [],
   "source": []
  },
  {
   "attachments": {},
   "cell_type": "markdown",
   "id": "38fb0cc0",
   "metadata": {},
   "source": [
    "Ist die Anzahl aller Freund:innen von Bob und Alice kleiner oder gleich 3? (das Ergebnis sollte `True` oder `False` ergeben)"
   ]
  },
  {
   "cell_type": "code",
   "execution_count": null,
   "id": "9d4ef3bc",
   "metadata": {},
   "outputs": [],
   "source": []
  },
  {
   "attachments": {},
   "cell_type": "markdown",
   "id": "41cb6822",
   "metadata": {},
   "source": [
    "Ist die Anzahl aller Freund:innen von Bob und Alice kleiner als 5 und größer als 3? (das Ergebnis sollte `True` oder `False` ergeben)"
   ]
  },
  {
   "cell_type": "code",
   "execution_count": null,
   "id": "7a1d28b0",
   "metadata": {},
   "outputs": [],
   "source": []
  },
  {
   "attachments": {},
   "cell_type": "markdown",
   "id": "cb597b9d",
   "metadata": {},
   "source": [
    "Haben Aly und Charlie die gleichen Freund:innen? (das Ergebnis sollte `True` oder `False` ergeben)  \n",
    "Zusatz: Spielt die Reihenfolge der Freund:innen eine Rolle?"
   ]
  },
  {
   "cell_type": "code",
   "execution_count": null,
   "id": "97bfc691",
   "metadata": {},
   "outputs": [],
   "source": []
  },
  {
   "attachments": {},
   "cell_type": "markdown",
   "id": "57f73038",
   "metadata": {},
   "source": [
    "**Zusatzaufgabe für Fortgeschrittene:** Erstelle eine Funktion, die prüft, ob für eine Person symmetrische Freundschaften bestehen. Berücksichtige dabei folgende Punkte:\n",
    "1. Nenne die Funktion `check_friendship`.\n",
    "2. Die Funktion nimmt einen Personennamen (`str`) als Input. Nenne das erste Funktionsargument daher `person_name`.\n",
    "3. Innerhalb der Funktion, erfasse zunächst alle Freunde einer Person in der Variable `friends`.\n",
    "4. Verwende anschließend einen `for`-loop (siehe [Beispiele](https://pythonexamples.org/python-for-loop-example/)), der für jede/n Freund:in prüft, welche Freund:innen er/sie wiederum hat.\n",
    "5. Prüfe jeweils, ob sich die Ausgangsperson in der Freundesliste des/der jeweiligen Freund:in befindet.\n",
    "\n",
    "Verwende dafür das nachstehende Template und ersetze die `<Platzhalter>`:"
   ]
  },
  {
   "cell_type": "code",
   "execution_count": null,
   "id": "de53020a",
   "metadata": {},
   "outputs": [],
   "source": [
    "def <Funktionsname>(<Funktionsargument>):\n",
    "    friends = <Freundesliste>\n",
    "    # iteriere über alle Freund:innen in der Freundesliste\n",
    "    for f in friends:\n",
    "        friends_of_friend = <Freundesliste jedes/jeder Freund:in>\n",
    "        print( <Prüfe ob Name in Freundes-Freundesliste> )"
   ]
  },
  {
   "cell_type": "code",
   "execution_count": null,
   "id": "ed704368",
   "metadata": {},
   "outputs": [],
   "source": []
  }
 ],
 "metadata": {
  "interpreter": {
   "hash": "52634da84371cba311ea128a5ea7cdc41ff074b781779e754b270ff9f8153cee"
  },
  "kernelspec": {
   "display_name": "Python 3.8.5 64-bit",
   "language": "python",
   "name": "python3"
  },
  "language_info": {
   "codemirror_mode": {
    "name": "ipython",
    "version": 3
   },
   "file_extension": ".py",
   "mimetype": "text/x-python",
   "name": "python",
   "nbconvert_exporter": "python",
   "pygments_lexer": "ipython3",
   "version": "3.8.5"
  }
 },
 "nbformat": 4,
 "nbformat_minor": 5
}
