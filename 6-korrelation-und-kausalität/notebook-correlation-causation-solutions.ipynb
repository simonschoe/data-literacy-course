{
 "cells": [
  {
   "cell_type": "code",
   "execution_count": 3,
   "metadata": {},
   "outputs": [],
   "source": [
    "import pandas as pd"
   ]
  },
  {
   "cell_type": "code",
   "execution_count": 4,
   "metadata": {},
   "outputs": [
    {
     "data": {
      "text/html": [
       "<div>\n",
       "<style scoped>\n",
       "    .dataframe tbody tr th:only-of-type {\n",
       "        vertical-align: middle;\n",
       "    }\n",
       "\n",
       "    .dataframe tbody tr th {\n",
       "        vertical-align: top;\n",
       "    }\n",
       "\n",
       "    .dataframe thead th {\n",
       "        text-align: right;\n",
       "    }\n",
       "</style>\n",
       "<table border=\"1\" class=\"dataframe\">\n",
       "  <thead>\n",
       "    <tr style=\"text-align: right;\">\n",
       "      <th></th>\n",
       "      <th>CPA</th>\n",
       "      <th>skill</th>\n",
       "      <th>earnings</th>\n",
       "    </tr>\n",
       "  </thead>\n",
       "  <tbody>\n",
       "    <tr>\n",
       "      <th>0</th>\n",
       "      <td>1</td>\n",
       "      <td>1</td>\n",
       "      <td>96980.64</td>\n",
       "    </tr>\n",
       "    <tr>\n",
       "      <th>1</th>\n",
       "      <td>0</td>\n",
       "      <td>1</td>\n",
       "      <td>66755.36</td>\n",
       "    </tr>\n",
       "    <tr>\n",
       "      <th>2</th>\n",
       "      <td>1</td>\n",
       "      <td>1</td>\n",
       "      <td>94581.53</td>\n",
       "    </tr>\n",
       "    <tr>\n",
       "      <th>3</th>\n",
       "      <td>1</td>\n",
       "      <td>1</td>\n",
       "      <td>91481.91</td>\n",
       "    </tr>\n",
       "    <tr>\n",
       "      <th>4</th>\n",
       "      <td>0</td>\n",
       "      <td>1</td>\n",
       "      <td>73923.35</td>\n",
       "    </tr>\n",
       "    <tr>\n",
       "      <th>...</th>\n",
       "      <td>...</td>\n",
       "      <td>...</td>\n",
       "      <td>...</td>\n",
       "    </tr>\n",
       "    <tr>\n",
       "      <th>4995</th>\n",
       "      <td>0</td>\n",
       "      <td>0</td>\n",
       "      <td>50389.67</td>\n",
       "    </tr>\n",
       "    <tr>\n",
       "      <th>4996</th>\n",
       "      <td>1</td>\n",
       "      <td>0</td>\n",
       "      <td>84060.51</td>\n",
       "    </tr>\n",
       "    <tr>\n",
       "      <th>4997</th>\n",
       "      <td>0</td>\n",
       "      <td>0</td>\n",
       "      <td>45083.38</td>\n",
       "    </tr>\n",
       "    <tr>\n",
       "      <th>4998</th>\n",
       "      <td>0</td>\n",
       "      <td>0</td>\n",
       "      <td>58762.40</td>\n",
       "    </tr>\n",
       "    <tr>\n",
       "      <th>4999</th>\n",
       "      <td>0</td>\n",
       "      <td>0</td>\n",
       "      <td>61174.23</td>\n",
       "    </tr>\n",
       "  </tbody>\n",
       "</table>\n",
       "<p>5000 rows × 3 columns</p>\n",
       "</div>"
      ],
      "text/plain": [
       "      CPA  skill  earnings\n",
       "0       1      1  96980.64\n",
       "1       0      1  66755.36\n",
       "2       1      1  94581.53\n",
       "3       1      1  91481.91\n",
       "4       0      1  73923.35\n",
       "...   ...    ...       ...\n",
       "4995    0      0  50389.67\n",
       "4996    1      0  84060.51\n",
       "4997    0      0  45083.38\n",
       "4998    0      0  58762.40\n",
       "4999    0      0  61174.23\n",
       "\n",
       "[5000 rows x 3 columns]"
      ]
     },
     "execution_count": 4,
     "metadata": {},
     "output_type": "execute_result"
    }
   ],
   "source": [
    "cpa_data = pd.read_excel('cpa-simulations.xlsx')\n",
    "cpa_data"
   ]
  },
  {
   "cell_type": "markdown",
   "metadata": {},
   "source": [
    "### Was ist der Effekt eines WP-Examens auf das Einkommen?"
   ]
  },
  {
   "cell_type": "markdown",
   "metadata": {},
   "source": [
    "**Alternative 1:** Vergleich des durchschnittlichen Einkommens von WPs mit nicht WPs"
   ]
  },
  {
   "cell_type": "code",
   "execution_count": 13,
   "metadata": {},
   "outputs": [
    {
     "data": {
      "text/plain": [
       "(90467.48747603834, 54362.88702323718, 36104.60045280116)"
      ]
     },
     "execution_count": 13,
     "metadata": {},
     "output_type": "execute_result"
    }
   ],
   "source": [
    "mean_cpa        = cpa_data[cpa_data['CPA'] == 1]['earnings'].mean()\n",
    "mean_non_cpa    = cpa_data[cpa_data['CPA'] == 0]['earnings'].mean()\n",
    "\n",
    "mean_cpa, mean_non_cpa, mean_cpa-mean_non_cpa"
   ]
  },
  {
   "cell_type": "markdown",
   "metadata": {},
   "source": [
    "**Alternative 2:** Berechnung eines linearen Regressionsmodells."
   ]
  },
  {
   "cell_type": "code",
   "execution_count": 6,
   "metadata": {},
   "outputs": [
    {
     "name": "stdout",
     "output_type": "stream",
     "text": [
      "                            OLS Regression Results                            \n",
      "==============================================================================\n",
      "Dep. Variable:               earnings   R-squared:                       0.689\n",
      "Model:                            OLS   Adj. R-squared:                  0.689\n",
      "Method:                 Least Squares   F-statistic:                 1.105e+04\n",
      "Date:                Wed, 01 Jun 2022   Prob (F-statistic):               0.00\n",
      "Time:                        11:27:57   Log-Likelihood:                -54115.\n",
      "No. Observations:                5000   AIC:                         1.082e+05\n",
      "Df Residuals:                    4998   BIC:                         1.082e+05\n",
      "Df Model:                           1                                         \n",
      "Covariance Type:            nonrobust                                         \n",
      "==============================================================================\n",
      "                 coef    std err          t      P>|t|      [0.025      0.975]\n",
      "------------------------------------------------------------------------------\n",
      "const       5.436e+04    243.006    223.710      0.000    5.39e+04    5.48e+04\n",
      "CPA          3.61e+04    343.388    105.142      0.000    3.54e+04    3.68e+04\n",
      "==============================================================================\n",
      "Omnibus:                        4.590   Durbin-Watson:                   1.443\n",
      "Prob(Omnibus):                  0.101   Jarque-Bera (JB):                4.337\n",
      "Skew:                           0.038   Prob(JB):                        0.114\n",
      "Kurtosis:                       2.877   Cond. No.                         2.62\n",
      "==============================================================================\n",
      "\n",
      "Notes:\n",
      "[1] Standard Errors assume that the covariance matrix of the errors is correctly specified.\n"
     ]
    }
   ],
   "source": [
    "import statsmodels.api as sm\n",
    "\n",
    "X = cpa_data['CPA']\n",
    "Y = cpa_data['earnings']\n",
    "\n",
    "model   = sm.OLS(Y, sm.add_constant(X))\n",
    "results = model.fit()\n",
    "\n",
    "print(results.summary())"
   ]
  },
  {
   "cell_type": "code",
   "execution_count": 22,
   "metadata": {},
   "outputs": [
    {
     "data": {
      "text/plain": [
       "const    49947.843393\n",
       "CPA      30347.939562\n",
       "skill    14595.958809\n",
       "dtype: float64"
      ]
     },
     "execution_count": 22,
     "metadata": {},
     "output_type": "execute_result"
    }
   ],
   "source": [
    "results.params"
   ]
  },
  {
   "cell_type": "code",
   "execution_count": 16,
   "metadata": {},
   "outputs": [
    {
     "data": {
      "text/plain": [
       "36104.60045280153"
      ]
     },
     "execution_count": 16,
     "metadata": {},
     "output_type": "execute_result"
    }
   ],
   "source": [
    "results.params['CPA']"
   ]
  },
  {
   "cell_type": "markdown",
   "metadata": {},
   "source": [
    "### Was ist der kausale Effekt eines WP-Examens auf das Einkommen?"
   ]
  },
  {
   "cell_type": "markdown",
   "metadata": {},
   "source": [
    "**Alternative 1:** Vergleich des durchschnittlichen Einkommens von WPs mit nicht WPs, die gleiche Fähigkeiten besitzen. Der kausale Effekt gibt sich dann als eine gewichtete Summe der Mittelwert-Differenzen."
   ]
  },
  {
   "cell_type": "code",
   "execution_count": 17,
   "metadata": {},
   "outputs": [
    {
     "data": {
      "text/plain": [
       "(94903.57060171918, 64516.46270198676, 0.5)"
      ]
     },
     "execution_count": 17,
     "metadata": {},
     "output_type": "execute_result"
    }
   ],
   "source": [
    "# Vergleich der Accountants mit hohen Fähigkeiten (`skill==1`)\n",
    "mean_cpa_skilled        = cpa_data[(cpa_data['CPA'] == 1) & (cpa_data['skill'] == 1)]['earnings'].mean()\n",
    "mean_non_cpa_skilled    = cpa_data[(cpa_data['CPA'] == 0) & (cpa_data['skill'] == 1)]['earnings'].mean()\n",
    "weight_skilled          = len(cpa_data[cpa_data['skill'] == 1]) / len(cpa_data)\n",
    "\n",
    "mean_cpa_skilled, mean_non_cpa_skilled, weight_skilled"
   ]
  },
  {
   "cell_type": "code",
   "execution_count": 18,
   "metadata": {},
   "outputs": [
    {
     "data": {
      "text/plain": [
       "(80268.58753623188, 49959.699408386, 0.5)"
      ]
     },
     "execution_count": 18,
     "metadata": {},
     "output_type": "execute_result"
    }
   ],
   "source": [
    "# Vergleich der Accountants mit geringen Fähigkeiten (`skill==0`)\n",
    "mean_cpa_unskilled      = cpa_data[(cpa_data['CPA'] == 1) & (cpa_data['skill'] == 0)]['earnings'].mean()\n",
    "mean_non_cpa_unskilled  = cpa_data[(cpa_data['CPA'] == 0) & (cpa_data['skill'] == 0)]['earnings'].mean()\n",
    "weight_unskilled        = len(cpa_data[cpa_data['skill'] == 0]) / len(cpa_data)\n",
    "\n",
    "mean_cpa_unskilled, mean_non_cpa_unskilled, weight_unskilled"
   ]
  },
  {
   "cell_type": "code",
   "execution_count": 19,
   "metadata": {},
   "outputs": [
    {
     "data": {
      "text/plain": [
       "30347.99801378915"
      ]
     },
     "execution_count": 19,
     "metadata": {},
     "output_type": "execute_result"
    }
   ],
   "source": [
    "# Ermittlung des kausalen Effektes durch Gewichtung der Gruppen \n",
    "(mean_cpa_skilled - mean_non_cpa_skilled) * weight_skilled + \\\n",
    "    (mean_cpa_unskilled - mean_non_cpa_unskilled) * weight_unskilled"
   ]
  },
  {
   "cell_type": "markdown",
   "metadata": {},
   "source": [
    "**Alternative 2:** Berechnung eines multiplen linearen Regressionsmodells (unter Berücksichtigung von Kontrollvariablen)."
   ]
  },
  {
   "cell_type": "code",
   "execution_count": 20,
   "metadata": {},
   "outputs": [
    {
     "name": "stdout",
     "output_type": "stream",
     "text": [
      "                            OLS Regression Results                            \n",
      "==============================================================================\n",
      "Dep. Variable:               earnings   R-squared:                       0.784\n",
      "Model:                            OLS   Adj. R-squared:                  0.784\n",
      "Method:                 Least Squares   F-statistic:                     9052.\n",
      "Date:                Wed, 01 Jun 2022   Prob (F-statistic):               0.00\n",
      "Time:                        11:39:21   Log-Likelihood:                -53205.\n",
      "No. Observations:                5000   AIC:                         1.064e+05\n",
      "Df Residuals:                    4997   BIC:                         1.064e+05\n",
      "Df Model:                           2                                         \n",
      "Covariance Type:            nonrobust                                         \n",
      "==============================================================================\n",
      "                 coef    std err          t      P>|t|      [0.025      0.975]\n",
      "------------------------------------------------------------------------------\n",
      "const       4.995e+04    223.409    223.571      0.000    4.95e+04    5.04e+04\n",
      "CPA         3.035e+04    311.496     97.427      0.000    2.97e+04     3.1e+04\n",
      "skill        1.46e+04    311.495     46.858      0.000     1.4e+04    1.52e+04\n",
      "==============================================================================\n",
      "Omnibus:                        2.111   Durbin-Watson:                   1.962\n",
      "Prob(Omnibus):                  0.348   Jarque-Bera (JB):                2.070\n",
      "Skew:                           0.048   Prob(JB):                        0.355\n",
      "Kurtosis:                       3.026   Cond. No.                         3.29\n",
      "==============================================================================\n",
      "\n",
      "Notes:\n",
      "[1] Standard Errors assume that the covariance matrix of the errors is correctly specified.\n"
     ]
    }
   ],
   "source": [
    "import statsmodels.api as sm\n",
    "\n",
    "X = cpa_data[['CPA', 'skill']]\n",
    "Y = cpa_data['earnings']\n",
    "\n",
    "model   = sm.OLS(Y, sm.add_constant(X))\n",
    "results = model.fit()\n",
    "\n",
    "print(results.summary())"
   ]
  },
  {
   "cell_type": "code",
   "execution_count": 21,
   "metadata": {},
   "outputs": [
    {
     "data": {
      "text/plain": [
       "30347.9395615021"
      ]
     },
     "execution_count": 21,
     "metadata": {},
     "output_type": "execute_result"
    }
   ],
   "source": [
    "results.params['CPA']"
   ]
  },
  {
   "cell_type": "markdown",
   "metadata": {},
   "source": [
    "### Was ist der Effekt der individuellen Fähigkeiten auf das Einkommen?"
   ]
  },
  {
   "cell_type": "markdown",
   "metadata": {},
   "source": [
    "**Alternative 1:** Vergleich des durchschnittlichen Einkommens von Accountants mit hohen und geringen Fähigkeiten."
   ]
  },
  {
   "cell_type": "code",
   "execution_count": 23,
   "metadata": {},
   "outputs": [
    {
     "data": {
      "text/plain": [
       "(85726.664016, 59161.47784400001, 26565.186171999987)"
      ]
     },
     "execution_count": 23,
     "metadata": {},
     "output_type": "execute_result"
    }
   ],
   "source": [
    "mean_skilled    = cpa_data[cpa_data['skill'] == 1]['earnings'].mean()\n",
    "mean_unskilled  = cpa_data[cpa_data['skill'] == 0]['earnings'].mean()\n",
    "\n",
    "mean_skilled, mean_unskilled, mean_skilled-mean_unskilled"
   ]
  },
  {
   "cell_type": "markdown",
   "metadata": {},
   "source": [
    "**Alternative 2:** Berechnung eines linearen Regressionsmodells."
   ]
  },
  {
   "cell_type": "code",
   "execution_count": 25,
   "metadata": {},
   "outputs": [
    {
     "name": "stdout",
     "output_type": "stream",
     "text": [
      "<statsmodels.regression.linear_model.OLS object at 0x0000024D5ED39190>\n",
      "                            OLS Regression Results                            \n",
      "==============================================================================\n",
      "Dep. Variable:               earnings   R-squared:                       0.373\n",
      "Model:                            OLS   Adj. R-squared:                  0.373\n",
      "Method:                 Least Squares   F-statistic:                     2971.\n",
      "Date:                Wed, 01 Jun 2022   Prob (F-statistic):               0.00\n",
      "Time:                        11:43:06   Log-Likelihood:                -55866.\n",
      "No. Observations:                5000   AIC:                         1.117e+05\n",
      "Df Residuals:                    4998   BIC:                         1.117e+05\n",
      "Df Model:                           1                                         \n",
      "Covariance Type:            nonrobust                                         \n",
      "==============================================================================\n",
      "                 coef    std err          t      P>|t|      [0.025      0.975]\n",
      "------------------------------------------------------------------------------\n",
      "const       5.916e+04    344.622    171.671      0.000    5.85e+04    5.98e+04\n",
      "skill       2.657e+04    487.369     54.507      0.000    2.56e+04    2.75e+04\n",
      "==============================================================================\n",
      "Omnibus:                       87.424   Durbin-Watson:                   1.988\n",
      "Prob(Omnibus):                  0.000   Jarque-Bera (JB):               49.308\n",
      "Skew:                           0.022   Prob(JB):                     1.96e-11\n",
      "Kurtosis:                       2.516   Cond. No.                         2.62\n",
      "==============================================================================\n",
      "\n",
      "Notes:\n",
      "[1] Standard Errors assume that the covariance matrix of the errors is correctly specified.\n"
     ]
    }
   ],
   "source": [
    "import statsmodels.api as sm\n",
    "\n",
    "X = cpa_data['skill']\n",
    "Y = cpa_data['earnings']\n",
    "\n",
    "model   = sm.OLS(Y, sm.add_constant(X))\n",
    "results = model.fit()\n",
    "\n",
    "print(results.summary())"
   ]
  },
  {
   "cell_type": "code",
   "execution_count": 24,
   "metadata": {},
   "outputs": [
    {
     "data": {
      "text/plain": [
       "30347.9395615021"
      ]
     },
     "execution_count": 24,
     "metadata": {},
     "output_type": "execute_result"
    }
   ],
   "source": [
    "results.params['CPA']"
   ]
  },
  {
   "cell_type": "markdown",
   "metadata": {},
   "source": [
    "### Was ist der direkte Effekt der individuellen Fähigkeiten auf das Einkommen?"
   ]
  },
  {
   "cell_type": "markdown",
   "metadata": {},
   "source": [
    "**Alternative 1:** Vergleich des durchschnittlichen Einkommens von Accountants mit hohen versus geringen Fähigkeiten, die den gleiche Abschluss besitzen. Der direkte Effekt gibt sich dann als eine gewichtete Summe der Mittelwert-Differenzen."
   ]
  },
  {
   "cell_type": "code",
   "execution_count": 21,
   "metadata": {},
   "outputs": [
    {
     "data": {
      "text/plain": [
       "14595.935755361545"
      ]
     },
     "execution_count": 21,
     "metadata": {},
     "output_type": "execute_result"
    }
   ],
   "source": [
    "# Vergleich der Accountants mit WP (`CPA==1`)\n",
    "mean_skilled_cpa        = cpa_data[(cpa_data['skill'] == 1) & (cpa_data['CPA'] == 1)]['earnings'].mean()\n",
    "mean_skilled_non_cpa    = cpa_data[(cpa_data['skill'] == 0) & (cpa_data['CPA'] == 1)]['earnings'].mean()\n",
    "weight_cpa              = len(cpa_data[cpa_data['CPA'] == 1]) / len(cpa_data)\n",
    "\n",
    "# Vergleich der Accountants ohne WP (`CPA==0`)\n",
    "mean_unskilled_cpa      = cpa_data[(cpa_data['skill'] == 1) & (cpa_data['CPA'] == 0)]['earnings'].mean()\n",
    "mean_unskilled_non_cpa  = cpa_data[(cpa_data['skill'] == 0) & (cpa_data['CPA'] == 0)]['earnings'].mean()\n",
    "weight_non_cpa          = len(cpa_data[cpa_data['CPA'] == 0]) / len(cpa_data)\n",
    "\n",
    "# Ermittlung des kausalen Effektes durch Gewichtung der Gruppen \n",
    "(mean_skilled_cpa - mean_skilled_non_cpa) * weight_cpa + \\\n",
    "    (mean_unskilled_cpa - mean_unskilled_non_cpa) * weight_non_cpa"
   ]
  },
  {
   "cell_type": "markdown",
   "metadata": {},
   "source": [
    "**Alternative 2:** Berechnung eines multiplen linearen Regressionsmodells (unter Berücksichtigung von Kontrollvariablen)."
   ]
  },
  {
   "cell_type": "code",
   "execution_count": 20,
   "metadata": {},
   "outputs": [
    {
     "name": "stdout",
     "output_type": "stream",
     "text": [
      "                            OLS Regression Results                            \n",
      "==============================================================================\n",
      "Dep. Variable:               earnings   R-squared:                       0.784\n",
      "Model:                            OLS   Adj. R-squared:                  0.784\n",
      "Method:                 Least Squares   F-statistic:                     9052.\n",
      "Date:                Wed, 06 Apr 2022   Prob (F-statistic):               0.00\n",
      "Time:                        13:58:30   Log-Likelihood:                -53205.\n",
      "No. Observations:                5000   AIC:                         1.064e+05\n",
      "Df Residuals:                    4997   BIC:                         1.064e+05\n",
      "Df Model:                           2                                         \n",
      "Covariance Type:            nonrobust                                         \n",
      "==============================================================================\n",
      "                 coef    std err          t      P>|t|      [0.025      0.975]\n",
      "------------------------------------------------------------------------------\n",
      "const       4.995e+04    223.409    223.571      0.000    4.95e+04    5.04e+04\n",
      "skill        1.46e+04    311.495     46.858      0.000     1.4e+04    1.52e+04\n",
      "CPA         3.035e+04    311.496     97.427      0.000    2.97e+04     3.1e+04\n",
      "==============================================================================\n",
      "Omnibus:                        2.111   Durbin-Watson:                   1.962\n",
      "Prob(Omnibus):                  0.348   Jarque-Bera (JB):                2.070\n",
      "Skew:                           0.048   Prob(JB):                        0.355\n",
      "Kurtosis:                       3.026   Cond. No.                         3.29\n",
      "==============================================================================\n",
      "\n",
      "Notes:\n",
      "[1] Standard Errors assume that the covariance matrix of the errors is correctly specified.\n"
     ]
    }
   ],
   "source": [
    "import statsmodels.api as sm\n",
    "\n",
    "X = cpa_data[['skill', 'CPA']]\n",
    "Y = cpa_data['earnings']\n",
    "\n",
    "model   = sm.OLS(Y, sm.add_constant(X))\n",
    "results = model.fit()\n",
    "\n",
    "print(results.summary())"
   ]
  }
 ],
 "metadata": {
  "interpreter": {
   "hash": "52634da84371cba311ea128a5ea7cdc41ff074b781779e754b270ff9f8153cee"
  },
  "kernelspec": {
   "display_name": "Python 3.8.5 64-bit",
   "language": "python",
   "name": "python3"
  },
  "language_info": {
   "codemirror_mode": {
    "name": "ipython",
    "version": 3
   },
   "file_extension": ".py",
   "mimetype": "text/x-python",
   "name": "python",
   "nbconvert_exporter": "python",
   "pygments_lexer": "ipython3",
   "version": "3.8.5"
  },
  "orig_nbformat": 4
 },
 "nbformat": 4,
 "nbformat_minor": 2
}
