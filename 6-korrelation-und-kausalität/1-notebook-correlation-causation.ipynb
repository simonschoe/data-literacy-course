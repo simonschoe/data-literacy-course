{
 "cells": [
  {
   "cell_type": "code",
   "execution_count": null,
   "metadata": {},
   "outputs": [],
   "source": [
    "import pandas as pd"
   ]
  },
  {
   "cell_type": "code",
   "execution_count": null,
   "metadata": {},
   "outputs": [],
   "source": [
    "cpa_data = pd.read_excel('cpa-simulations.xlsx')\n",
    "cpa_data"
   ]
  },
  {
   "cell_type": "markdown",
   "metadata": {},
   "source": [
    "### Was ist der Effekt eines WP-Examens auf das Einkommen?"
   ]
  },
  {
   "cell_type": "markdown",
   "metadata": {},
   "source": [
    "**Alternative 1:** Vergleich des durchschnittlichen Einkommens von WPs mit nicht WPs"
   ]
  },
  {
   "cell_type": "code",
   "execution_count": null,
   "metadata": {},
   "outputs": [],
   "source": [
    "mean_cpa        = cpa_data[cpa_data['CPA'] == 1]['earnings'].mean()\n",
    "mean_non_cpa    = cpa_data[cpa_data['CPA'] == 0]['earnings'].mean()\n",
    "\n",
    "mean_cpa, mean_non_cpa, mean_cpa-mean_non_cpa"
   ]
  },
  {
   "cell_type": "markdown",
   "metadata": {},
   "source": [
    "**Alternative 2:** Berechnung eines linearen Regressionsmodells."
   ]
  },
  {
   "cell_type": "code",
   "execution_count": null,
   "metadata": {},
   "outputs": [],
   "source": [
    "import statsmodels.api as sm\n",
    "\n",
    "X = cpa_data['CPA']\n",
    "Y = cpa_data['earnings']\n",
    "\n",
    "model   = sm.OLS(Y, sm.add_constant(X))\n",
    "results = model.fit()\n",
    "\n",
    "print(results.summary())"
   ]
  },
  {
   "cell_type": "code",
   "execution_count": null,
   "metadata": {},
   "outputs": [],
   "source": [
    "results.params"
   ]
  },
  {
   "cell_type": "code",
   "execution_count": null,
   "metadata": {},
   "outputs": [],
   "source": [
    "results.params['CPA']"
   ]
  },
  {
   "cell_type": "markdown",
   "metadata": {},
   "source": [
    "### Was ist der kausale Effekt eines WP-Examens auf das Einkommen?"
   ]
  },
  {
   "cell_type": "markdown",
   "metadata": {},
   "source": [
    "**Alternative 1:** Vergleich des durchschnittlichen Einkommens von WPs mit nicht WPs, die gleiche Fähigkeiten besitzen. Der kausale Effekt gibt sich dann als eine gewichtete Summe der Mittelwert-Differenzen."
   ]
  },
  {
   "cell_type": "code",
   "execution_count": null,
   "metadata": {},
   "outputs": [],
   "source": [
    "# Vergleich der Accountants mit hohen Fähigkeiten (`skill==1`)\n",
    "mean_cpa_skilled        = cpa_data[(cpa_data['CPA'] == 1) & (cpa_data['skill'] == 1)]['earnings'].mean()\n",
    "mean_non_cpa_skilled    = cpa_data[(cpa_data['CPA'] == 0) & (cpa_data['skill'] == 1)]['earnings'].mean()\n",
    "weight_skilled          = len(cpa_data[cpa_data['skill'] == 1]) / len(cpa_data)\n",
    "\n",
    "mean_cpa_skilled, mean_non_cpa_skilled, weight_skilled"
   ]
  },
  {
   "cell_type": "code",
   "execution_count": null,
   "metadata": {},
   "outputs": [],
   "source": [
    "# Vergleich der Accountants mit geringen Fähigkeiten (`skill==0`)\n",
    "mean_cpa_unskilled      = cpa_data[(cpa_data['CPA'] == 1) & (cpa_data['skill'] == 0)]['earnings'].mean()\n",
    "mean_non_cpa_unskilled  = cpa_data[(cpa_data['CPA'] == 0) & (cpa_data['skill'] == 0)]['earnings'].mean()\n",
    "weight_unskilled        = len(cpa_data[cpa_data['skill'] == 0]) / len(cpa_data)\n",
    "\n",
    "mean_cpa_unskilled, mean_non_cpa_unskilled, weight_unskilled"
   ]
  },
  {
   "cell_type": "code",
   "execution_count": null,
   "metadata": {},
   "outputs": [],
   "source": [
    "# Ermittlung des kausalen Effektes durch Gewichtung der Gruppen \n",
    "(mean_cpa_skilled - mean_non_cpa_skilled) * weight_skilled + \\\n",
    "    (mean_cpa_unskilled - mean_non_cpa_unskilled) * weight_unskilled"
   ]
  },
  {
   "cell_type": "markdown",
   "metadata": {},
   "source": [
    "**Alternative 2:** Berechnung eines multiplen linearen Regressionsmodells (unter Berücksichtigung von Kontrollvariablen)."
   ]
  },
  {
   "cell_type": "code",
   "execution_count": null,
   "metadata": {},
   "outputs": [],
   "source": [
    "import statsmodels.api as sm\n",
    "\n",
    "X = cpa_data[['CPA', 'skill']]\n",
    "Y = cpa_data['earnings']\n",
    "\n",
    "model   = sm.OLS(Y, sm.add_constant(X))\n",
    "results = model.fit()\n",
    "\n",
    "print(results.summary())"
   ]
  },
  {
   "cell_type": "code",
   "execution_count": null,
   "metadata": {},
   "outputs": [],
   "source": [
    "results.params['CPA']"
   ]
  },
  {
   "cell_type": "markdown",
   "metadata": {},
   "source": [
    "### Was ist der Effekt der individuellen Fähigkeiten auf das Einkommen?"
   ]
  },
  {
   "cell_type": "markdown",
   "metadata": {},
   "source": [
    "**Alternative 1:** Vergleich des durchschnittlichen Einkommens von Accountants mit hohen und geringen Fähigkeiten."
   ]
  },
  {
   "cell_type": "code",
   "execution_count": null,
   "metadata": {},
   "outputs": [],
   "source": [
    "mean_skilled    = cpa_data[<filter>]['earnings'].mean()\n",
    "mean_unskilled  = cpa_data[<filter>]['earnings'].mean()\n",
    "\n",
    "mean_skilled, mean_unskilled, mean_skilled-mean_unskilled"
   ]
  },
  {
   "cell_type": "markdown",
   "metadata": {},
   "source": [
    "**Alternative 2:** Berechnung eines linearen Regressionsmodells."
   ]
  },
  {
   "cell_type": "code",
   "execution_count": null,
   "metadata": {},
   "outputs": [],
   "source": [
    "import statsmodels.api as sm\n",
    "\n",
    "X = cpa_data[<name-unabhängige-variable>]\n",
    "Y = cpa_data[<name-abhängige-variable>]\n",
    "\n",
    "model   = sm.OLS(Y, sm.add_constant(X))\n",
    "results = model.fit()\n",
    "\n",
    "print(results.summary())"
   ]
  },
  {
   "cell_type": "code",
   "execution_count": null,
   "metadata": {},
   "outputs": [],
   "source": [
    "results.params[<name-koeffizient>]"
   ]
  },
  {
   "cell_type": "markdown",
   "metadata": {},
   "source": [
    "### Was ist der direkte Effekt der individuellen Fähigkeiten auf das Einkommen?"
   ]
  },
  {
   "cell_type": "markdown",
   "metadata": {},
   "source": [
    "**Alternative 1:** Vergleich des durchschnittlichen Einkommens von Accountants mit hohen versus geringen Fähigkeiten, die den gleiche Abschluss besitzen. Der direkte Effekt gibt sich dann als eine gewichtete Summe der Mittelwert-Differenzen."
   ]
  },
  {
   "cell_type": "code",
   "execution_count": null,
   "metadata": {},
   "outputs": [],
   "source": [
    "# Vergleich der Accountants mit WP (`CPA==1`)\n",
    "mean_skilled_cpa        = cpa_data[<filter>]['earnings'].mean()\n",
    "mean_skilled_non_cpa    = cpa_data[<filter>]['earnings'].mean()\n",
    "weight_cpa              = len(cpa_data[<filter>]) / len(cpa_data)\n",
    "\n",
    "mean_skilled_cpa, mean_skilled_non_cpa, weight_cpa"
   ]
  },
  {
   "cell_type": "code",
   "execution_count": null,
   "metadata": {},
   "outputs": [],
   "source": [
    "# Vergleich der Accountants ohne WP (`CPA==0`)\n",
    "mean_unskilled_cpa      = cpa_data[<filter>]['earnings'].mean()\n",
    "mean_unskilled_non_cpa  = cpa_data[<filter>]['earnings'].mean()\n",
    "weight_non_cpa          = len(cpa_data[filter]) / len(cpa_data)\n",
    "\n",
    "mean_unskilled_cpa, mean_unskilled_non_cpa, weight_non_cpa"
   ]
  },
  {
   "cell_type": "code",
   "execution_count": null,
   "metadata": {},
   "outputs": [],
   "source": [
    "# Ermittlung des kausalen Effektes durch Gewichtung der Gruppen \n",
    "<mittelwert-diff-wp> * <gewicht-wp> + \\\n",
    "    <mittelwert-diff-nicht-wp> * <gewicht-nicht-wp>"
   ]
  },
  {
   "cell_type": "markdown",
   "metadata": {},
   "source": [
    "**Alternative 2:** Berechnung eines multiplen linearen Regressionsmodells (unter Berücksichtigung von Kontrollvariablen)."
   ]
  },
  {
   "cell_type": "code",
   "execution_count": null,
   "metadata": {},
   "outputs": [],
   "source": [
    "import statsmodels.api as sm\n",
    "\n",
    "X = cpa_data[<name-unabhängige-variablen>]\n",
    "Y = cpa_data[<name-abhängige-variable>]\n",
    "\n",
    "model   = sm.OLS(Y, sm.add_constant(X))\n",
    "results = model.fit()\n",
    "\n",
    "print(results.summary())"
   ]
  },
  {
   "cell_type": "code",
   "execution_count": null,
   "metadata": {},
   "outputs": [],
   "source": [
    "results.params[<name-koeffizient>]"
   ]
  }
 ],
 "metadata": {
  "interpreter": {
   "hash": "52634da84371cba311ea128a5ea7cdc41ff074b781779e754b270ff9f8153cee"
  },
  "kernelspec": {
   "display_name": "Python 3.8.5 64-bit",
   "language": "python",
   "name": "python3"
  },
  "language_info": {
   "codemirror_mode": {
    "name": "ipython",
    "version": 3
   },
   "file_extension": ".py",
   "mimetype": "text/x-python",
   "name": "python",
   "nbconvert_exporter": "python",
   "pygments_lexer": "ipython3",
   "version": "3.8.5"
  },
  "orig_nbformat": 4
 },
 "nbformat": 4,
 "nbformat_minor": 2
}
