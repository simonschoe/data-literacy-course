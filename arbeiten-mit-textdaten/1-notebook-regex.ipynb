{
 "cells": [
  {
   "cell_type": "code",
   "execution_count": null,
   "id": "industrial-donna",
   "metadata": {},
   "outputs": [],
   "source": [
    "import re"
   ]
  },
  {
   "attachments": {},
   "cell_type": "markdown",
   "id": "803a1b00",
   "metadata": {},
   "source": [
    "### Suchbefehle"
   ]
  },
  {
   "cell_type": "code",
   "execution_count": null,
   "id": "f73e737d",
   "metadata": {},
   "outputs": [],
   "source": [
    "string = \"\"\"I have no special talents. I am only passionately curious.\n",
    "\n",
    "― Albert Einstein\"\"\"\n",
    "\n",
    "string"
   ]
  },
  {
   "cell_type": "code",
   "execution_count": null,
   "id": "567c26a9",
   "metadata": {},
   "outputs": [],
   "source": [
    "print(string)"
   ]
  },
  {
   "cell_type": "code",
   "execution_count": null,
   "id": "curious-enforcement",
   "metadata": {},
   "outputs": [],
   "source": [
    "# Suche am Anfang des Textes (kein match -> produziert None)\n",
    "re.match('e', string)"
   ]
  },
  {
   "cell_type": "code",
   "execution_count": null,
   "id": "biblical-cruise",
   "metadata": {},
   "outputs": [],
   "source": [
    "# Suche am Anfang des Textes (match)\n",
    "re.match('I', string)"
   ]
  },
  {
   "cell_type": "code",
   "execution_count": null,
   "id": "willing-expression",
   "metadata": {},
   "outputs": [],
   "source": [
    "# Suche im gesamten Text\n",
    "re.search('e', string)"
   ]
  },
  {
   "cell_type": "code",
   "execution_count": null,
   "id": "opened-literature",
   "metadata": {},
   "outputs": [],
   "source": [
    "# Extraktion des 1. Matches\n",
    "re.search('e', string)[0]"
   ]
  },
  {
   "cell_type": "code",
   "execution_count": null,
   "id": "emerging-delhi",
   "metadata": {},
   "outputs": [],
   "source": [
    "# Extraktion des 2. Matches\n",
    "re.search('e', string)[1]"
   ]
  },
  {
   "cell_type": "code",
   "execution_count": null,
   "id": "surrounded-honduras",
   "metadata": {},
   "outputs": [],
   "source": [
    "# Suche im gesamten Text + Extraktion aller Matches\n",
    "re.findall('e', string)"
   ]
  },
  {
   "cell_type": "code",
   "execution_count": null,
   "id": "6e30ec8c",
   "metadata": {},
   "outputs": [],
   "source": [
    "# Case-insensitive Suche\n",
    "print(re.findall('A', string))\n",
    "print(re.findall('A', string, flags=re.IGNORECASE))"
   ]
  },
  {
   "cell_type": "code",
   "execution_count": null,
   "id": "reported-portfolio",
   "metadata": {},
   "outputs": [],
   "source": [
    "# Suche nach Wörtern\n",
    "re.search('curious', string)[0]"
   ]
  },
  {
   "cell_type": "code",
   "execution_count": null,
   "id": "floral-priest",
   "metadata": {},
   "outputs": [],
   "source": [
    "re.search('Curious', string)"
   ]
  },
  {
   "cell_type": "code",
   "execution_count": null,
   "id": "crucial-stress",
   "metadata": {},
   "outputs": [],
   "source": [
    "# Case-insensitive Suche\n",
    "print(re.search('Curious', string))\n",
    "print(re.search('CURIOUS', string, flags=re.IGNORECASE))"
   ]
  },
  {
   "attachments": {},
   "cell_type": "markdown",
   "id": "organized-conspiracy",
   "metadata": {},
   "source": [
    "### Metacharacters"
   ]
  },
  {
   "cell_type": "code",
   "execution_count": null,
   "id": "thermal-import",
   "metadata": {},
   "outputs": [],
   "source": [
    "string = \"abcABC123.: !?\""
   ]
  },
  {
   "cell_type": "code",
   "execution_count": null,
   "id": "residential-entry",
   "metadata": {},
   "outputs": [],
   "source": [
    "# Suche nach beliebigem Zeichen (inkl. Leerzeichen), Ergebnis als Liste\n",
    "re.findall('.', string)"
   ]
  },
  {
   "cell_type": "code",
   "execution_count": null,
   "id": "00fb305d",
   "metadata": {},
   "outputs": [],
   "source": [
    "# Suche nach bestimmter Zeichenklassen\n",
    "print(re.findall('[a-z]', string))\n",
    "print(re.findall('[a-zA-Z]', string))"
   ]
  },
  {
   "cell_type": "code",
   "execution_count": null,
   "id": "cutting-miami",
   "metadata": {},
   "outputs": [],
   "source": [
    "string = \"bar ber bir bor bur\""
   ]
  },
  {
   "cell_type": "code",
   "execution_count": null,
   "id": "accompanied-criterion",
   "metadata": {},
   "outputs": [],
   "source": [
    "re.findall('bar', string)"
   ]
  },
  {
   "cell_type": "code",
   "execution_count": null,
   "id": "urban-purse",
   "metadata": {},
   "outputs": [],
   "source": [
    "# Suche nach bestimmter Zeichenklassen\n",
    "re.findall('b[aeiou]r', string)"
   ]
  },
  {
   "cell_type": "code",
   "execution_count": null,
   "id": "delayed-marine",
   "metadata": {},
   "outputs": [],
   "source": [
    "# Suche nach Zeichen außer der definierten Zeichenklassen (Negation/Komplement)\n",
    "re.findall('b[^ae]r', string)"
   ]
  },
  {
   "cell_type": "code",
   "execution_count": null,
   "id": "chinese-refund",
   "metadata": {},
   "outputs": [],
   "source": [
    "string = \"abcdefghijklmnopqrstuvwxyz0123456789\""
   ]
  },
  {
   "cell_type": "code",
   "execution_count": null,
   "id": "white-korean",
   "metadata": {},
   "outputs": [],
   "source": [
    "# Suche nach bestimmter Zeichenklassen (ineffizient)\n",
    "re.findall(r'[defghijk]', string)"
   ]
  },
  {
   "cell_type": "code",
   "execution_count": null,
   "id": "gothic-turning",
   "metadata": {},
   "outputs": [],
   "source": [
    "# Suche nach bestimmter Zeichenklassen (effizient)\n",
    "re.findall('[d-k]', string)"
   ]
  },
  {
   "cell_type": "code",
   "execution_count": null,
   "id": "junior-intro",
   "metadata": {},
   "outputs": [],
   "source": [
    "re.findall('[2-5]', string)"
   ]
  },
  {
   "attachments": {},
   "cell_type": "markdown",
   "id": "342b025b",
   "metadata": {},
   "source": [
    "### Escape Character"
   ]
  },
  {
   "cell_type": "code",
   "execution_count": null,
   "id": "quarterly-queen",
   "metadata": {},
   "outputs": [],
   "source": [
    "string = \"abcdefghijklm[hallo]nopqrstuvwxyz.0123456789\""
   ]
  },
  {
   "cell_type": "code",
   "execution_count": null,
   "id": "98280fb5",
   "metadata": {},
   "outputs": [],
   "source": [
    "# Interpretation von '.' als Metacharacter\n",
    "re.findall('.', string)"
   ]
  },
  {
   "cell_type": "code",
   "execution_count": null,
   "id": "employed-prefix",
   "metadata": {},
   "outputs": [],
   "source": [
    "# Interpretation von '.' als Teil des Strings\n",
    "re.findall('\\.', string)"
   ]
  },
  {
   "cell_type": "code",
   "execution_count": null,
   "id": "6377c9a1",
   "metadata": {},
   "outputs": [],
   "source": [
    "# Interpretation als Zeichenklasse\n",
    "re.findall('[hallo]', string)"
   ]
  },
  {
   "cell_type": "code",
   "execution_count": null,
   "id": "referenced-sigma",
   "metadata": {},
   "outputs": [],
   "source": [
    "# Interpretation als Teil des Strings\n",
    "re.findall('\\[hallo\\]', string)"
   ]
  },
  {
   "attachments": {},
   "cell_type": "markdown",
   "id": "generic-growth",
   "metadata": {},
   "source": [
    "### Wiederholungen"
   ]
  },
  {
   "cell_type": "code",
   "execution_count": null,
   "id": "together-western",
   "metadata": {},
   "outputs": [],
   "source": [
    "string = \"br ber beer beeer beeeer\""
   ]
  },
  {
   "cell_type": "code",
   "execution_count": null,
   "id": "coupled-rehabilitation",
   "metadata": {},
   "outputs": [],
   "source": [
    "# Das Zeichen `e` kann beliebig häufig auftreten\n",
    "re.findall('be*r', string)"
   ]
  },
  {
   "cell_type": "code",
   "execution_count": null,
   "id": "exact-scene",
   "metadata": {},
   "outputs": [],
   "source": [
    "# Das Zeichen `e` kann einmal oder mehrmals auftreten\n",
    "re.findall('be+r', string)"
   ]
  },
  {
   "cell_type": "code",
   "execution_count": null,
   "id": "danish-bulgarian",
   "metadata": {},
   "outputs": [],
   "source": [
    "# Das Zeichen `e` kann einmal oder keinmal auftreten\n",
    "re.findall(r'be?r', string)"
   ]
  },
  {
   "cell_type": "code",
   "execution_count": null,
   "id": "lasting-spanking",
   "metadata": {},
   "outputs": [],
   "source": [
    "# Das Zeichen `e` kann genau zwei mal auftreten\n",
    "re.findall(r'be{2}r', string)"
   ]
  },
  {
   "cell_type": "code",
   "execution_count": null,
   "id": "tracked-invention",
   "metadata": {},
   "outputs": [],
   "source": [
    "# Das Zeichen `e` kann zwei bis vier mal auftreten\n",
    "re.findall(r'be{2,4}r', string)"
   ]
  },
  {
   "attachments": {},
   "cell_type": "markdown",
   "id": "dental-mouth",
   "metadata": {},
   "source": [
    "### Anchors"
   ]
  },
  {
   "cell_type": "code",
   "execution_count": null,
   "id": "organic-breakdown",
   "metadata": {},
   "outputs": [],
   "source": [
    "string = \"stream cream beam seamless Raheem\""
   ]
  },
  {
   "cell_type": "code",
   "execution_count": null,
   "id": "accepted-herald",
   "metadata": {},
   "outputs": [],
   "source": [
    "re.findall('.*eam', string)"
   ]
  },
  {
   "cell_type": "code",
   "execution_count": null,
   "id": "primary-story",
   "metadata": {},
   "outputs": [],
   "source": [
    "# Die Zeichenfolge muss zu Beginn des strings auftreten\n",
    "re.findall('^s.{0,2}eam', string)  # alternativ: re.match('s.{0,2}eam', string)[0]"
   ]
  },
  {
   "cell_type": "code",
   "execution_count": null,
   "id": "standard-difference",
   "metadata": {},
   "outputs": [],
   "source": [
    "# Die Zeichenfolge muss zu Beginn des strings auftreten\n",
    "re.findall('^c.{0,2}eam', string)"
   ]
  },
  {
   "cell_type": "code",
   "execution_count": null,
   "id": "adaptive-zealand",
   "metadata": {},
   "outputs": [],
   "source": [
    "# Die Zeichenfolge muss am Ende des strings auftreten\n",
    "re.findall('eem$', string)"
   ]
  },
  {
   "cell_type": "code",
   "execution_count": null,
   "id": "mental-texture",
   "metadata": {},
   "outputs": [],
   "source": [
    "# Die Zeichenfolge muss am Ende des strings auftreten\n",
    "re.findall('eam$', string)"
   ]
  },
  {
   "attachments": {},
   "cell_type": "markdown",
   "id": "opening-uniform",
   "metadata": {},
   "source": [
    "### Groups"
   ]
  },
  {
   "cell_type": "code",
   "execution_count": null,
   "id": "swiss-manor",
   "metadata": {},
   "outputs": [],
   "source": [
    "string = \"2022-06-10 and 2020-June-10\""
   ]
  },
  {
   "cell_type": "code",
   "execution_count": null,
   "id": "84a04ebf",
   "metadata": {},
   "outputs": [],
   "source": [
    "# die erste Gruppe besteht aus 4 Zahlen\n",
    "# die zweite Gruppe besteht aus 2 Zahlen\n",
    "# die dritte Gruppe besteht aus 2 Zahlen\n",
    "# die drei Gruppen sind jeweils getrennt durch einen Bindestrich (nicht Teil der Gruppe!)\n",
    "regex = '([0-9]{4})-([0-9]{2})-([0-9]{2})'"
   ]
  },
  {
   "cell_type": "code",
   "execution_count": null,
   "id": "illegal-broad",
   "metadata": {},
   "outputs": [],
   "source": [
    "match = re.search(regex, string)\n",
    "match"
   ]
  },
  {
   "cell_type": "code",
   "execution_count": null,
   "id": "soviet-jefferson",
   "metadata": {},
   "outputs": [],
   "source": [
    "print(\"Gesamter Match:\", match.group(0))\n",
    "print(\"Jahr (1. Gruppe):\", match.group(1))\n",
    "print(\"Monat (2. Gruppe):\", match.group(2))\n",
    "print(\"Tag (3. Gruppe):\", match.group(3))"
   ]
  },
  {
   "cell_type": "code",
   "execution_count": null,
   "id": "9348ecd2",
   "metadata": {},
   "outputs": [],
   "source": [
    "string = \"2022-06-10 and 2023-07-12\""
   ]
  },
  {
   "cell_type": "code",
   "execution_count": null,
   "id": "1c752960",
   "metadata": {},
   "outputs": [],
   "source": [
    "re.findall(regex, string)"
   ]
  },
  {
   "cell_type": "code",
   "execution_count": null,
   "id": "f4e87f4d",
   "metadata": {},
   "outputs": [],
   "source": [
    "print(re.findall(regex, string)[0])\n",
    "print(re.findall(regex, string)[1])"
   ]
  },
  {
   "cell_type": "code",
   "execution_count": null,
   "id": "c57e24d9",
   "metadata": {},
   "outputs": [],
   "source": [
    "re.findall(regex, string)[0][0]"
   ]
  },
  {
   "attachments": {},
   "cell_type": "markdown",
   "id": "standard-standing",
   "metadata": {},
   "source": [
    "### Alternations"
   ]
  },
  {
   "cell_type": "code",
   "execution_count": null,
   "id": "normal-hormone",
   "metadata": {},
   "outputs": [],
   "source": [
    "string = \"I prefer TEXT DATA over tabular data\""
   ]
  },
  {
   "cell_type": "code",
   "execution_count": null,
   "id": "passive-device",
   "metadata": {},
   "outputs": [],
   "source": [
    "re.findall('DATA|data', string)"
   ]
  },
  {
   "cell_type": "code",
   "execution_count": null,
   "id": "337da38f",
   "metadata": {},
   "outputs": [],
   "source": [
    "re.findall('data|text|tabular', string, flags=re.IGNORECASE)"
   ]
  },
  {
   "attachments": {},
   "cell_type": "markdown",
   "id": "lovely-waters",
   "metadata": {},
   "source": [
    "### Andere spezielle Zeichen"
   ]
  },
  {
   "cell_type": "code",
   "execution_count": null,
   "id": "brief-bumper",
   "metadata": {},
   "outputs": [],
   "source": [
    "string = \"abc ABC\\n123 .:\\t!-_?\"\n",
    "print(string)"
   ]
  },
  {
   "cell_type": "code",
   "execution_count": null,
   "id": "restricted-figure",
   "metadata": {},
   "outputs": [],
   "source": [
    "# Suche nach Buchstaben, Zahlen und Unterstrichen\n",
    "re.findall('\\w', string)"
   ]
  },
  {
   "cell_type": "code",
   "execution_count": null,
   "id": "destroyed-florida",
   "metadata": {},
   "outputs": [],
   "source": [
    "# Suche nach Zahlen\n",
    "re.findall('\\d', string)"
   ]
  },
  {
   "cell_type": "code",
   "execution_count": null,
   "id": "legislative-default",
   "metadata": {},
   "outputs": [],
   "source": [
    "# Suche nach Leerzeichen \n",
    "re.findall('\\s', string)"
   ]
  },
  {
   "attachments": {},
   "cell_type": "markdown",
   "id": "baa0e844",
   "metadata": {},
   "source": [
    "### Anwendung: Name Matching"
   ]
  },
  {
   "cell_type": "code",
   "execution_count": null,
   "id": "72f67d29",
   "metadata": {},
   "outputs": [],
   "source": [
    "coname1 = 'SS&C TECHNOLOGIES HOLDINGS INCORPORATED'\n",
    "coname2 = 'SS&C Technologies Hldgs Inc.'\n",
    "\n",
    "print(coname1)\n",
    "print(coname2)\n",
    "print(coname1 == coname2)"
   ]
  },
  {
   "cell_type": "code",
   "execution_count": null,
   "id": "c4859f8e",
   "metadata": {},
   "outputs": [],
   "source": [
    " # lowercasing\n",
    "coname1 = coname1.lower()\n",
    "coname2 = coname2.lower()\n",
    "\n",
    "print(coname1)\n",
    "print(coname2)\n",
    "print(coname1 == coname2)"
   ]
  },
  {
   "cell_type": "code",
   "execution_count": null,
   "id": "8319aa4f",
   "metadata": {},
   "outputs": [],
   "source": [
    "# remove special characters\n",
    "coname1 = re.sub(r'[^a-z0-9 ]', '', coname1)\n",
    "coname2 = re.sub(r'[^a-z0-9 ]', '', coname2)\n",
    "\n",
    "print(coname1)\n",
    "print(coname2)\n",
    "print(coname1 == coname2)"
   ]
  },
  {
   "cell_type": "code",
   "execution_count": null,
   "id": "5ecc1395",
   "metadata": {},
   "outputs": [],
   "source": [
    "# remove legal forms\n",
    "coname1 = re.sub(r' (incorporation|incorporated|inc)$', '', coname1)\n",
    "coname2 = re.sub(r' (incorporation|incorporated|inc)$', '', coname2)\n",
    "\n",
    "print(coname1)\n",
    "print(coname2)\n",
    "print(coname1 == coname2)"
   ]
  },
  {
   "cell_type": "code",
   "execution_count": null,
   "id": "82236a49",
   "metadata": {},
   "outputs": [],
   "source": [
    "# normalize abbreviations\n",
    "coname1 = re.sub(r'hldgs', 'holdings', coname1)\n",
    "coname2 = re.sub(r'hldgs', 'holdings', coname2)\n",
    "\n",
    "print(coname1)\n",
    "print(coname2)\n",
    "print(coname1 == coname2)"
   ]
  }
 ],
 "metadata": {
  "interpreter": {
   "hash": "52634da84371cba311ea128a5ea7cdc41ff074b781779e754b270ff9f8153cee"
  },
  "kernelspec": {
   "display_name": "Python 3.8.5 64-bit",
   "language": "python",
   "name": "python3"
  },
  "language_info": {
   "codemirror_mode": {
    "name": "ipython",
    "version": 3
   },
   "file_extension": ".py",
   "mimetype": "text/x-python",
   "name": "python",
   "nbconvert_exporter": "python",
   "pygments_lexer": "ipython3",
   "version": "3.8.5"
  }
 },
 "nbformat": 4,
 "nbformat_minor": 5
}
