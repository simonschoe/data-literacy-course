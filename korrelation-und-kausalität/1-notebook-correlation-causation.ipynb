{
 "cells": [
  {
   "cell_type": "code",
   "execution_count": null,
   "metadata": {},
   "outputs": [],
   "source": [
    "import pandas as pd"
   ]
  },
  {
   "cell_type": "code",
   "execution_count": null,
   "metadata": {},
   "outputs": [],
   "source": [
    "cpa_data = pd.read_excel('cpa-simulations.xlsx', engine='openpyxl')\n",
    "cpa_data"
   ]
  },
  {
   "attachments": {},
   "cell_type": "markdown",
   "metadata": {},
   "source": [
    "### Was ist der Effekt eines WP-Examens auf das Einkommen?"
   ]
  },
  {
   "attachments": {},
   "cell_type": "markdown",
   "metadata": {},
   "source": [
    "**Alternative 1:** Vergleich des durchschnittlichen Einkommens (`earnings`) von WPs (`CPA=1`) mit nicht WPs (`CPA=0`)."
   ]
  },
  {
   "cell_type": "code",
   "execution_count": null,
   "metadata": {},
   "outputs": [],
   "source": [
    "mean_cpa        = cpa_data[cpa_data['CPA'] == 1]['earnings'].mean()\n",
    "mean_non_cpa    = cpa_data[cpa_data['CPA'] == 0]['earnings'].mean()\n",
    "\n",
    "print(mean_cpa)\n",
    "print(mean_non_cpa)\n",
    "print(mean_cpa - mean_non_cpa)"
   ]
  },
  {
   "attachments": {},
   "cell_type": "markdown",
   "metadata": {},
   "source": [
    "**Alternative 2:** Berechnung eines linearen Regressionsmodells."
   ]
  },
  {
   "cell_type": "code",
   "execution_count": null,
   "metadata": {},
   "outputs": [],
   "source": [
    "import statsmodels.api as sm\n",
    "\n",
    "# unabhängige Variable(n) und Achsenabschnitt\n",
    "X = cpa_data['CPA']\n",
    "X = sm.add_constant(X)\n",
    "# abhängige Variable\n",
    "Y = cpa_data['earnings']\n",
    "\n",
    "model   = sm.OLS(Y, X)\n",
    "results = model.fit()\n",
    "\n",
    "print(results.summary())"
   ]
  },
  {
   "cell_type": "code",
   "execution_count": null,
   "metadata": {},
   "outputs": [],
   "source": [
    "results.params"
   ]
  },
  {
   "cell_type": "code",
   "execution_count": null,
   "metadata": {},
   "outputs": [],
   "source": [
    "results.params['CPA']"
   ]
  },
  {
   "attachments": {},
   "cell_type": "markdown",
   "metadata": {},
   "source": [
    "### Was ist der kausale Effekt eines WP-Examens auf das Einkommen?"
   ]
  },
  {
   "attachments": {},
   "cell_type": "markdown",
   "metadata": {},
   "source": [
    "**Alternative 1:** Vergleich des durchschnittlichen Einkommens (`earnings`) von WPs (`CPA=1`) mit nicht WPs (`CPA=0`), die gleiche Fähigkeiten (`skill`) besitzen. Der kausale Effekt ergibt sich dann als eine gewichtete Summe der Mittelwert-Differenzen."
   ]
  },
  {
   "cell_type": "code",
   "execution_count": null,
   "metadata": {},
   "outputs": [],
   "source": [
    "# Vergleich der Accountants mit hohen Fähigkeiten (`skill==1`)\n",
    "mean_cpa_skilled        = cpa_data[(cpa_data['CPA'] == 1) & (cpa_data['skill'] == 1)]['earnings'].mean()\n",
    "mean_non_cpa_skilled    = cpa_data[(cpa_data['CPA'] == 0) & (cpa_data['skill'] == 1)]['earnings'].mean()\n",
    "\n",
    "print(mean_cpa_skilled)\n",
    "print(mean_non_cpa_skilled)"
   ]
  },
  {
   "cell_type": "code",
   "execution_count": null,
   "metadata": {},
   "outputs": [],
   "source": [
    "# Vergleich der Accountants mit geringen Fähigkeiten (`skill==0`)\n",
    "mean_cpa_unskilled      = cpa_data[(cpa_data['CPA'] == 1) & (cpa_data['skill'] == 0)]['earnings'].mean()\n",
    "mean_non_cpa_unskilled  = cpa_data[(cpa_data['CPA'] == 0) & (cpa_data['skill'] == 0)]['earnings'].mean()\n",
    "\n",
    "print(mean_cpa_unskilled)\n",
    "print(mean_non_cpa_unskilled)"
   ]
  },
  {
   "cell_type": "code",
   "execution_count": null,
   "metadata": {},
   "outputs": [],
   "source": [
    "# Gewichtung der Gruppen\n",
    "weight_skilled = len(cpa_data[cpa_data['skill'] == 1]) / len(cpa_data)\n",
    "weight_skilled"
   ]
  },
  {
   "cell_type": "code",
   "execution_count": null,
   "metadata": {},
   "outputs": [],
   "source": [
    "# Ermittlung des kausalen Effektes durch Gewichtung der Gruppen \n",
    "(mean_cpa_skilled - mean_non_cpa_skilled) * weight_skilled + (mean_cpa_unskilled - mean_non_cpa_unskilled) * (1 - weight_skilled)"
   ]
  },
  {
   "attachments": {},
   "cell_type": "markdown",
   "metadata": {},
   "source": [
    "**Alternative 2:** Berechnung eines multiplen linearen Regressionsmodells (unter Berücksichtigung einer Kontrollvariable für `skill`)."
   ]
  },
  {
   "cell_type": "code",
   "execution_count": null,
   "metadata": {},
   "outputs": [],
   "source": [
    "# unabhängige Variable(n) und Achsenabschnitt\n",
    "X = cpa_data[['CPA', 'skill']]\n",
    "X = sm.add_constant(X)\n",
    "# abhängige Variable\n",
    "Y = cpa_data['earnings']\n",
    "\n",
    "model   = sm.OLS(Y, X)\n",
    "results = model.fit()\n",
    "\n",
    "print(results.summary())"
   ]
  },
  {
   "cell_type": "code",
   "execution_count": null,
   "metadata": {},
   "outputs": [],
   "source": [
    "results.params['CPA']"
   ]
  },
  {
   "attachments": {},
   "cell_type": "markdown",
   "metadata": {},
   "source": [
    "### Was ist der Effekt der individuellen Fähigkeiten auf das Einkommen?"
   ]
  },
  {
   "attachments": {},
   "cell_type": "markdown",
   "metadata": {},
   "source": [
    "**Alternative 1:** Vergleich des durchschnittlichen Einkommens (`earnings`) von Accountants mit hohen (`skill=1`) und geringen Fähigkeiten (`skill=0`). Ersetze dafür den Platzhalter `<mask>` durch den jeweils richtigen Code Baustein."
   ]
  },
  {
   "cell_type": "code",
   "execution_count": null,
   "metadata": {},
   "outputs": [],
   "source": [
    "mean_skilled    = cpa_data[<mask>]['earnings'].mean()\n",
    "mean_unskilled  = cpa_data[<mask>]['earnings'].mean()\n",
    "\n",
    "print(mean_skilled)\n",
    "print(mean_unskilled)\n",
    "print(mean_skilled - mean_unskilled)"
   ]
  },
  {
   "attachments": {},
   "cell_type": "markdown",
   "metadata": {},
   "source": [
    "**Alternative 2:** Berechnung eines linearen Regressionsmodells. Ersetze dafür den Platzhalter `<...>` durch den jeweils richtigen Code Baustein."
   ]
  },
  {
   "cell_type": "code",
   "execution_count": null,
   "metadata": {},
   "outputs": [],
   "source": [
    "X = cpa_data[<...>]\n",
    "X = sm.add_constant(X)\n",
    "Y = cpa_data[<...>]\n",
    "\n",
    "model   = sm.OLS(Y, X)\n",
    "results = model.fit()\n",
    "\n",
    "print(results.summary())"
   ]
  },
  {
   "cell_type": "code",
   "execution_count": null,
   "metadata": {},
   "outputs": [],
   "source": [
    "results.params[<...>]"
   ]
  },
  {
   "attachments": {},
   "cell_type": "markdown",
   "metadata": {},
   "source": [
    "### Was ist der direkte Effekt der individuellen Fähigkeiten auf das Einkommen?"
   ]
  },
  {
   "attachments": {},
   "cell_type": "markdown",
   "metadata": {},
   "source": [
    "**Alternative 1:** Vergleich des durchschnittlichen Einkommens (`earnings`) von Accountants mit hohen (`skill=1`) und geringen Fähigkeiten (`skill=0`), die den gleiche Abschluss (`CPA`) besitzen. Der direkte Effekt ergibt sich dann als eine gewichtete Summe der Mittelwert-Differenzen. Ersetze dafür den Platzhalter `<...>` durch den jeweils richtigen Code Baustein."
   ]
  },
  {
   "cell_type": "code",
   "execution_count": null,
   "metadata": {},
   "outputs": [],
   "source": [
    "# Vergleich der Accountants mit WP (`CPA==1`)\n",
    "mean_skilled_cpa        = cpa_data[<mask>]['earnings'].mean()\n",
    "mean_unskilled_cpa      = cpa_data[<mask>]['earnings'].mean()\n",
    "\n",
    "print(mean_skilled_cpa)\n",
    "print(mean_unskilled_cpa)"
   ]
  },
  {
   "cell_type": "code",
   "execution_count": null,
   "metadata": {},
   "outputs": [],
   "source": [
    "# Vergleich der Accountants ohne WP (`CPA==0`)\n",
    "mean_skilled_non_cpa    = cpa_data[<mask>]['earnings'].mean()\n",
    "mean_unskilled_non_cpa  = cpa_data[<mask>]['earnings'].mean()\n",
    "\n",
    "print(mean_skilled_non_cpa)\n",
    "print(mean_unskilled_non_cpa)"
   ]
  },
  {
   "cell_type": "code",
   "execution_count": null,
   "metadata": {},
   "outputs": [],
   "source": [
    "weight_cpa = len(cpa_data[<mask>]) / len(cpa_data)\n",
    "weight_cpa"
   ]
  },
  {
   "cell_type": "code",
   "execution_count": null,
   "metadata": {},
   "outputs": [],
   "source": [
    "# Ermittlung des kausalen Effektes durch Gewichtung der Gruppen \n",
    "<mittelwert-diff-wp> * <gewicht-wp> + <mittelwert-diff-nicht-wp> * <gewicht-nicht-wp>"
   ]
  },
  {
   "attachments": {},
   "cell_type": "markdown",
   "metadata": {},
   "source": [
    "**Alternative 2:** Berechnung eines multiplen linearen Regressionsmodells (unter Berücksichtigung einer Kontrollvariable für `CPA`). Ersetze dafür den Platzhalter `<...>` durch den jeweils richtigen Code Baustein."
   ]
  },
  {
   "cell_type": "code",
   "execution_count": null,
   "metadata": {},
   "outputs": [],
   "source": [
    "X = cpa_data[<...>]\n",
    "X = sm.add_constant(X)\n",
    "Y = cpa_data[<...>]\n",
    "\n",
    "model   = sm.OLS(Y, X)\n",
    "results = model.fit()\n",
    "\n",
    "print(results.summary())"
   ]
  },
  {
   "cell_type": "code",
   "execution_count": null,
   "metadata": {},
   "outputs": [],
   "source": [
    "results.params[<...>]"
   ]
  }
 ],
 "metadata": {
  "interpreter": {
   "hash": "52634da84371cba311ea128a5ea7cdc41ff074b781779e754b270ff9f8153cee"
  },
  "kernelspec": {
   "display_name": "Python 3.8.5 64-bit",
   "language": "python",
   "name": "python3"
  },
  "language_info": {
   "codemirror_mode": {
    "name": "ipython",
    "version": 3
   },
   "file_extension": ".py",
   "mimetype": "text/x-python",
   "name": "python",
   "nbconvert_exporter": "python",
   "pygments_lexer": "ipython3",
   "version": "3.8.5"
  },
  "orig_nbformat": 4
 },
 "nbformat": 4,
 "nbformat_minor": 2
}
