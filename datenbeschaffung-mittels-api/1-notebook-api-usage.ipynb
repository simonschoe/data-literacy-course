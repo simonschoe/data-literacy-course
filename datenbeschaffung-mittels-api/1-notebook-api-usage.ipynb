{
 "cells": [
  {
   "cell_type": "code",
   "execution_count": null,
   "id": "industrial-donna",
   "metadata": {},
   "outputs": [],
   "source": [
    "import requests\n",
    "import json\n",
    "import pandas as pd"
   ]
  },
  {
   "attachments": {},
   "cell_type": "markdown",
   "id": "d9c8459c",
   "metadata": {},
   "source": [
    "### Anwendungsbeispiel 1: Automatisierte Übersetzung mit DeepL\n",
    "\n",
    "Read the [docs](https://www.deepl.com/docs-api)"
   ]
  },
  {
   "cell_type": "code",
   "execution_count": null,
   "id": "978eba2d",
   "metadata": {},
   "outputs": [],
   "source": [
    "# Alternative 1 (empfohlen): Abruf Auth Token aus externer Datei\n",
    "with open('token.json') as f:\n",
    "    credentials = json.load(f)\n",
    "    AUTH_KEY_DEEPL = credentials['AUTH_TOKEN_DEEPL']\n",
    "\n",
    "# Alternative 2 (nicht empfohlen): Manuelle Eingabe des Auth Token\n",
    "# AUTH_KEY_DEEPL = '<AUTH TOKEN>'"
   ]
  },
  {
   "cell_type": "code",
   "execution_count": null,
   "id": "3aec9d55",
   "metadata": {},
   "outputs": [],
   "source": [
    "ENDPOINT = 'https://api-free.deepl.com/v2/translate'\n",
    "\n",
    "text = \"\"\"Data literacy is the ability to read, understand, create, and communicate data as information. Much like literacy as a general concept, data literacy focuses on the competencies involved in working with data.\n",
    "It is, however, not similar to the ability to read text since it requires certain skills involving reading and understanding data.\"\"\"\n",
    "\n",
    "HEADER = {'Authorization': 'DeepL-Auth-Key ' + AUTH_KEY_DEEPL}\n",
    "\n",
    "PARAMS = {'source_lang': 'EN',\n",
    "          'target_lang': 'DE',\n",
    "          'text': text}\n",
    "\n",
    "response = requests.get(ENDPOINT, headers=HEADER, params=PARAMS)"
   ]
  },
  {
   "cell_type": "code",
   "execution_count": null,
   "id": "9ce03015",
   "metadata": {},
   "outputs": [],
   "source": [
    "response"
   ]
  },
  {
   "cell_type": "code",
   "execution_count": null,
   "id": "77108a35",
   "metadata": {},
   "outputs": [],
   "source": [
    "response.json()"
   ]
  },
  {
   "cell_type": "code",
   "execution_count": null,
   "id": "34a93dcd",
   "metadata": {},
   "outputs": [],
   "source": [
    "print(response.json()['translations'][0]['text'])"
   ]
  },
  {
   "cell_type": "code",
   "execution_count": null,
   "id": "quarterly-diamond",
   "metadata": {},
   "outputs": [],
   "source": [
    "def translate(text, source_lang, target_lang):\n",
    "        \n",
    "    ENDPOINT = 'https://api-free.deepl.com/v2/translate'\n",
    "    \n",
    "    with open('token.json') as f:\n",
    "        credentials = json.load(f)\n",
    "        AUTH_KEY_DEEPL = credentials['AUTH_TOKEN_DEEPL']\n",
    "\n",
    "    # AUTH_KEY_DEEPL = '<AUTH TOKEN>'\n",
    "    \n",
    "    HEADER = {'Authorization': 'DeepL-Auth-Key ' + AUTH_KEY_DEEPL}\n",
    "\n",
    "    PARAMS = {'source_lang': source_lang,\n",
    "              'target_lang': target_lang,\n",
    "              'text': text}\n",
    "    \n",
    "    response = requests.get(ENDPOINT, headers=HEADER, params=PARAMS)\n",
    "    \n",
    "    return response.json()['translations'][0]['text']"
   ]
  },
  {
   "cell_type": "code",
   "execution_count": null,
   "id": "95b013ba",
   "metadata": {},
   "outputs": [],
   "source": [
    "sentences = [\"Data literacy is the ability to read, understand, create, and communicate data as information.\",\n",
    "             \"Much like literacy as a general concept, data literacy focuses on the competencies involved in working with data.\",\n",
    "             \"It is, however, not similar to the ability to read text since it requires certain skills involving reading and understanding data.\"]\n",
    "\n",
    "for sent in sentences:\n",
    "    print(translate(sent, 'EN', 'DE'))"
   ]
  },
  {
   "attachments": {},
   "cell_type": "markdown",
   "id": "fadf0ed5",
   "metadata": {},
   "source": [
    "*Hinweis: Es gibt sogar ein separates Python package (`deepl`), was die Benutzung der API noch einfacher macht!*"
   ]
  },
  {
   "attachments": {},
   "cell_type": "markdown",
   "id": "f87a0261",
   "metadata": {},
   "source": [
    "### Anwendungsbeispiel 2: Transkription mit AssemblyAI\n",
    "\n",
    "Read the [docs](https://docs.assemblyai.com/)"
   ]
  },
  {
   "attachments": {},
   "cell_type": "markdown",
   "id": "f41050f8",
   "metadata": {},
   "source": [
    "Schritt 1: Upload der Audio-Datei"
   ]
  },
  {
   "cell_type": "code",
   "execution_count": null,
   "id": "d518ab0d",
   "metadata": {},
   "outputs": [],
   "source": [
    "UPLOAD_ENDPOINT = 'https://api.assemblyai.com/v2/upload'\n",
    "\n",
    "with open('token.json') as f:\n",
    "    credentials = json.load(f)\n",
    "    AUTH_TOKEN_ASSEMBLYAI = credentials['AUTH_TOKEN_ASSEMBLYAI']\n",
    "\n",
    "# AUTH_TOKEN_ASSEMBLYAI = '<AUTH TOKEN>'\n",
    "\n",
    "HEADER = {'authorization': AUTH_TOKEN_ASSEMBLYAI,\n",
    "          'content-type': 'application/json'}\n",
    "\n",
    "with open('data/recording.m4a', 'rb') as f:\n",
    "    audio_file = f.read()\n",
    "    \n",
    "response = requests.post(UPLOAD_ENDPOINT, headers=HEADER, data=audio_file)\n",
    "response"
   ]
  },
  {
   "cell_type": "code",
   "execution_count": null,
   "id": "c746f286",
   "metadata": {},
   "outputs": [],
   "source": [
    "response.json()"
   ]
  },
  {
   "cell_type": "code",
   "execution_count": null,
   "id": "cd625432",
   "metadata": {},
   "outputs": [],
   "source": [
    "UPLOAD_URL = response.json()['upload_url']"
   ]
  },
  {
   "attachments": {},
   "cell_type": "markdown",
   "id": "b4da0bdf",
   "metadata": {},
   "source": [
    "Schritt 2: Starten der Transkription\n",
    "\n",
    "Inzwischen werden auch Transkriptionen in [Spanisch, Französisch, Deutsch und Italienisch](https://docs.assemblyai.com/#supported-languages) unterstützt."
   ]
  },
  {
   "cell_type": "code",
   "execution_count": null,
   "id": "8fa80d40",
   "metadata": {},
   "outputs": [],
   "source": [
    "TRANSCRIPT_ENDPOINT = 'https://api.assemblyai.com/v2/transcript'\n",
    "\n",
    "JSON = {'audio_url': UPLOAD_URL,\n",
    "        'language_code': 'en',\n",
    "        'speaker_labels': 'true'}\n",
    "\n",
    "response = requests.post(TRANSCRIPT_ENDPOINT, headers=HEADER, json=JSON)\n",
    "response"
   ]
  },
  {
   "cell_type": "code",
   "execution_count": null,
   "id": "fb466779",
   "metadata": {},
   "outputs": [],
   "source": [
    "response.json()"
   ]
  },
  {
   "cell_type": "code",
   "execution_count": null,
   "id": "5579e606",
   "metadata": {},
   "outputs": [],
   "source": [
    "TRANSCRIPT_ID = response.json()['id']"
   ]
  },
  {
   "attachments": {},
   "cell_type": "markdown",
   "id": "11a979dd",
   "metadata": {},
   "source": [
    "Schritt 3: Download des Transkriptes\n",
    "\n",
    "*Hinweis: Laut [Anbieter](https://docs.assemblyai.com/#processing-times) veranschlagt der Prozess etwa 30% der Länge der Audio-Datei.*"
   ]
  },
  {
   "cell_type": "code",
   "execution_count": null,
   "id": "62355c27",
   "metadata": {},
   "outputs": [],
   "source": [
    "response = requests.get(TRANSCRIPT_ENDPOINT + '/' + TRANSCRIPT_ID, headers=HEADER)\n",
    "response"
   ]
  },
  {
   "cell_type": "code",
   "execution_count": null,
   "id": "276d8203",
   "metadata": {},
   "outputs": [],
   "source": [
    "response.json()"
   ]
  },
  {
   "cell_type": "code",
   "execution_count": null,
   "id": "54bb3e08",
   "metadata": {},
   "outputs": [],
   "source": [
    "response.json()['text']"
   ]
  },
  {
   "attachments": {},
   "cell_type": "markdown",
   "id": "09fdcddc",
   "metadata": {},
   "source": [
    "### Anwendungsbeispiel 3: Chatbots\n",
    "\n",
    "Read the [docs](https://platform.openai.com/docs/introduction)"
   ]
  },
  {
   "attachments": {},
   "cell_type": "markdown",
   "id": "f0e4a35d",
   "metadata": {},
   "source": [
    "Verwendung mittels `requests` Bibliothek"
   ]
  },
  {
   "cell_type": "code",
   "execution_count": null,
   "id": "7b30f4bf",
   "metadata": {},
   "outputs": [],
   "source": [
    "# Alternative 1 (empfohlen): Abruf Auth Token aus externer Datei\n",
    "with open('token.json') as f:\n",
    "    credentials = json.load(f)\n",
    "    AUTH_KEY_OPENAI = credentials['OPENAI_API_KEY']\n",
    "\n",
    "# Alternative 2 (nicht empfohlen): Manuelle Eingabe des Auth Token\n",
    "# AUTH_KEY_OPENAI = '<AUTH TOKEN>'"
   ]
  },
  {
   "cell_type": "code",
   "execution_count": null,
   "id": "77e06e15",
   "metadata": {},
   "outputs": [],
   "source": [
    "ENDPOINT = 'https://api.openai.com/v1/chat/completions'\n",
    "\n",
    "text = \"\"\"\n",
    "APIs, kurz für Application Programming Interfaces, sind schwer zu verstehen.\n",
    "Erkläre in einfachen Worten was eine API ist und wie sie funktioniert. Nutze Metaphern und Analogien, um es verständlicher zu machen.\n",
    "\"\"\"\n",
    "\n",
    "HEADER = {'Authorization': 'Bearer ' + AUTH_KEY_OPENAI}\n",
    "\n",
    "MESSAGE = {'model': 'gpt-3.5-turbo',\n",
    "           'messages': [{'role': 'user', 'content': text}]}\n",
    "\n",
    "response = requests.post(ENDPOINT, headers=HEADER, json=MESSAGE)"
   ]
  },
  {
   "cell_type": "code",
   "execution_count": null,
   "id": "27a53417",
   "metadata": {},
   "outputs": [],
   "source": [
    "response"
   ]
  },
  {
   "cell_type": "code",
   "execution_count": null,
   "id": "90343833",
   "metadata": {},
   "outputs": [],
   "source": [
    "response.json()"
   ]
  },
  {
   "cell_type": "code",
   "execution_count": null,
   "id": "fc084ff1",
   "metadata": {},
   "outputs": [],
   "source": [
    "print(response.json()['choices'][0]['message']['content'])"
   ]
  },
  {
   "attachments": {},
   "cell_type": "markdown",
   "id": "189d1c0c",
   "metadata": {},
   "source": [
    "Verwendung mittels `openai` Bibliothek"
   ]
  },
  {
   "cell_type": "code",
   "execution_count": null,
   "id": "73a26aa6",
   "metadata": {},
   "outputs": [],
   "source": [
    "import openai\n",
    "\n",
    "openai.api_key = AUTH_KEY_OPENAI\n",
    "\n",
    "MESSAGE = {'model': 'gpt-3.5-turbo',\n",
    "           'messages': [{'role': 'user', 'content': text}]}\n",
    "\n",
    "response = openai.ChatCompletion.create(\n",
    "    model='gpt-3.5-turbo',\n",
    "    messages=MESSAGE['messages'],\n",
    "    temperature=0\n",
    ")"
   ]
  },
  {
   "cell_type": "code",
   "execution_count": null,
   "id": "cde028b8",
   "metadata": {},
   "outputs": [],
   "source": [
    "response"
   ]
  },
  {
   "cell_type": "code",
   "execution_count": null,
   "id": "8c3df6b6",
   "metadata": {},
   "outputs": [],
   "source": [
    "print(response['choices'][0]['message']['content'])"
   ]
  },
  {
   "attachments": {},
   "cell_type": "markdown",
   "id": "b9a82d1a",
   "metadata": {},
   "source": [
    "Ein Praktischer Anwendungsfall: News Summarization"
   ]
  },
  {
   "cell_type": "code",
   "execution_count": null,
   "id": "5e44a554",
   "metadata": {},
   "outputs": [],
   "source": [
    "with open('data/news_article.txt') as f:\n",
    "    news = f.read()\n",
    "\n",
    "print(news)"
   ]
  },
  {
   "cell_type": "code",
   "execution_count": null,
   "id": "d90c92bb",
   "metadata": {},
   "outputs": [],
   "source": [
    "text = f\"\"\"\n",
    "Perform the following actions step-by-step:\n",
    "Step 1 - Summarize the key information in the news article delimited by triple dashes. Use three sentences at most.\n",
    "Step 2 - Extract the names of all entities (e.g., companies, countries, persons) mentioned in the article.\n",
    "Step 3 - Is the article discussing a rating action by Moody's?\n",
    "\n",
    "\n",
    "Structure your answer using the following format:\n",
    "Step 1: <list of bullet points>\n",
    "Step 2: <list of bullet points>\n",
    "Step 3: <yes/no as boolean value>\n",
    "\n",
    " \n",
    "News article:\n",
    "---\n",
    "Body: {news}\n",
    "---\n",
    "\"\"\"\n",
    "\n",
    "print(text)"
   ]
  },
  {
   "cell_type": "code",
   "execution_count": null,
   "id": "571b95aa",
   "metadata": {},
   "outputs": [],
   "source": [
    "MESSAGE = {'model': 'gpt-3.5-turbo',\n",
    "           'messages': [{'role': 'user', 'content': text}]}\n",
    "\n",
    "response = openai.ChatCompletion.create(\n",
    "    model='gpt-3.5-turbo',\n",
    "    messages=MESSAGE['messages'],\n",
    "    temperature=0\n",
    ")"
   ]
  },
  {
   "cell_type": "code",
   "execution_count": null,
   "id": "2ddcc7d0",
   "metadata": {},
   "outputs": [],
   "source": [
    "print(response['choices'][0]['message']['content'])"
   ]
  },
  {
   "attachments": {},
   "cell_type": "markdown",
   "id": "1bc52db9",
   "metadata": {},
   "source": [
    "### Anwendungsbeispiel 4: Amtliche Statistiken mit Datenguide\n",
    "\n",
    "Read the [docs](https://datengui.de/docs)\n",
    "\n",
    "*Hinweis: Da Datenguide open data bereitstellt brauchen wir keine `auth_token`!\n",
    "\n",
    "Der `data` Code `52411:ISV001` kennzeichnet den Datensatz \"Statistik über beantragte Insolvenzverfahren - Insolvenzverfahren\", der `region` Code `05` steht für \"Nordrhein-Westfalen\", und es werden alle verfügbaren Daten ab `2008` abgerufen.*"
   ]
  },
  {
   "cell_type": "code",
   "execution_count": null,
   "id": "7a6d8a3a",
   "metadata": {},
   "outputs": [],
   "source": [
    "ENDPOINT_DATENGUIDE = 'https://tabular.genesapi.org'\n",
    "\n",
    "PARAMS = {'data': '52411:ISV001',\n",
    "          'region': '05',\n",
    "          'time': '2008:',\n",
    "          'format':'json'}\n",
    "\n",
    "response = requests.get(ENDPOINT_DATENGUIDE, params=PARAMS)\n",
    "response"
   ]
  },
  {
   "cell_type": "code",
   "execution_count": null,
   "id": "07532099",
   "metadata": {},
   "outputs": [],
   "source": [
    "response.json()"
   ]
  },
  {
   "cell_type": "code",
   "execution_count": null,
   "id": "382e5873",
   "metadata": {},
   "outputs": [],
   "source": [
    "response.json()['data']"
   ]
  },
  {
   "cell_type": "code",
   "execution_count": null,
   "id": "97104a6e",
   "metadata": {},
   "outputs": [],
   "source": [
    "df = pd.DataFrame(response.json()['data'])\n",
    "df"
   ]
  },
  {
   "cell_type": "code",
   "execution_count": null,
   "id": "7723d98e",
   "metadata": {},
   "outputs": [],
   "source": [
    "df.drop_duplicates(subset=['year', 'value']).plot.line(x='year', y='value')"
   ]
  }
 ],
 "metadata": {
  "interpreter": {
   "hash": "52634da84371cba311ea128a5ea7cdc41ff074b781779e754b270ff9f8153cee"
  },
  "kernelspec": {
   "display_name": "Python 3.8.5 64-bit",
   "language": "python",
   "name": "python3"
  },
  "language_info": {
   "codemirror_mode": {
    "name": "ipython",
    "version": 3
   },
   "file_extension": ".py",
   "mimetype": "text/x-python",
   "name": "python",
   "nbconvert_exporter": "python",
   "pygments_lexer": "ipython3",
   "version": "3.8.5"
  }
 },
 "nbformat": 4,
 "nbformat_minor": 5
}
