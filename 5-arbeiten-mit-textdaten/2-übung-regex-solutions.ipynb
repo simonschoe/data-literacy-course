{
 "cells": [
  {
   "cell_type": "code",
   "execution_count": 1,
   "id": "industrial-donna",
   "metadata": {},
   "outputs": [],
   "source": [
    "import re"
   ]
  },
  {
   "cell_type": "markdown",
   "id": "aerial-teens",
   "metadata": {},
   "source": [
    "### Übungsaufgaben 1"
   ]
  },
  {
   "cell_type": "code",
   "execution_count": 2,
   "id": "regulated-astronomy",
   "metadata": {},
   "outputs": [],
   "source": [
    "string = \"\"\"Every man takes the limits of his own field of vision for the limits of the world.\n",
    "― Arthur Schopenhauer\"\"\""
   ]
  },
  {
   "cell_type": "markdown",
   "id": "9e429639",
   "metadata": {},
   "source": [
    "1. Extrahiere alle Erscheinungen des Wortes `of`."
   ]
  },
  {
   "cell_type": "code",
   "execution_count": 3,
   "id": "ultimate-layer",
   "metadata": {},
   "outputs": [
    {
     "data": {
      "text/plain": [
       "['of', 'of', 'of']"
      ]
     },
     "execution_count": 3,
     "metadata": {},
     "output_type": "execute_result"
    }
   ],
   "source": [
    "re.findall(r'of', string)"
   ]
  },
  {
   "cell_type": "markdown",
   "id": "2b0d328b",
   "metadata": {},
   "source": [
    "2. Extrahiere alle Erscheinungen des Zeichen `o`, gefolgt von einem beliebigem anderen Zeichen."
   ]
  },
  {
   "cell_type": "code",
   "execution_count": 4,
   "id": "functional-opposition",
   "metadata": {},
   "outputs": [
    {
     "data": {
      "text/plain": [
       "['of', 'ow', 'of', 'on', 'or', 'of', 'or', 'op']"
      ]
     },
     "execution_count": 4,
     "metadata": {},
     "output_type": "execute_result"
    }
   ],
   "source": [
    "re.findall(r'o.', string)"
   ]
  },
  {
   "cell_type": "markdown",
   "id": "c39d563e",
   "metadata": {},
   "source": [
    "3. Extrahiere alle Wörter, die aus drei beliebigen Zeichen bestehen."
   ]
  },
  {
   "cell_type": "code",
   "execution_count": 5,
   "id": "respective-interaction",
   "metadata": {},
   "outputs": [
    {
     "data": {
      "text/plain": [
       "[' man ', ' the ', ' his ', ' for ', ' the ']"
      ]
     },
     "execution_count": 5,
     "metadata": {},
     "output_type": "execute_result"
    }
   ],
   "source": [
    "re.findall(r' ... ', string)"
   ]
  },
  {
   "cell_type": "markdown",
   "id": "325bc52b",
   "metadata": {},
   "source": [
    "4. Extrahiere alle Zeichenfolgen, die mit einem beliebigem Zeichen beginnen, gefolgt von der Zeichenfolge `eer`."
   ]
  },
  {
   "cell_type": "code",
   "execution_count": 6,
   "id": "37a3f462",
   "metadata": {},
   "outputs": [],
   "source": [
    "string = \"beer deer feer\""
   ]
  },
  {
   "cell_type": "code",
   "execution_count": 7,
   "id": "7386176c",
   "metadata": {},
   "outputs": [
    {
     "data": {
      "text/plain": [
       "(['beer', 'deer', 'feer'], ['beer', 'deer', 'feer'])"
      ]
     },
     "execution_count": 7,
     "metadata": {},
     "output_type": "execute_result"
    }
   ],
   "source": [
    "re.findall(r'.eer', string), re.findall(r'[bdf]eer', string)"
   ]
  },
  {
   "cell_type": "markdown",
   "id": "8a8f17c5",
   "metadata": {},
   "source": [
    "5. Extrahiere alle Zeichenfolgen, die nicht mit `b` oder `d` beginnen, gefolgt von der Zeichenfolge `eer`."
   ]
  },
  {
   "cell_type": "code",
   "execution_count": 8,
   "id": "preliminary-reverse",
   "metadata": {},
   "outputs": [
    {
     "data": {
      "text/plain": [
       "['feer']"
      ]
     },
     "execution_count": 8,
     "metadata": {},
     "output_type": "execute_result"
    }
   ],
   "source": [
    "re.findall(r'[^bd]eer', string)"
   ]
  },
  {
   "cell_type": "markdown",
   "id": "banner-favorite",
   "metadata": {},
   "source": [
    "### Übungsaufgaben 2"
   ]
  },
  {
   "cell_type": "code",
   "execution_count": 9,
   "id": "aggressive-desktop",
   "metadata": {},
   "outputs": [],
   "source": [
    "string = \"2022-06-10\""
   ]
  },
  {
   "cell_type": "markdown",
   "id": "abdf1013",
   "metadata": {},
   "source": [
    "1. Extrahiere die Jahreszahl."
   ]
  },
  {
   "cell_type": "code",
   "execution_count": 10,
   "id": "weird-thailand",
   "metadata": {},
   "outputs": [
    {
     "data": {
      "text/plain": [
       "<re.Match object; span=(0, 4), match='2022'>"
      ]
     },
     "execution_count": 10,
     "metadata": {},
     "output_type": "execute_result"
    }
   ],
   "source": [
    "match = re.search(r'[0-9]{4}', string)\n",
    "match"
   ]
  },
  {
   "cell_type": "markdown",
   "id": "8ea05449",
   "metadata": {},
   "source": [
    "2. Extrahiere die Jahreszahl, deren Bereich (`span`) sowie deren Start- und End-Index."
   ]
  },
  {
   "cell_type": "code",
   "execution_count": 11,
   "id": "fatal-hepatitis",
   "metadata": {},
   "outputs": [
    {
     "name": "stdout",
     "output_type": "stream",
     "text": [
      "Match: 2022\n",
      "Span: (0, 4)\n",
      "Start: 0\n",
      "End: 4\n"
     ]
    }
   ],
   "source": [
    "print('Match:', match[0])\n",
    "print('Span:', match.span())\n",
    "print('Start:', match.start())\n",
    "print('End:', match.end())"
   ]
  },
  {
   "cell_type": "markdown",
   "id": "98401536",
   "metadata": {},
   "source": [
    "3. Extrahiere alle Zeichenfolgen, die aus zwei Zahlen (`[0-9]`) bestehen."
   ]
  },
  {
   "cell_type": "code",
   "execution_count": 12,
   "id": "turkish-premium",
   "metadata": {},
   "outputs": [
    {
     "data": {
      "text/plain": [
       "['20', '22', '06', '10']"
      ]
     },
     "execution_count": 12,
     "metadata": {},
     "output_type": "execute_result"
    }
   ],
   "source": [
    "re.findall(r'[0-9]{2}', string)"
   ]
  },
  {
   "cell_type": "markdown",
   "id": "275db01e",
   "metadata": {},
   "source": [
    "4. Extrahiere alle Zeichenfolgen, die aus zwei bis vier Zahlen (`[0-9]`) bestehen."
   ]
  },
  {
   "cell_type": "code",
   "execution_count": 13,
   "id": "italian-producer",
   "metadata": {},
   "outputs": [
    {
     "data": {
      "text/plain": [
       "['2022', '06', '10']"
      ]
     },
     "execution_count": 13,
     "metadata": {},
     "output_type": "execute_result"
    }
   ],
   "source": [
    "# Hinweis: Wiederholungen sind \"greedy\", d.h. sie versuchen immer einen möglichst langen string zu matchen!\n",
    "\n",
    "re.findall(r'[0-9]{2,4}', string)"
   ]
  },
  {
   "cell_type": "markdown",
   "id": "ca631e23",
   "metadata": {},
   "source": [
    "5. Extrahiere alle Zeichenfolgen, die aus zwei Zahlen (`[0-9]`) sowie einem voranstehenden Bindestrich bestehen."
   ]
  },
  {
   "cell_type": "code",
   "execution_count": 14,
   "id": "opposed-financing",
   "metadata": {},
   "outputs": [
    {
     "data": {
      "text/plain": [
       "['-06', '-10']"
      ]
     },
     "execution_count": 14,
     "metadata": {},
     "output_type": "execute_result"
    }
   ],
   "source": [
    "re.findall(r'-[0-9]{2}', string)"
   ]
  },
  {
   "cell_type": "markdown",
   "id": "ce92b553",
   "metadata": {},
   "source": [
    "6. Extrahiere alle Zeichenfolgen, die aus zwei Zahlen (`[0-9]`) sowie einem voranstehenden und nachfolgenden Bindestrich bestehen."
   ]
  },
  {
   "cell_type": "code",
   "execution_count": 15,
   "id": "downtown-deposit",
   "metadata": {},
   "outputs": [
    {
     "data": {
      "text/plain": [
       "['-06-']"
      ]
     },
     "execution_count": 15,
     "metadata": {},
     "output_type": "execute_result"
    }
   ],
   "source": [
    "re.findall(r'-[0-9]{2}-', string)"
   ]
  },
  {
   "cell_type": "markdown",
   "id": "bcf29aa3",
   "metadata": {},
   "source": [
    "7. Extrahiere alle Zeichenfolgen, die aus zwei Zahlen (`[0-9]`) sowie einem voranstehenden Bindestrich bestehen. Zudem soll die Zeichenfolge das Ende des `string` begründen."
   ]
  },
  {
   "cell_type": "code",
   "execution_count": 16,
   "id": "center-filing",
   "metadata": {},
   "outputs": [
    {
     "data": {
      "text/plain": [
       "['-10']"
      ]
     },
     "execution_count": 16,
     "metadata": {},
     "output_type": "execute_result"
    }
   ],
   "source": [
    "re.findall(r'-[0-9]{2}$', string)"
   ]
  },
  {
   "cell_type": "markdown",
   "id": "57f8b5fd",
   "metadata": {},
   "source": [
    "8. Extrahiere alle Zeichenfolgen, die aus zwei Zahlen (`[0-9]`) bestehen. Zudem soll die Zeichenfolge den Beginn des `string` begründen."
   ]
  },
  {
   "cell_type": "code",
   "execution_count": 17,
   "id": "sharp-boutique",
   "metadata": {},
   "outputs": [
    {
     "data": {
      "text/plain": [
       "['20']"
      ]
     },
     "execution_count": 17,
     "metadata": {},
     "output_type": "execute_result"
    }
   ],
   "source": [
    "re.findall(r'^[0-9]{2}', string)"
   ]
  }
 ],
 "metadata": {
  "interpreter": {
   "hash": "52634da84371cba311ea128a5ea7cdc41ff074b781779e754b270ff9f8153cee"
  },
  "kernelspec": {
   "display_name": "Python 3.8.5 64-bit",
   "language": "python",
   "name": "python3"
  },
  "language_info": {
   "codemirror_mode": {
    "name": "ipython",
    "version": 3
   },
   "file_extension": ".py",
   "mimetype": "text/x-python",
   "name": "python",
   "nbconvert_exporter": "python",
   "pygments_lexer": "ipython3",
   "version": "3.8.5"
  }
 },
 "nbformat": 4,
 "nbformat_minor": 5
}
