{
 "cells": [
  {
   "cell_type": "code",
   "execution_count": null,
   "id": "industrial-donna",
   "metadata": {},
   "outputs": [],
   "source": [
    "import re"
   ]
  },
  {
   "cell_type": "markdown",
   "id": "aerial-teens",
   "metadata": {},
   "source": [
    "### Übungsaufgaben 1"
   ]
  },
  {
   "cell_type": "code",
   "execution_count": null,
   "id": "regulated-astronomy",
   "metadata": {},
   "outputs": [],
   "source": [
    "string = \"\"\"Every man takes the limits of his own field of vision for the limits of the world.\n",
    "― Arthur Schopenhauer\"\"\""
   ]
  },
  {
   "cell_type": "markdown",
   "id": "9e429639",
   "metadata": {},
   "source": [
    "1. Extrahiere alle Erscheinungen des Wortes `of`."
   ]
  },
  {
   "cell_type": "code",
   "execution_count": null,
   "id": "ultimate-layer",
   "metadata": {},
   "outputs": [],
   "source": [
    "re.findall(r'of', string)"
   ]
  },
  {
   "cell_type": "markdown",
   "id": "2b0d328b",
   "metadata": {},
   "source": [
    "2. Extrahiere alle Erscheinungen des Zeichen `o`, gefolgt von einem beliebigem anderen Zeichen."
   ]
  },
  {
   "cell_type": "code",
   "execution_count": null,
   "id": "functional-opposition",
   "metadata": {},
   "outputs": [],
   "source": [
    "re.findall(r'o.', string)"
   ]
  },
  {
   "cell_type": "markdown",
   "id": "c39d563e",
   "metadata": {},
   "source": [
    "3. Extrahiere alle Wörter, die aus drei beliebigen Zeichen bestehen."
   ]
  },
  {
   "cell_type": "code",
   "execution_count": null,
   "id": "respective-interaction",
   "metadata": {},
   "outputs": [],
   "source": [
    "re.findall(r' ... ', string)"
   ]
  },
  {
   "cell_type": "markdown",
   "id": "325bc52b",
   "metadata": {},
   "source": [
    "4. Extrahiere alle Zeichenfolgen, die mit einem beliebigem Zeichen beginnen, gefolgt von der Zeichenfolge `eer`."
   ]
  },
  {
   "cell_type": "code",
   "execution_count": null,
   "id": "37a3f462",
   "metadata": {},
   "outputs": [],
   "source": [
    "string = \"beer deer feer\""
   ]
  },
  {
   "cell_type": "code",
   "execution_count": null,
   "id": "7386176c",
   "metadata": {},
   "outputs": [],
   "source": [
    "re.findall(r'.eer', string), re.findall(r'[bdf]eer', string)"
   ]
  },
  {
   "cell_type": "markdown",
   "id": "8a8f17c5",
   "metadata": {},
   "source": [
    "5. Extrahiere alle Zeichenfolgen, die nicht mit `b` oder `d` beginnen, gefolgt von der Zeichenfolge `eer`."
   ]
  },
  {
   "cell_type": "code",
   "execution_count": null,
   "id": "preliminary-reverse",
   "metadata": {},
   "outputs": [],
   "source": [
    "re.findall(r'[^bd]eer', string)"
   ]
  },
  {
   "cell_type": "markdown",
   "id": "banner-favorite",
   "metadata": {},
   "source": [
    "### Übungsaufgaben 2"
   ]
  },
  {
   "cell_type": "code",
   "execution_count": null,
   "id": "aggressive-desktop",
   "metadata": {},
   "outputs": [],
   "source": [
    "string = \"2022-06-10\""
   ]
  },
  {
   "cell_type": "markdown",
   "id": "abdf1013",
   "metadata": {},
   "source": [
    "1. Extrahiere die Jahreszahl."
   ]
  },
  {
   "cell_type": "code",
   "execution_count": null,
   "id": "weird-thailand",
   "metadata": {},
   "outputs": [],
   "source": [
    "match = re.search(r'[0-9]{4}', string)\n",
    "match"
   ]
  },
  {
   "cell_type": "markdown",
   "id": "8ea05449",
   "metadata": {},
   "source": [
    "2. Extrahiere die Jahreszahl, deren Bereich (`span`) sowie deren Start- und End-Index."
   ]
  },
  {
   "cell_type": "code",
   "execution_count": null,
   "id": "fatal-hepatitis",
   "metadata": {},
   "outputs": [],
   "source": [
    "print('Match:', match[0])\n",
    "print('Span:', match.span())\n",
    "print('Start:', match.start())\n",
    "print('End:', match.end())"
   ]
  },
  {
   "cell_type": "markdown",
   "id": "98401536",
   "metadata": {},
   "source": [
    "3. Extrahiere alle Zeichenfolgen, die aus zwei Zahlen (`[0-9]`) bestehen."
   ]
  },
  {
   "cell_type": "code",
   "execution_count": null,
   "id": "turkish-premium",
   "metadata": {},
   "outputs": [],
   "source": [
    "re.findall(r'[0-9]{2}', string)"
   ]
  },
  {
   "cell_type": "markdown",
   "id": "275db01e",
   "metadata": {},
   "source": [
    "4. Extrahiere alle Zeichenfolgen, die aus zwei bis vier Zahlen (`[0-9]`) bestehen."
   ]
  },
  {
   "cell_type": "code",
   "execution_count": null,
   "id": "italian-producer",
   "metadata": {},
   "outputs": [],
   "source": [
    "# Hinweis: Wiederholungen sind \"greedy\", d.h. sie versuchen immer einen möglichst langen string zu matchen!\n",
    "\n",
    "re.findall(r'[0-9]{2,4}', string)"
   ]
  },
  {
   "cell_type": "markdown",
   "id": "ca631e23",
   "metadata": {},
   "source": [
    "5. Extrahiere alle Zeichenfolgen, die aus zwei Zahlen (`[0-9]`) sowie einem voranstehenden Bindestrich bestehen."
   ]
  },
  {
   "cell_type": "code",
   "execution_count": null,
   "id": "opposed-financing",
   "metadata": {},
   "outputs": [],
   "source": [
    "re.findall(r'-[0-9]{2}', string)"
   ]
  },
  {
   "cell_type": "markdown",
   "id": "ce92b553",
   "metadata": {},
   "source": [
    "6. Extrahiere alle Zeichenfolgen, die aus zwei Zahlen (`[0-9]`) sowie einem voranstehenden und nachfolgenden Bindestrich bestehen."
   ]
  },
  {
   "cell_type": "code",
   "execution_count": null,
   "id": "downtown-deposit",
   "metadata": {},
   "outputs": [],
   "source": [
    "re.findall(r'-[0-9]{2}-', string)"
   ]
  },
  {
   "cell_type": "markdown",
   "id": "bcf29aa3",
   "metadata": {},
   "source": [
    "7. Extrahiere alle Zeichenfolgen, die aus zwei Zahlen (`[0-9]`) sowie einem voranstehenden Bindestrich bestehen. Zudem soll die Zeichenfolge das Ende des `string` begründen."
   ]
  },
  {
   "cell_type": "code",
   "execution_count": null,
   "id": "center-filing",
   "metadata": {},
   "outputs": [],
   "source": [
    "re.findall(r'-[0-9]{2}$', string)"
   ]
  },
  {
   "cell_type": "markdown",
   "id": "57f8b5fd",
   "metadata": {},
   "source": [
    "8. Extrahiere alle Zeichenfolgen, die aus zwei Zahlen (`[0-9]`) bestehen. Zudem soll die Zeichenfolge den Beginn des `string` begründen."
   ]
  },
  {
   "cell_type": "code",
   "execution_count": null,
   "id": "sharp-boutique",
   "metadata": {},
   "outputs": [],
   "source": [
    "re.findall(r'^[0-9]{2}', string)"
   ]
  }
 ],
 "metadata": {
  "interpreter": {
   "hash": "52634da84371cba311ea128a5ea7cdc41ff074b781779e754b270ff9f8153cee"
  },
  "kernelspec": {
   "display_name": "Python 3.8.5 64-bit",
   "language": "python",
   "name": "python3"
  },
  "language_info": {
   "codemirror_mode": {
    "name": "ipython",
    "version": 3
   },
   "file_extension": ".py",
   "mimetype": "text/x-python",
   "name": "python",
   "nbconvert_exporter": "python",
   "pygments_lexer": "ipython3",
   "version": "3.8.5"
  }
 },
 "nbformat": 4,
 "nbformat_minor": 5
}
