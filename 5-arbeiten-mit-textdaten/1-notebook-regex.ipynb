{
 "cells": [
  {
   "cell_type": "code",
   "execution_count": null,
   "id": "industrial-donna",
   "metadata": {},
   "outputs": [],
   "source": [
    "import re"
   ]
  },
  {
   "cell_type": "markdown",
   "id": "803a1b00",
   "metadata": {},
   "source": [
    "### Suchbefehle"
   ]
  },
  {
   "cell_type": "code",
   "execution_count": null,
   "id": "f73e737d",
   "metadata": {},
   "outputs": [],
   "source": [
    "string = \"\"\"I have no special talents. I am only passionately curious.\n",
    "\n",
    "― Albert Einstein\"\"\"\n",
    "\n",
    "string"
   ]
  },
  {
   "cell_type": "code",
   "execution_count": null,
   "id": "567c26a9",
   "metadata": {},
   "outputs": [],
   "source": [
    "print(string)"
   ]
  },
  {
   "cell_type": "code",
   "execution_count": null,
   "id": "curious-enforcement",
   "metadata": {},
   "outputs": [],
   "source": [
    "# Suche am Anfang des Textes (kein match)\n",
    "re.match(r'e', string)"
   ]
  },
  {
   "cell_type": "code",
   "execution_count": null,
   "id": "biblical-cruise",
   "metadata": {},
   "outputs": [],
   "source": [
    "# Suche am Anfang des Textes (match)\n",
    "re.match(r'I', string)"
   ]
  },
  {
   "cell_type": "code",
   "execution_count": null,
   "id": "willing-expression",
   "metadata": {},
   "outputs": [],
   "source": [
    "# Suche im gesamten Text\n",
    "re.search(r'e', string)"
   ]
  },
  {
   "cell_type": "code",
   "execution_count": null,
   "id": "opened-literature",
   "metadata": {},
   "outputs": [],
   "source": [
    "# Extraktion des 1. Matches\n",
    "re.search(r'e', string)[0]"
   ]
  },
  {
   "cell_type": "code",
   "execution_count": null,
   "id": "emerging-delhi",
   "metadata": {},
   "outputs": [],
   "source": [
    "# Extraktion des 2. Matches\n",
    "re.search(r'e', string)[1]"
   ]
  },
  {
   "cell_type": "code",
   "execution_count": null,
   "id": "surrounded-honduras",
   "metadata": {},
   "outputs": [],
   "source": [
    "# Suche im gesamten Text (Extraktion aller Matches)\n",
    "re.findall(r'e', string)"
   ]
  },
  {
   "cell_type": "code",
   "execution_count": null,
   "id": "6e30ec8c",
   "metadata": {},
   "outputs": [],
   "source": [
    "# Case-insensitive Suche\n",
    "print(re.findall(r'A', string))\n",
    "print(re.findall(r'A', string, flags=re.IGNORECASE))"
   ]
  },
  {
   "cell_type": "code",
   "execution_count": null,
   "id": "reported-portfolio",
   "metadata": {},
   "outputs": [],
   "source": [
    "# Suche nach Wörtern\n",
    "re.search(r'curious', string)[0]"
   ]
  },
  {
   "cell_type": "code",
   "execution_count": null,
   "id": "floral-priest",
   "metadata": {},
   "outputs": [],
   "source": [
    "re.search(r'Curious', string)"
   ]
  },
  {
   "cell_type": "code",
   "execution_count": null,
   "id": "crucial-stress",
   "metadata": {},
   "outputs": [],
   "source": [
    "# Case-insensitive Suche\n",
    "print(re.search(r'Curious', string))\n",
    "print(re.search(r'CURIOUS', string, flags=re.IGNORECASE))"
   ]
  },
  {
   "cell_type": "markdown",
   "id": "organized-conspiracy",
   "metadata": {},
   "source": [
    "### Metacharacters"
   ]
  },
  {
   "cell_type": "code",
   "execution_count": null,
   "id": "thermal-import",
   "metadata": {},
   "outputs": [],
   "source": [
    "string = \"abcABC123.: !?\""
   ]
  },
  {
   "cell_type": "code",
   "execution_count": null,
   "id": "residential-entry",
   "metadata": {},
   "outputs": [],
   "source": [
    "# Suche nach beliebigem Zeichen (inkl. Leerzeichen)\n",
    "re.findall(r'.', string)"
   ]
  },
  {
   "cell_type": "code",
   "execution_count": null,
   "id": "cutting-miami",
   "metadata": {},
   "outputs": [],
   "source": [
    "string = \"bar ber bir bor bur\""
   ]
  },
  {
   "cell_type": "code",
   "execution_count": null,
   "id": "accompanied-criterion",
   "metadata": {},
   "outputs": [],
   "source": [
    "re.findall(r'bar', string)"
   ]
  },
  {
   "cell_type": "code",
   "execution_count": null,
   "id": "urban-purse",
   "metadata": {},
   "outputs": [],
   "source": [
    "# Suche nach bestimmter Zeichenklassen\n",
    "re.findall(r'b[aeiou]r', string)"
   ]
  },
  {
   "cell_type": "code",
   "execution_count": null,
   "id": "delayed-marine",
   "metadata": {},
   "outputs": [],
   "source": [
    "# Suche nach Zeichen außer der bestimmten Zeichenklassen (Negation/Komplement)\n",
    "re.findall(r'b[^ae]r', string)"
   ]
  },
  {
   "cell_type": "code",
   "execution_count": null,
   "id": "chinese-refund",
   "metadata": {},
   "outputs": [],
   "source": [
    "string = \"abcdefghijklmnopqrstuvwxyz0123456789\""
   ]
  },
  {
   "cell_type": "code",
   "execution_count": null,
   "id": "white-korean",
   "metadata": {},
   "outputs": [],
   "source": [
    "# Suche nach bestimmter Zeichenklassen (ineffizient)\n",
    "re.findall(r'[defghijk]', string)"
   ]
  },
  {
   "cell_type": "code",
   "execution_count": null,
   "id": "gothic-turning",
   "metadata": {},
   "outputs": [],
   "source": [
    "# Suche nach bestimmter Zeichenklassen (effizient)\n",
    "re.findall(r'[d-k]', string)"
   ]
  },
  {
   "cell_type": "code",
   "execution_count": null,
   "id": "junior-intro",
   "metadata": {},
   "outputs": [],
   "source": [
    "re.findall(r'[2-5]', string)"
   ]
  },
  {
   "cell_type": "markdown",
   "id": "342b025b",
   "metadata": {},
   "source": [
    "### Escape Character"
   ]
  },
  {
   "cell_type": "code",
   "execution_count": null,
   "id": "quarterly-queen",
   "metadata": {},
   "outputs": [],
   "source": [
    "string = \"abcdefghijklm[hallo]nopqrstuvwxyz.0123456789\""
   ]
  },
  {
   "cell_type": "code",
   "execution_count": null,
   "id": "employed-prefix",
   "metadata": {},
   "outputs": [],
   "source": [
    "re.findall(r'\\.', string)"
   ]
  },
  {
   "cell_type": "code",
   "execution_count": null,
   "id": "referenced-sigma",
   "metadata": {},
   "outputs": [],
   "source": [
    "re.findall(r'\\[hallo\\]', string)"
   ]
  },
  {
   "cell_type": "markdown",
   "id": "generic-growth",
   "metadata": {},
   "source": [
    "### Wiederholungen"
   ]
  },
  {
   "cell_type": "code",
   "execution_count": null,
   "id": "together-western",
   "metadata": {},
   "outputs": [],
   "source": [
    "string = \"br ber beer beeer beeeer\""
   ]
  },
  {
   "cell_type": "code",
   "execution_count": null,
   "id": "coupled-rehabilitation",
   "metadata": {},
   "outputs": [],
   "source": [
    "# Das Zeichen `e` kann beliebig häufig auftreten\n",
    "re.findall(r'be*r', string)"
   ]
  },
  {
   "cell_type": "code",
   "execution_count": null,
   "id": "exact-scene",
   "metadata": {},
   "outputs": [],
   "source": [
    "# Das Zeichen `e` kann einmal oder mehrmals auftreten\n",
    "re.findall(r'be+r', string)"
   ]
  },
  {
   "cell_type": "code",
   "execution_count": null,
   "id": "danish-bulgarian",
   "metadata": {},
   "outputs": [],
   "source": [
    "# Das Zeichen `e` kann einmal oder keinmal auftreten\n",
    "re.findall(r'be?r', string)"
   ]
  },
  {
   "cell_type": "code",
   "execution_count": null,
   "id": "lasting-spanking",
   "metadata": {},
   "outputs": [],
   "source": [
    "# Das Zeichen `e` kann genau zwei mal auftreten\n",
    "re.findall(r'be{2}r', string)"
   ]
  },
  {
   "cell_type": "code",
   "execution_count": null,
   "id": "tracked-invention",
   "metadata": {},
   "outputs": [],
   "source": [
    "# Das Zeichen `e` kann zwei bis vier mal auftreten\n",
    "re.findall(r'be{2,4}r', string)"
   ]
  },
  {
   "cell_type": "markdown",
   "id": "dental-mouth",
   "metadata": {},
   "source": [
    "### Anchors"
   ]
  },
  {
   "cell_type": "code",
   "execution_count": null,
   "id": "organic-breakdown",
   "metadata": {},
   "outputs": [],
   "source": [
    "string = \"stream cream beam seamless Raheem\""
   ]
  },
  {
   "cell_type": "code",
   "execution_count": null,
   "id": "accepted-herald",
   "metadata": {},
   "outputs": [],
   "source": [
    "re.findall(r'.*eam', string)"
   ]
  },
  {
   "cell_type": "code",
   "execution_count": null,
   "id": "primary-story",
   "metadata": {},
   "outputs": [],
   "source": [
    "# Die Zeichenfolge muss zu Beginn des strings auftreten\n",
    "re.findall(r'^s.{0,2}eam', string)"
   ]
  },
  {
   "cell_type": "code",
   "execution_count": null,
   "id": "standard-difference",
   "metadata": {},
   "outputs": [],
   "source": [
    "# Die Zeichenfolge muss zu Beginn des strings auftreten\n",
    "re.findall(r'^c.{0,2}eam', string)"
   ]
  },
  {
   "cell_type": "code",
   "execution_count": null,
   "id": "adaptive-zealand",
   "metadata": {},
   "outputs": [],
   "source": [
    "# Die Zeichenfolge muss am Ende des strings auftreten\n",
    "re.findall(r'eem$', string)"
   ]
  },
  {
   "cell_type": "code",
   "execution_count": null,
   "id": "mental-texture",
   "metadata": {},
   "outputs": [],
   "source": [
    "# Die Zeichenfolge muss am Ende des strings auftreten\n",
    "re.findall(r'eam$', string)"
   ]
  },
  {
   "cell_type": "markdown",
   "id": "opening-uniform",
   "metadata": {},
   "source": [
    "### Groups"
   ]
  },
  {
   "cell_type": "code",
   "execution_count": null,
   "id": "swiss-manor",
   "metadata": {},
   "outputs": [],
   "source": [
    "string = \"2022-06-10 and 2020-June-10\""
   ]
  },
  {
   "cell_type": "code",
   "execution_count": null,
   "id": "illegal-broad",
   "metadata": {},
   "outputs": [],
   "source": [
    "match = re.search(r'([0-9]{4})-([0-9]{2})-([0-9]{2})', string)\n",
    "match"
   ]
  },
  {
   "cell_type": "code",
   "execution_count": null,
   "id": "soviet-jefferson",
   "metadata": {},
   "outputs": [],
   "source": [
    "print(\"Gesamter Match:\\t\\t\", match.group(0))\n",
    "print(\"Jahr (1. Gruppe):\\t\", match.group(1))\n",
    "print(\"Monat (2. Gruppe):\\t\", match.group(2))\n",
    "print(\"Tag (3. Gruppe):\\t\", match.group(3))"
   ]
  },
  {
   "cell_type": "markdown",
   "id": "standard-standing",
   "metadata": {},
   "source": [
    "### Alternations"
   ]
  },
  {
   "cell_type": "code",
   "execution_count": null,
   "id": "normal-hormone",
   "metadata": {},
   "outputs": [],
   "source": [
    "string = \"I prefer TEXT DATA over tabular data\""
   ]
  },
  {
   "cell_type": "code",
   "execution_count": null,
   "id": "passive-device",
   "metadata": {},
   "outputs": [],
   "source": [
    "re.findall(r'DATA|data', string)"
   ]
  },
  {
   "cell_type": "markdown",
   "id": "lovely-waters",
   "metadata": {},
   "source": [
    "### Andere spezielle Zeichen"
   ]
  },
  {
   "cell_type": "code",
   "execution_count": null,
   "id": "brief-bumper",
   "metadata": {},
   "outputs": [],
   "source": [
    "string = \"abc ABC\\n123 .:\\t!-_?\"\n",
    "print(string)"
   ]
  },
  {
   "cell_type": "code",
   "execution_count": null,
   "id": "restricted-figure",
   "metadata": {},
   "outputs": [],
   "source": [
    "# Suche nach Buchstaben, Zahlen und Unterstrichen\n",
    "re.findall(r'\\w', string)"
   ]
  },
  {
   "cell_type": "code",
   "execution_count": null,
   "id": "destroyed-florida",
   "metadata": {},
   "outputs": [],
   "source": [
    "# Suche nach Zahlen\n",
    "re.findall(r'\\d', string)"
   ]
  },
  {
   "cell_type": "code",
   "execution_count": null,
   "id": "legislative-default",
   "metadata": {},
   "outputs": [],
   "source": [
    "# Suche nach Leerzeichen \n",
    "re.findall(r'\\s', string)"
   ]
  }
 ],
 "metadata": {
  "interpreter": {
   "hash": "52634da84371cba311ea128a5ea7cdc41ff074b781779e754b270ff9f8153cee"
  },
  "kernelspec": {
   "display_name": "Python 3.8.5 64-bit",
   "language": "python",
   "name": "python3"
  },
  "language_info": {
   "codemirror_mode": {
    "name": "ipython",
    "version": 3
   },
   "file_extension": ".py",
   "mimetype": "text/x-python",
   "name": "python",
   "nbconvert_exporter": "python",
   "pygments_lexer": "ipython3",
   "version": "3.8.5"
  }
 },
 "nbformat": 4,
 "nbformat_minor": 5
}
