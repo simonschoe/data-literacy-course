{
 "cells": [
  {
   "cell_type": "code",
   "execution_count": 5,
   "id": "industrial-donna",
   "metadata": {},
   "outputs": [],
   "source": [
    "import re"
   ]
  },
  {
   "cell_type": "code",
   "execution_count": 1,
   "id": "micro-blame",
   "metadata": {},
   "outputs": [
    {
     "data": {
      "text/plain": [
       "'I have no special talents. I am only passionately curious.\\n\\n― Albert Einstein'"
      ]
     },
     "execution_count": 1,
     "metadata": {},
     "output_type": "execute_result"
    }
   ],
   "source": [
    "string = \"\"\"I have no special talents. I am only passionately curious.\n",
    "\n",
    "― Albert Einstein\"\"\"\n",
    "\n",
    "string"
   ]
  },
  {
   "cell_type": "code",
   "execution_count": 2,
   "id": "d89de9bf",
   "metadata": {},
   "outputs": [
    {
     "name": "stdout",
     "output_type": "stream",
     "text": [
      "I have no special talents. I am only passionately curious.\n",
      "\n",
      "― Albert Einstein\n"
     ]
    }
   ],
   "source": [
    "print(string)"
   ]
  },
  {
   "cell_type": "markdown",
   "id": "803a1b00",
   "metadata": {},
   "source": [
    "### Suchbefehle"
   ]
  },
  {
   "cell_type": "code",
   "execution_count": 6,
   "id": "curious-enforcement",
   "metadata": {},
   "outputs": [],
   "source": [
    "# Suche am Anfang des Textes (kein match)\n",
    "re.match(r'e', string)"
   ]
  },
  {
   "cell_type": "code",
   "execution_count": 7,
   "id": "biblical-cruise",
   "metadata": {},
   "outputs": [
    {
     "data": {
      "text/plain": [
       "<re.Match object; span=(0, 1), match='I'>"
      ]
     },
     "execution_count": 7,
     "metadata": {},
     "output_type": "execute_result"
    }
   ],
   "source": [
    "# Suche am Anfang des Textes (match)\n",
    "re.match(r'I', string)"
   ]
  },
  {
   "cell_type": "code",
   "execution_count": 21,
   "id": "willing-expression",
   "metadata": {},
   "outputs": [
    {
     "data": {
      "text/plain": [
       "<_sre.SRE_Match object; span=(6, 7), match='e'>"
      ]
     },
     "execution_count": 21,
     "metadata": {},
     "output_type": "execute_result"
    }
   ],
   "source": [
    "# Suche im gesamten Text\n",
    "re.search(r'e', string)"
   ]
  },
  {
   "cell_type": "code",
   "execution_count": 9,
   "id": "opened-literature",
   "metadata": {},
   "outputs": [
    {
     "data": {
      "text/plain": [
       "'e'"
      ]
     },
     "execution_count": 9,
     "metadata": {},
     "output_type": "execute_result"
    }
   ],
   "source": [
    "# Extraktion des 1. Matches\n",
    "re.search(r'e', string)[0]"
   ]
  },
  {
   "cell_type": "code",
   "execution_count": 10,
   "id": "emerging-delhi",
   "metadata": {},
   "outputs": [
    {
     "ename": "IndexError",
     "evalue": "no such group",
     "output_type": "error",
     "traceback": [
      "\u001b[1;31m---------------------------------------------------------------------------\u001b[0m",
      "\u001b[1;31mIndexError\u001b[0m                                Traceback (most recent call last)",
      "\u001b[1;32m<ipython-input-10-682ec5ef7e98>\u001b[0m in \u001b[0;36m<module>\u001b[1;34m\u001b[0m\n\u001b[1;32m----> 1\u001b[1;33m \u001b[0mre\u001b[0m\u001b[1;33m.\u001b[0m\u001b[0msearch\u001b[0m\u001b[1;33m(\u001b[0m\u001b[1;34mr'e'\u001b[0m\u001b[1;33m,\u001b[0m \u001b[0mstring\u001b[0m\u001b[1;33m)\u001b[0m\u001b[1;33m[\u001b[0m\u001b[1;36m1\u001b[0m\u001b[1;33m]\u001b[0m\u001b[1;33m\u001b[0m\u001b[1;33m\u001b[0m\u001b[0m\n\u001b[0m",
      "\u001b[1;31mIndexError\u001b[0m: no such group"
     ]
    }
   ],
   "source": [
    "# Extraktion des 2. Matches\n",
    "re.search(r'e', string)[1]"
   ]
  },
  {
   "cell_type": "code",
   "execution_count": 27,
   "id": "surrounded-honduras",
   "metadata": {},
   "outputs": [
    {
     "data": {
      "text/plain": [
       "['e', 'e', 'e', 'e', 'e', 'e']"
      ]
     },
     "execution_count": 27,
     "metadata": {},
     "output_type": "execute_result"
    }
   ],
   "source": [
    "# Suche im gesamten Text (Extraktion aller Matches)\n",
    "re.findall(r'e', string)"
   ]
  },
  {
   "cell_type": "code",
   "execution_count": 20,
   "id": "6e30ec8c",
   "metadata": {},
   "outputs": [
    {
     "name": "stdout",
     "output_type": "stream",
     "text": [
      "['A']\n",
      "['a', 'a', 'a', 'a', 'a', 'a', 'A']\n"
     ]
    }
   ],
   "source": [
    "# Case-insensitive Suche\n",
    "print(re.findall(r'A', string))\n",
    "print(re.findall(r'A', string, flags=re.IGNORECASE))"
   ]
  },
  {
   "cell_type": "code",
   "execution_count": 28,
   "id": "reported-portfolio",
   "metadata": {},
   "outputs": [
    {
     "data": {
      "text/plain": [
       "'curious'"
      ]
     },
     "execution_count": 28,
     "metadata": {},
     "output_type": "execute_result"
    }
   ],
   "source": [
    "# Suche nach Wörtern\n",
    "re.search(r'curious', string)[0]"
   ]
  },
  {
   "cell_type": "code",
   "execution_count": 29,
   "id": "floral-priest",
   "metadata": {},
   "outputs": [],
   "source": [
    "re.search(r'Curious', string)"
   ]
  },
  {
   "cell_type": "code",
   "execution_count": 31,
   "id": "crucial-stress",
   "metadata": {},
   "outputs": [
    {
     "name": "stdout",
     "output_type": "stream",
     "text": [
      "None\n",
      "<re.Match object; span=(50, 57), match='curious'>\n"
     ]
    }
   ],
   "source": [
    "# Case-insensitive Suche\n",
    "print(re.search(r'Curious', string))\n",
    "print(re.search(r'CURIOUS', string, flags=re.IGNORECASE))"
   ]
  },
  {
   "cell_type": "markdown",
   "id": "organized-conspiracy",
   "metadata": {},
   "source": [
    "### Metacharacters"
   ]
  },
  {
   "cell_type": "code",
   "execution_count": 32,
   "id": "thermal-import",
   "metadata": {},
   "outputs": [],
   "source": [
    "string = \"abcABC123.: !?\""
   ]
  },
  {
   "cell_type": "code",
   "execution_count": 45,
   "id": "residential-entry",
   "metadata": {},
   "outputs": [
    {
     "data": {
      "text/plain": [
       "['a', 'b', 'c', 'A', 'B', 'C', '1', '2', '3', '.', ':', ' ', '!', '?']"
      ]
     },
     "execution_count": 45,
     "metadata": {},
     "output_type": "execute_result"
    }
   ],
   "source": [
    "# Suche nach beliebigem Zeichen (inkl. Leerzeichen)\n",
    "re.findall(r'.', string)"
   ]
  },
  {
   "cell_type": "code",
   "execution_count": 33,
   "id": "cutting-miami",
   "metadata": {},
   "outputs": [],
   "source": [
    "string = \"bar ber bir bor bur\""
   ]
  },
  {
   "cell_type": "code",
   "execution_count": 34,
   "id": "accompanied-criterion",
   "metadata": {},
   "outputs": [
    {
     "data": {
      "text/plain": [
       "['bar']"
      ]
     },
     "execution_count": 34,
     "metadata": {},
     "output_type": "execute_result"
    }
   ],
   "source": [
    "re.findall(r'bar', string)"
   ]
  },
  {
   "cell_type": "code",
   "execution_count": 50,
   "id": "urban-purse",
   "metadata": {},
   "outputs": [
    {
     "data": {
      "text/plain": [
       "['bar', 'ber', 'bir', 'bor', 'bur']"
      ]
     },
     "execution_count": 50,
     "metadata": {},
     "output_type": "execute_result"
    }
   ],
   "source": [
    "# Suche nach bestimmter Zeichenklassen\n",
    "re.findall(r'b[aeiou]r', string)"
   ]
  },
  {
   "cell_type": "code",
   "execution_count": 35,
   "id": "delayed-marine",
   "metadata": {},
   "outputs": [
    {
     "data": {
      "text/plain": [
       "['bir', 'bor', 'bur']"
      ]
     },
     "execution_count": 35,
     "metadata": {},
     "output_type": "execute_result"
    }
   ],
   "source": [
    "# Suche nach Zeichen außer der bestimmten Zeichenklassen (Negation/Komplement)\n",
    "re.findall(r'b[^ae]r', string)"
   ]
  },
  {
   "cell_type": "code",
   "execution_count": 37,
   "id": "chinese-refund",
   "metadata": {},
   "outputs": [],
   "source": [
    "string = \"abcdefghijklmnopqrstuvwxyz0123456789\""
   ]
  },
  {
   "cell_type": "code",
   "execution_count": 38,
   "id": "white-korean",
   "metadata": {},
   "outputs": [
    {
     "data": {
      "text/plain": [
       "['d', 'e', 'f', 'g', 'h', 'i', 'j', 'k']"
      ]
     },
     "execution_count": 38,
     "metadata": {},
     "output_type": "execute_result"
    }
   ],
   "source": [
    "# Suche nach bestimmter Zeichenklassen (ineffizient)\n",
    "re.findall(r'[defghijk]', string)"
   ]
  },
  {
   "cell_type": "code",
   "execution_count": 61,
   "id": "gothic-turning",
   "metadata": {},
   "outputs": [
    {
     "data": {
      "text/plain": [
       "['d', 'e', 'f', 'g', 'h', 'i', 'j', 'k']"
      ]
     },
     "execution_count": 61,
     "metadata": {},
     "output_type": "execute_result"
    }
   ],
   "source": [
    "# Suche nach bestimmter Zeichenklassen (effizient)\n",
    "re.findall(r'[d-k]', string)"
   ]
  },
  {
   "cell_type": "code",
   "execution_count": 39,
   "id": "junior-intro",
   "metadata": {},
   "outputs": [
    {
     "data": {
      "text/plain": [
       "['2', '3', '4', '5']"
      ]
     },
     "execution_count": 39,
     "metadata": {},
     "output_type": "execute_result"
    }
   ],
   "source": [
    "re.findall(r'[2-5]', string)"
   ]
  },
  {
   "cell_type": "code",
   "execution_count": 40,
   "id": "quarterly-queen",
   "metadata": {},
   "outputs": [],
   "source": [
    "string = \"abcdefghijklm[hallo]nopqrstuvwxyz.0123456789\""
   ]
  },
  {
   "cell_type": "markdown",
   "id": "342b025b",
   "metadata": {},
   "source": [
    "### Escape Character"
   ]
  },
  {
   "cell_type": "code",
   "execution_count": 41,
   "id": "employed-prefix",
   "metadata": {},
   "outputs": [
    {
     "data": {
      "text/plain": [
       "['.']"
      ]
     },
     "execution_count": 41,
     "metadata": {},
     "output_type": "execute_result"
    }
   ],
   "source": [
    "re.findall(r'\\.', string)"
   ]
  },
  {
   "cell_type": "code",
   "execution_count": 42,
   "id": "referenced-sigma",
   "metadata": {},
   "outputs": [
    {
     "data": {
      "text/plain": [
       "['[hallo]']"
      ]
     },
     "execution_count": 42,
     "metadata": {},
     "output_type": "execute_result"
    }
   ],
   "source": [
    "re.findall(r'\\[hallo\\]', string)"
   ]
  },
  {
   "cell_type": "markdown",
   "id": "generic-growth",
   "metadata": {},
   "source": [
    "### Wiederholungen"
   ]
  },
  {
   "cell_type": "code",
   "execution_count": 51,
   "id": "together-western",
   "metadata": {},
   "outputs": [],
   "source": [
    "string = \"br ber beer beeer beeeer\""
   ]
  },
  {
   "cell_type": "code",
   "execution_count": 52,
   "id": "coupled-rehabilitation",
   "metadata": {},
   "outputs": [
    {
     "data": {
      "text/plain": [
       "['br', 'ber', 'beer', 'beeer', 'beeeer']"
      ]
     },
     "execution_count": 52,
     "metadata": {},
     "output_type": "execute_result"
    }
   ],
   "source": [
    "# Das Zeichen `e` kann beliebig häufig auftreten\n",
    "re.findall(r'be*r', string)"
   ]
  },
  {
   "cell_type": "code",
   "execution_count": 53,
   "id": "exact-scene",
   "metadata": {},
   "outputs": [
    {
     "data": {
      "text/plain": [
       "['ber', 'beer', 'beeer', 'beeeer']"
      ]
     },
     "execution_count": 53,
     "metadata": {},
     "output_type": "execute_result"
    }
   ],
   "source": [
    "# Das Zeichen `e` kann einmal oder mehrmals auftreten\n",
    "re.findall(r'be+r', string)"
   ]
  },
  {
   "cell_type": "code",
   "execution_count": 54,
   "id": "danish-bulgarian",
   "metadata": {},
   "outputs": [
    {
     "data": {
      "text/plain": [
       "['br', 'ber']"
      ]
     },
     "execution_count": 54,
     "metadata": {},
     "output_type": "execute_result"
    }
   ],
   "source": [
    "# Das Zeichen `e` kann einmal oder keinmal auftreten\n",
    "re.findall(r'be?r', string)"
   ]
  },
  {
   "cell_type": "code",
   "execution_count": 88,
   "id": "lasting-spanking",
   "metadata": {},
   "outputs": [
    {
     "data": {
      "text/plain": [
       "['beer']"
      ]
     },
     "execution_count": 88,
     "metadata": {},
     "output_type": "execute_result"
    }
   ],
   "source": [
    "# Das Zeichen `e` kann genau zwei mal auftreten\n",
    "re.findall(r'be{2}r', string)"
   ]
  },
  {
   "cell_type": "code",
   "execution_count": 89,
   "id": "tracked-invention",
   "metadata": {},
   "outputs": [
    {
     "data": {
      "text/plain": [
       "['beer', 'beeer', 'beeeer']"
      ]
     },
     "execution_count": 89,
     "metadata": {},
     "output_type": "execute_result"
    }
   ],
   "source": [
    "# Das Zeichen `e` kann zwei bis vier mal auftreten\n",
    "re.findall(r'be{2,4}r', string)"
   ]
  },
  {
   "cell_type": "markdown",
   "id": "dental-mouth",
   "metadata": {},
   "source": [
    "### Anchors"
   ]
  },
  {
   "cell_type": "code",
   "execution_count": 45,
   "id": "organic-breakdown",
   "metadata": {},
   "outputs": [],
   "source": [
    "string = \"stream cream beam seamless Raheem\""
   ]
  },
  {
   "cell_type": "code",
   "execution_count": 46,
   "id": "accepted-herald",
   "metadata": {},
   "outputs": [
    {
     "data": {
      "text/plain": [
       "['stream cream beam seam']"
      ]
     },
     "execution_count": 46,
     "metadata": {},
     "output_type": "execute_result"
    }
   ],
   "source": [
    "re.findall(r'.*eam', string)"
   ]
  },
  {
   "cell_type": "code",
   "execution_count": 65,
   "id": "primary-story",
   "metadata": {},
   "outputs": [
    {
     "data": {
      "text/plain": [
       "['stream']"
      ]
     },
     "execution_count": 65,
     "metadata": {},
     "output_type": "execute_result"
    }
   ],
   "source": [
    "# Die Zeichenfolge muss zu Beginn des strings auftreten\n",
    "re.findall(r'^s.{0,2}eam', string)"
   ]
  },
  {
   "cell_type": "code",
   "execution_count": 66,
   "id": "standard-difference",
   "metadata": {},
   "outputs": [
    {
     "data": {
      "text/plain": [
       "[]"
      ]
     },
     "execution_count": 66,
     "metadata": {},
     "output_type": "execute_result"
    }
   ],
   "source": [
    "# Die Zeichenfolge muss zu Beginn des strings auftreten\n",
    "re.findall(r'^c.{0,2}eam', string)"
   ]
  },
  {
   "cell_type": "code",
   "execution_count": 67,
   "id": "adaptive-zealand",
   "metadata": {},
   "outputs": [
    {
     "data": {
      "text/plain": [
       "['eem']"
      ]
     },
     "execution_count": 67,
     "metadata": {},
     "output_type": "execute_result"
    }
   ],
   "source": [
    "# Die Zeichenfolge muss am Ende des strings auftreten\n",
    "re.findall(r'eem$', string)"
   ]
  },
  {
   "cell_type": "code",
   "execution_count": 68,
   "id": "mental-texture",
   "metadata": {},
   "outputs": [
    {
     "data": {
      "text/plain": [
       "[]"
      ]
     },
     "execution_count": 68,
     "metadata": {},
     "output_type": "execute_result"
    }
   ],
   "source": [
    "# Die Zeichenfolge muss am Ende des strings auftreten\n",
    "re.findall(r'eam$', string)"
   ]
  },
  {
   "cell_type": "markdown",
   "id": "opening-uniform",
   "metadata": {},
   "source": [
    "### Groups"
   ]
  },
  {
   "cell_type": "code",
   "execution_count": 62,
   "id": "swiss-manor",
   "metadata": {},
   "outputs": [],
   "source": [
    "string = \"2022-06-10 and 2020-June-10\""
   ]
  },
  {
   "cell_type": "code",
   "execution_count": 63,
   "id": "illegal-broad",
   "metadata": {},
   "outputs": [
    {
     "data": {
      "text/plain": [
       "<re.Match object; span=(0, 10), match='2022-06-10'>"
      ]
     },
     "execution_count": 63,
     "metadata": {},
     "output_type": "execute_result"
    }
   ],
   "source": [
    "match = re.search(r'([0-9]{4})-([0-9]{2})-([0-9]{2})', string)\n",
    "match"
   ]
  },
  {
   "cell_type": "code",
   "execution_count": 64,
   "id": "soviet-jefferson",
   "metadata": {},
   "outputs": [
    {
     "name": "stdout",
     "output_type": "stream",
     "text": [
      "Gesamter Match:\t\t 2022-06-10\n",
      "Jahr (1. Gruppe):\t 2022\n",
      "Monat (2. Gruppe):\t 06\n",
      "Tag (3. Gruppe):\t 10\n"
     ]
    }
   ],
   "source": [
    "print(\"Gesamter Match:\\t\\t\", match.group(0))\n",
    "print(\"Jahr (1. Gruppe):\\t\", match.group(1))\n",
    "print(\"Monat (2. Gruppe):\\t\", match.group(2))\n",
    "print(\"Tag (3. Gruppe):\\t\", match.group(3))"
   ]
  },
  {
   "cell_type": "markdown",
   "id": "standard-standing",
   "metadata": {},
   "source": [
    "### Alternations"
   ]
  },
  {
   "cell_type": "code",
   "execution_count": 66,
   "id": "normal-hormone",
   "metadata": {},
   "outputs": [],
   "source": [
    "string = \"I prefer TEXT DATA over tabular data\""
   ]
  },
  {
   "cell_type": "code",
   "execution_count": 67,
   "id": "passive-device",
   "metadata": {},
   "outputs": [
    {
     "data": {
      "text/plain": [
       "['DATA', 'data']"
      ]
     },
     "execution_count": 67,
     "metadata": {},
     "output_type": "execute_result"
    }
   ],
   "source": [
    "re.findall(r'DATA|data', string)"
   ]
  },
  {
   "cell_type": "markdown",
   "id": "lovely-waters",
   "metadata": {},
   "source": [
    "### Andere spezielle Zeichen"
   ]
  },
  {
   "cell_type": "code",
   "execution_count": 68,
   "id": "brief-bumper",
   "metadata": {},
   "outputs": [
    {
     "name": "stdout",
     "output_type": "stream",
     "text": [
      "abc ABC\n",
      "123 .:\t!-_?\n"
     ]
    }
   ],
   "source": [
    "string = \"abc ABC\\n123 .:\\t!-_?\"\n",
    "print(string)"
   ]
  },
  {
   "cell_type": "code",
   "execution_count": 69,
   "id": "restricted-figure",
   "metadata": {},
   "outputs": [
    {
     "data": {
      "text/plain": [
       "['a', 'b', 'c', 'A', 'B', 'C', '1', '2', '3', '_']"
      ]
     },
     "execution_count": 69,
     "metadata": {},
     "output_type": "execute_result"
    }
   ],
   "source": [
    "# Suche nach Buchstaben, Zahlen und Unterstrichen\n",
    "re.findall(r'\\w', string)"
   ]
  },
  {
   "cell_type": "code",
   "execution_count": 88,
   "id": "destroyed-florida",
   "metadata": {},
   "outputs": [
    {
     "data": {
      "text/plain": [
       "['1', '2', '3']"
      ]
     },
     "execution_count": 88,
     "metadata": {},
     "output_type": "execute_result"
    }
   ],
   "source": [
    "# Suche nach Zahlen\n",
    "re.findall(r'\\d', string)"
   ]
  },
  {
   "cell_type": "code",
   "execution_count": 89,
   "id": "legislative-default",
   "metadata": {},
   "outputs": [
    {
     "data": {
      "text/plain": [
       "[' ', '\\n', ' ', '\\t']"
      ]
     },
     "execution_count": 89,
     "metadata": {},
     "output_type": "execute_result"
    }
   ],
   "source": [
    "# Suche nach Leerzeichen \n",
    "re.findall(r'\\s', string)"
   ]
  }
 ],
 "metadata": {
  "interpreter": {
   "hash": "52634da84371cba311ea128a5ea7cdc41ff074b781779e754b270ff9f8153cee"
  },
  "kernelspec": {
   "display_name": "Python 3.8.5 64-bit",
   "language": "python",
   "name": "python3"
  },
  "language_info": {
   "codemirror_mode": {
    "name": "ipython",
    "version": 3
   },
   "file_extension": ".py",
   "mimetype": "text/x-python",
   "name": "python",
   "nbconvert_exporter": "python",
   "pygments_lexer": "ipython3",
   "version": "3.8.5"
  }
 },
 "nbformat": 4,
 "nbformat_minor": 5
}
