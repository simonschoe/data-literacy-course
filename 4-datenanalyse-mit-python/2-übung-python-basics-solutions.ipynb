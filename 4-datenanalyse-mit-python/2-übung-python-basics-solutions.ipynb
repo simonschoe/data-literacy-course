{
 "cells": [
  {
   "cell_type": "markdown",
   "id": "2b8b41c7",
   "metadata": {},
   "source": [
    "### Übungsaufgaben Kapitel 2 - Einführung in Python"
   ]
  },
  {
   "cell_type": "markdown",
   "id": "77cb8898",
   "metadata": {},
   "source": [
    "Für ein Experiment sind vier Personen angemeldet. In diesem Durchlauf heißen diese Alice (P1), Bob (P2), Charlie (P3) und Malfoy (P4). Erstelle für jede Person eine Variable und halte die Namen in dieser fest."
   ]
  },
  {
   "cell_type": "code",
   "execution_count": null,
   "id": "1a888d12",
   "metadata": {},
   "outputs": [],
   "source": [
    "person1 = 'Alice'\n",
    "person2 = 'Bob'\n",
    "person3 = 'Charlie'\n",
    "person4 = 'Malfoy'"
   ]
  },
  {
   "cell_type": "markdown",
   "id": "be67ee5e",
   "metadata": {},
   "source": [
    "Bedauerlicherweise muss Malfoy krankheitsbedingt ausscheiden und wird durch eine weitere Person, die ebenfalls den Namen Alice trägt, ersetzt. Passe die entsprechende Variable an."
   ]
  },
  {
   "cell_type": "code",
   "execution_count": null,
   "id": "76db163d",
   "metadata": {},
   "outputs": [],
   "source": [
    "person4 = 'Alice'  # alternativ: person4 = person1"
   ]
  },
  {
   "cell_type": "markdown",
   "id": "174c6fef",
   "metadata": {},
   "source": [
    "Um Verwechslungen zu vermeiden entscheidet sich die urpsrüngliche Alice (P1), unter ihrem Spitznamen Aly teilzunehmen. Passe die Variable entsprechend an."
   ]
  },
  {
   "cell_type": "code",
   "execution_count": null,
   "id": "9b53cbab",
   "metadata": {},
   "outputs": [],
   "source": [
    "person1 = 'Aly'\n",
    "person1, person4"
   ]
  },
  {
   "cell_type": "markdown",
   "id": "3cc26988",
   "metadata": {},
   "source": [
    "Zusätzlich soll die Variable `participant_count` erstellt werden, die die Anzahl an Teilnehmern festhält."
   ]
  },
  {
   "cell_type": "code",
   "execution_count": null,
   "id": "ac5e078b",
   "metadata": {},
   "outputs": [],
   "source": [
    "participant_count = 4"
   ]
  },
  {
   "cell_type": "markdown",
   "id": "50f91bb3",
   "metadata": {},
   "source": [
    "Zu Beginn des Experiments wird eine Umfrage durchgeführt, um die Freundschaftsverhältnisse zwischen den Proband:innen festzustellen, um hinterher untersuchen zu können, inwieweit diese die Entscheidungen\n",
    "beeinflussen. Hierbei wird jede/r Proband:in einzeln befragt. Freundschaften müssen daher nicht symmetrisch sein. Hieraus resultieren die folgenden 12 Variablen. Die Zahlen in den Variabelnnamen beziehen sich dabei auf die Proband:innen-Nummern."
   ]
  },
  {
   "cell_type": "code",
   "execution_count": null,
   "id": "8e38c215",
   "metadata": {},
   "outputs": [],
   "source": [
    "friendship_1_2 = True\n",
    "friendship_1_3 = False\n",
    "friendship_1_4 = False\n",
    "friendship_2_1 = 1\n",
    "friendship_2_3 = 1\n",
    "friendship_2_4 = 0\n",
    "friendship_3_1 = False\n",
    "friendship_3_2 = 0.2\n",
    "friendship_3_4 = True\n",
    "friendship_4_1 = True\n",
    "friendship_4_2 = False\n",
    "friendship_4_3 = True"
   ]
  },
  {
   "cell_type": "markdown",
   "id": "be4934eb",
   "metadata": {},
   "source": [
    "Offenbar haben die Proband:innen nicht alle bool'sche Angaben (`True`/`False`) getätigt. Darüber hinaus hat Charlie eine nicht binäre Kategorisierung seiner Freundschaften getroffen (`friendship_3_2`). Möglicherweise soll die `0.2` eine schwache Freundschaft zu Bob indizieren. Überführe zur Vereinheitlichung nicht bool'sche Variablen mittels *Typkonvertierung* in bool'sche Werte."
   ]
  },
  {
   "cell_type": "code",
   "execution_count": null,
   "id": "6ab103a0",
   "metadata": {},
   "outputs": [],
   "source": [
    "friendship_2_1 = bool(friendship_2_1)\n",
    "friendship_2_3 = bool(friendship_2_3)\n",
    "friendship_2_4 = bool(friendship_2_4)\n",
    "friendship_3_2 = bool(friendship_3_2)"
   ]
  },
  {
   "cell_type": "markdown",
   "id": "1f76430f",
   "metadata": {},
   "source": [
    "Was fällt bei der Konvertierung von `friendship_3_2` auf? Wie hätte das Resultat für andere Werte (z.B. 0.8, -1 oder 1.2) ausgesehen?"
   ]
  },
  {
   "cell_type": "code",
   "execution_count": null,
   "id": "ef42013d",
   "metadata": {},
   "outputs": [],
   "source": [
    "bool(0.2), bool(0.8), bool(-1), bool(1.2)"
   ]
  },
  {
   "cell_type": "markdown",
   "id": "090e3019",
   "metadata": {},
   "source": [
    "Offensichtlich ist diese Art der Speicherung von Freundschaftsverhältnissen besonders für größere Teilnehmer:innenzahlen ineffizient und soll verbessert werden. Erstelle hierzu als ersten Schritt für jede/n Proband:in eine Liste der Freund:innen (aka Freundesliste), die deren Realnamen enthält. Es sollten somit nur Freund:innen gelistet werden, bei denen das Freundschaftsverhältnis `True` ist."
   ]
  },
  {
   "cell_type": "code",
   "execution_count": null,
   "id": "d2358655",
   "metadata": {},
   "outputs": [],
   "source": [
    "friends_1 = ['Bob']\n",
    "friends_2 = ['Aly', 'Charlie']\n",
    "friends_3 = ['Bob', 'Alice']\n",
    "friends_4 = ['Aly', 'Charlie']"
   ]
  },
  {
   "cell_type": "markdown",
   "id": "becbf3d5",
   "metadata": {},
   "source": [
    "Erstelle nun mithilfe der anfänglichen Namensvariablen und dieser Listen ein Dictionary, welches key-value-Paare mit dem folgenden Schema enthält:\n",
    "\n",
    "```\n",
    "{P1: [List of Freund:innen],\n",
    " P2: [List of Freund:innen],\n",
    " P3: [List of Freund:innen],\n",
    " P4: [List of Freund:innen]}\n",
    "```"
   ]
  },
  {
   "cell_type": "code",
   "execution_count": null,
   "id": "837abbbe",
   "metadata": {},
   "outputs": [],
   "source": [
    "friendships = {person1: friends_1, person2: friends_2, person3: friends_3, person4: friends_4}\n",
    "friendships"
   ]
  },
  {
   "cell_type": "markdown",
   "id": "8783af6c",
   "metadata": {},
   "source": [
    "Charlie entdeckt, dass die Daten nun ihn und Bob als Freunde listen und bittet darum, diese Verbindung zu entfernen, da er die Freundschaft nur als schwach betrachtet."
   ]
  },
  {
   "cell_type": "code",
   "execution_count": null,
   "id": "d0ce4d4b",
   "metadata": {},
   "outputs": [],
   "source": [
    "friendships['Charlie'].remove('Bob')\n",
    "friendships"
   ]
  },
  {
   "cell_type": "markdown",
   "id": "c7cd8d5b",
   "metadata": {},
   "source": [
    "Wieviele Freunde hat Charlie nun angegeben? (Verwende die Funktion `len()` um die Länge der Freundesliste von Charlie zu bestimmen)"
   ]
  },
  {
   "cell_type": "code",
   "execution_count": null,
   "id": "e69bfd02",
   "metadata": {},
   "outputs": [],
   "source": [
    "len(friendships['Charlie'])"
   ]
  },
  {
   "cell_type": "markdown",
   "id": "f3ca29e0",
   "metadata": {},
   "source": [
    "Hat Alice mindestens zwei Freunde?"
   ]
  },
  {
   "cell_type": "code",
   "execution_count": null,
   "id": "d5912eb4",
   "metadata": {},
   "outputs": [],
   "source": [
    "len(friendships['Alice']) >= 2"
   ]
  },
  {
   "cell_type": "markdown",
   "id": "b9957d7a",
   "metadata": {},
   "source": [
    "Ist Alice zweiter Freund Bob?"
   ]
  },
  {
   "cell_type": "code",
   "execution_count": null,
   "id": "47cae290",
   "metadata": {},
   "outputs": [],
   "source": [
    "friendships['Alice'][1] == 'Bob'"
   ]
  },
  {
   "cell_type": "markdown",
   "id": "3583b48a",
   "metadata": {},
   "source": [
    "Ist Alice zweiter Freund Bob oder Charlie?"
   ]
  },
  {
   "cell_type": "code",
   "execution_count": null,
   "id": "0ceedf5b",
   "metadata": {},
   "outputs": [],
   "source": [
    "friendships['Alice'][1] == 'Bob' or friendships['Alice'][1] == 'Charlie'"
   ]
  },
  {
   "cell_type": "code",
   "execution_count": null,
   "id": "0f8c7141",
   "metadata": {},
   "outputs": [],
   "source": [
    "# alternativ und effizienter\n",
    "friendships['Alice'][1] in ['Bob', 'Charlie']"
   ]
  },
  {
   "cell_type": "markdown",
   "id": "5e454abe",
   "metadata": {},
   "source": [
    "Ist Alice erste Freundin Aly und Alice zweiter Freund Charlie?"
   ]
  },
  {
   "cell_type": "code",
   "execution_count": null,
   "id": "a972f56e",
   "metadata": {},
   "outputs": [],
   "source": [
    "friendships['Alice'][0] == 'Aly' and friendships['Alice'][1] == 'Charlie'"
   ]
  },
  {
   "cell_type": "markdown",
   "id": "38fb0cc0",
   "metadata": {},
   "source": [
    "Ist die Anzahl aller Freund:innen von Bob und Alice kleiner oder gleich 3?"
   ]
  },
  {
   "cell_type": "code",
   "execution_count": null,
   "id": "9d4ef3bc",
   "metadata": {},
   "outputs": [],
   "source": [
    "len(friendships['Bob']) + len(friendships['Alice']) <= 3"
   ]
  },
  {
   "cell_type": "markdown",
   "id": "41cb6822",
   "metadata": {},
   "source": [
    "Ist die Anzahl aller Freund:innen von Bob und Alice kleiner als 5 und größer als 3?"
   ]
  },
  {
   "cell_type": "code",
   "execution_count": null,
   "id": "7a1d28b0",
   "metadata": {},
   "outputs": [],
   "source": [
    "3 < len(friendships['Bob']) + len(friendships['Alice']) < 5"
   ]
  },
  {
   "cell_type": "markdown",
   "id": "cb597b9d",
   "metadata": {},
   "source": [
    "Haben Aly und Charlie die gleichen Freund:innen?"
   ]
  },
  {
   "cell_type": "code",
   "execution_count": null,
   "id": "97bfc691",
   "metadata": {},
   "outputs": [],
   "source": [
    "friendships['Aly'] == friendships['Charlie']"
   ]
  },
  {
   "cell_type": "markdown",
   "id": "57f73038",
   "metadata": {},
   "source": [
    "**Zusatzaufgabe für Fortgeschritten:** Erstelle eine Funktion, die prüft, ob für eine Person symmetrische Freundschaften bestehen. Berücksichtige dabei folgende Punkte:\n",
    "1. Nennen die Funktion `check_friendship`.\n",
    "2. Die Funktion nimmt einen Personennamen (`str`) als Input. Nenne das erste Funktionsargument daher `person_name`.\n",
    "3. Innerhalb der Funktion, erfasse zunächst alle Freunde einer Person in der Variable `friends`.\n",
    "4. Verwende anschließend einen `for`-loop (siehe [Beispiele](https://pythonexamples.org/python-for-loop-example/)), der für jede/n Freund:in prüft, welche Freund:innen er/sie wiederum hat.\n",
    "5. Prüfe jeweils, ob sich die Ausgangsperson in der Freundesliste des/der jeweiligen Freund:in befindet.\n",
    "\n",
    "Verwende dafür das nachstehende Template und ersetze die `<Platzhalter>`:"
   ]
  },
  {
   "cell_type": "code",
   "execution_count": null,
   "id": "de53020a",
   "metadata": {},
   "outputs": [],
   "source": [
    "def <Funktionsname>(<Funktionsargument>):\n",
    "    friends = <Freundesliste>\n",
    "    # iteriere über alle Freund:innen in der Freundesliste\n",
    "    for f in friends:\n",
    "        friends_of_friend = <Freundesliste jedes/jeder Freund:in>\n",
    "        print( <Prüfe ob Name in Freundes-Freundesliste> )"
   ]
  },
  {
   "cell_type": "code",
   "execution_count": null,
   "id": "96d31fd3",
   "metadata": {},
   "outputs": [],
   "source": [
    "def check_friendship(person_name:str):\n",
    "    friends = friendships[person_name]\n",
    "    # iteriere über alle Freund:innen in der Freundesliste\n",
    "    for f in friends:\n",
    "        friends_of_friend = friendships[f]\n",
    "        print(f, ':', person_name in friends_of_friend)\n",
    "        \n",
    "check_friendship('Bob')"
   ]
  },
  {
   "cell_type": "markdown",
   "id": "3a74e58e",
   "metadata": {},
   "source": [
    "Versehe nun die von dir erstellte Funktion mit einem sinnvollen *Docstring* und füge ein zweites, boolsches Funktionsargument ein, dass wenn `True` zusätzlich den Namen der/des symmetrischen Freund:in mit ausgibt."
   ]
  },
  {
   "cell_type": "code",
   "execution_count": null,
   "id": "543311f0",
   "metadata": {},
   "outputs": [],
   "source": [
    "def check_friendship(person_name, print_name=True):\n",
    "    ''' Prüft ob für eine Person symmetrische Freundschaften bestehen\n",
    "    :param str person_name:\n",
    "        Name der Person\n",
    "    :param bool print_name:\n",
    "        Gibt zusätzlich Name des/der symmetrischen Freund:in mit aus    \n",
    "    '''\n",
    "    friends = friendships[person_name]\n",
    "    for f in friends:\n",
    "        friends_of_friend = friendships[f]\n",
    "        print(person_name in friends_of_friend)\n",
    "        if print_name == True and person_name in friends_of_friend:\n",
    "            print(f)\n",
    "        \n",
    "check_friendship('Bob')"
   ]
  }
 ],
 "metadata": {
  "interpreter": {
   "hash": "52634da84371cba311ea128a5ea7cdc41ff074b781779e754b270ff9f8153cee"
  },
  "kernelspec": {
   "display_name": "Python 3.8.5 64-bit",
   "language": "python",
   "name": "python3"
  },
  "language_info": {
   "codemirror_mode": {
    "name": "ipython",
    "version": 3
   },
   "file_extension": ".py",
   "mimetype": "text/x-python",
   "name": "python",
   "nbconvert_exporter": "python",
   "pygments_lexer": "ipython3",
   "version": "3.8.5"
  }
 },
 "nbformat": 4,
 "nbformat_minor": 5
}
