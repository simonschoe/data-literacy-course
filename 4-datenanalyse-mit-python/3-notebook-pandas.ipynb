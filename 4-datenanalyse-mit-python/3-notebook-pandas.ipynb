{
 "cells": [
  {
   "cell_type": "markdown",
   "id": "2b8b41c7",
   "metadata": {},
   "source": [
    "### 3 Datenmanipulation und Datenanalyse"
   ]
  },
  {
   "cell_type": "markdown",
   "id": "8cf3e678",
   "metadata": {},
   "source": [
    "##### 3.2 Einführung in `pandas`"
   ]
  },
  {
   "cell_type": "code",
   "execution_count": null,
   "id": "df4721e2",
   "metadata": {},
   "outputs": [],
   "source": [
    "import pandas as pd"
   ]
  },
  {
   "cell_type": "code",
   "execution_count": null,
   "id": "b8bafe3c",
   "metadata": {},
   "outputs": [],
   "source": [
    "pd.Series([1995, 2017, 2018, 2000], name='year')"
   ]
  },
  {
   "cell_type": "code",
   "execution_count": null,
   "id": "4ea94f09",
   "metadata": {},
   "outputs": [],
   "source": [
    "pd.Series([1995, 2017, 2018, 2000], index=['1st_ceo', '2nd_ceo', '3rd_ceo', '4th_ceo'], name='year')"
   ]
  },
  {
   "cell_type": "code",
   "execution_count": null,
   "id": "8992b968",
   "metadata": {},
   "outputs": [],
   "source": [
    "pd.Series({'1st_ceo': 1995, '2nd_ceo': 2017, '3rd_ceo': 2018, '4th_ceo': 2000}, name='year')"
   ]
  },
  {
   "cell_type": "code",
   "execution_count": null,
   "id": "7b0e096f",
   "metadata": {},
   "outputs": [],
   "source": [
    "years = pd.Series({'1st_ceo': 1995, '2nd_ceo': 2017, '3rd_ceo': 2018, '4th_ceo': 2000}, name='year')\n",
    "\n",
    "print(\"Index:\\t\", years.index)\n",
    "print(\"Values:\\t\", years.values)\n",
    "print(\"Name:\\t\", years.name)"
   ]
  },
  {
   "cell_type": "code",
   "execution_count": null,
   "id": "d845a07b",
   "metadata": {},
   "outputs": [],
   "source": [
    "data = {'year': [1995, 2017, 2018, 2000],\n",
    "        'exec_fullname': ['Ira A. Eichner', 'David P. Storch', 'John McClain Holmes, III', 'William J. Cadogan'],\n",
    "        'Departure Code': [5, 5, None, 6]}\n",
    "\n",
    "df = pd.DataFrame(data)\n",
    "df"
   ]
  },
  {
   "cell_type": "code",
   "execution_count": null,
   "id": "47e125a9",
   "metadata": {},
   "outputs": [],
   "source": [
    "print(\"Index:\\t\", df.index)\n",
    "print(\"Spalten:\", df.columns)\n",
    "print(\"Dim.:\\t\", df.shape)"
   ]
  },
  {
   "cell_type": "markdown",
   "id": "17114600",
   "metadata": {},
   "source": [
    "##### 3.3 Importieren von Daten"
   ]
  },
  {
   "cell_type": "code",
   "execution_count": null,
   "id": "4e1f563a",
   "metadata": {},
   "outputs": [],
   "source": [
    "# Im Gegensatz zu `pandas` ist `openpyxl` noch nicht vorinstalliert (ggf. Neustart des Kernels erforderlich)\n",
    "!pip install openpyxl"
   ]
  },
  {
   "cell_type": "code",
   "execution_count": null,
   "id": "b6016d05",
   "metadata": {},
   "outputs": [],
   "source": [
    "df = pd.read_excel('./data/CEO Dismissal Data 2021.02.03.xlsx', 'Sheet1', engine='openpyxl')\n",
    "\n",
    "df.head(n=5)  # Gegenteil zu `.head` ist `.tail`"
   ]
  },
  {
   "cell_type": "code",
   "execution_count": null,
   "id": "1e6ee4f0",
   "metadata": {},
   "outputs": [],
   "source": [
    "df = pd.read_excel('./data/CEO Dismissal Data 2021.02.03.xlsx', 'Sheet1', engine='openpyxl', index_col=0)\n",
    "\n",
    "df.head(n=5)"
   ]
  },
  {
   "cell_type": "code",
   "execution_count": null,
   "id": "7ef7048b",
   "metadata": {},
   "outputs": [],
   "source": [
    "col_names = ['id', 'firm_name' , 'firm_id', 'year', 'ceo_id', 'ceo_name', 'depart_code', 'ceo_dismi', 'interim_or_co',\n",
    "             'tenure_no', 'max_tenure', 'fy_gone', 'date_gone', 'still_active', 'notes1', 'notes2']\n",
    "\n",
    "df = pd.read_excel('./data/CEO Dismissal Data 2021.02.03.xlsx', 'Sheet1', engine='openpyxl',\n",
    "                   index_col=0, names=col_names)\n",
    "\n",
    "df.head(n=5)"
   ]
  },
  {
   "cell_type": "code",
   "execution_count": null,
   "id": "96625376",
   "metadata": {},
   "outputs": [],
   "source": [
    "url = 'https://zenodo.org/record/4543893/files/CEO%20Dismissal%20Data%202021.02.03.xlsx?download=1'\n",
    "\n",
    "df = pd.read_excel(url, 'Sheet1', engine='openpyxl', index_col=0, names=col_names)"
   ]
  },
  {
   "cell_type": "code",
   "execution_count": null,
   "id": "cleared-empire",
   "metadata": {},
   "outputs": [],
   "source": [
    "df.info()"
   ]
  },
  {
   "cell_type": "code",
   "execution_count": null,
   "id": "informational-terrain",
   "metadata": {},
   "outputs": [],
   "source": [
    "df.to_csv('./data/CEO Dismissal Data 2021.02.03.csv')  # achtung: bad naming convention!"
   ]
  },
  {
   "cell_type": "code",
   "execution_count": null,
   "id": "colored-madness",
   "metadata": {},
   "outputs": [],
   "source": [
    "df.to_csv?"
   ]
  },
  {
   "cell_type": "code",
   "execution_count": null,
   "id": "alternate-tribune",
   "metadata": {},
   "outputs": [],
   "source": [
    "df.to_csv('./data/CEO Dismissal Data 2021.02.03.csv', sep=';', decimal=',')"
   ]
  },
  {
   "cell_type": "markdown",
   "id": "92ba3b13",
   "metadata": {},
   "source": [
    "##### 3.4 Operationen auf Zeilen"
   ]
  },
  {
   "cell_type": "markdown",
   "id": "ba67d453",
   "metadata": {},
   "source": [
    "**Indexing / Slicing:**"
   ]
  },
  {
   "cell_type": "code",
   "execution_count": null,
   "id": "7f8dc8d8",
   "metadata": {},
   "outputs": [],
   "source": [
    "df.iloc[5]"
   ]
  },
  {
   "cell_type": "code",
   "execution_count": null,
   "id": "dbab4579",
   "metadata": {},
   "outputs": [],
   "source": [
    "df.iloc[5:6]"
   ]
  },
  {
   "cell_type": "code",
   "execution_count": null,
   "id": "00a349ca",
   "metadata": {},
   "outputs": [],
   "source": [
    "df.iloc[5:7]"
   ]
  },
  {
   "cell_type": "code",
   "execution_count": null,
   "id": "4c91deb5",
   "metadata": {},
   "outputs": [],
   "source": [
    "df.iloc[[5, 10, 15]]"
   ]
  },
  {
   "cell_type": "code",
   "execution_count": null,
   "id": "73afdef6",
   "metadata": {},
   "outputs": [],
   "source": [
    "df.loc[5]  # achtung: hier äquivalent zu `iloc`, da Labels integer Werte sind"
   ]
  },
  {
   "cell_type": "code",
   "execution_count": null,
   "id": "eebb2691",
   "metadata": {},
   "outputs": [],
   "source": [
    "df.drop(5, axis=0).head(n=5)"
   ]
  },
  {
   "cell_type": "code",
   "execution_count": null,
   "id": "9f4a5c60",
   "metadata": {},
   "outputs": [],
   "source": [
    "df.drop(5, axis='rows').head(n=5)"
   ]
  },
  {
   "cell_type": "markdown",
   "id": "400a01ee",
   "metadata": {},
   "source": [
    "**Boolean Masking / Filtern:**"
   ]
  },
  {
   "cell_type": "code",
   "execution_count": null,
   "id": "f8d70ffc",
   "metadata": {},
   "outputs": [],
   "source": [
    "mask = df['fy_gone'] > 2010\n",
    "mask"
   ]
  },
  {
   "cell_type": "code",
   "execution_count": null,
   "id": "7aa23163",
   "metadata": {},
   "outputs": [],
   "source": [
    "df[mask]"
   ]
  },
  {
   "cell_type": "code",
   "execution_count": null,
   "id": "0141cf89",
   "metadata": {},
   "outputs": [],
   "source": [
    "# alternativ:\n",
    "\n",
    "df[df['fy_gone'] > 2010]"
   ]
  },
  {
   "cell_type": "code",
   "execution_count": null,
   "id": "bc716ad4",
   "metadata": {},
   "outputs": [],
   "source": [
    "df[(df['fy_gone'] > 2010) & (df['fy_gone'] < 2015)]"
   ]
  },
  {
   "cell_type": "markdown",
   "id": "e29b239c",
   "metadata": {},
   "source": [
    "**Sortieren:**"
   ]
  },
  {
   "cell_type": "code",
   "execution_count": null,
   "id": "3b07490e",
   "metadata": {},
   "outputs": [],
   "source": [
    "df.sort_index(ascending=False)    # achtung: `ascending=True` als default"
   ]
  },
  {
   "cell_type": "code",
   "execution_count": null,
   "id": "3efe857c",
   "metadata": {},
   "outputs": [],
   "source": [
    "df.sort_values(by='ceo_id', ascending=True)\n",
    "df"
   ]
  },
  {
   "cell_type": "code",
   "execution_count": null,
   "id": "d552e581",
   "metadata": {},
   "outputs": [],
   "source": [
    "# Persistierung der Sortierung mittels `inplace=True` oder Überschreibung der `df` Variable\n",
    "df.sort_values(by='ceo_id', ascending=True, inplace=True)\n",
    "df"
   ]
  },
  {
   "cell_type": "code",
   "execution_count": null,
   "id": "d64ca793",
   "metadata": {},
   "outputs": [],
   "source": [
    "df = df.sort_index()\n",
    "df  "
   ]
  },
  {
   "cell_type": "code",
   "execution_count": null,
   "id": "b7f9bb7c",
   "metadata": {},
   "outputs": [],
   "source": [
    "df.sort_values(by=['ceo_id', 'fy_gone'], ascending=True)"
   ]
  },
  {
   "cell_type": "markdown",
   "id": "047be3d3",
   "metadata": {},
   "source": [
    "**Sampling:**"
   ]
  },
  {
   "cell_type": "code",
   "execution_count": null,
   "id": "4274219c",
   "metadata": {},
   "outputs": [],
   "source": [
    "df.head(n=100)"
   ]
  },
  {
   "cell_type": "code",
   "execution_count": null,
   "id": "70aefa94",
   "metadata": {},
   "outputs": [],
   "source": [
    "df.tail(n=100)"
   ]
  },
  {
   "cell_type": "code",
   "execution_count": null,
   "id": "befe0de8",
   "metadata": {},
   "outputs": [],
   "source": [
    "df.sample(100, replace=False)"
   ]
  },
  {
   "cell_type": "code",
   "execution_count": null,
   "id": "e03f6e8f",
   "metadata": {},
   "outputs": [],
   "source": [
    "df.sample(frac=0.2, replace=False)"
   ]
  },
  {
   "cell_type": "code",
   "execution_count": null,
   "id": "f8f8d4b0",
   "metadata": {},
   "outputs": [],
   "source": [
    "df.sample(frac=0.2, replace=False, random_state=2022)  # der `random_state` wird häufig auch `seed` genannt"
   ]
  },
  {
   "cell_type": "markdown",
   "id": "463bbca2",
   "metadata": {},
   "source": [
    "**Transformieren:**"
   ]
  },
  {
   "cell_type": "code",
   "execution_count": null,
   "id": "83aa39b5",
   "metadata": {},
   "outputs": [],
   "source": [
    "df.dropna(axis=0, how='any')"
   ]
  },
  {
   "cell_type": "code",
   "execution_count": null,
   "id": "3599402d",
   "metadata": {},
   "outputs": [],
   "source": [
    "df.dropna(axis=0, how='any', subset=['depart_code'])"
   ]
  },
  {
   "cell_type": "code",
   "execution_count": null,
   "id": "7391f097",
   "metadata": {},
   "outputs": [],
   "source": [
    "df.fillna({'depart_code': 1, 'fy_gone': 2010})  # achtung: manueller Eingriff in die Daten!"
   ]
  },
  {
   "cell_type": "code",
   "execution_count": null,
   "metadata": {},
   "outputs": [],
   "source": [
    "df.replace('AAR CORP', 'AAR Corporation')"
   ]
  },
  {
   "cell_type": "code",
   "execution_count": null,
   "id": "f69a4de4",
   "metadata": {},
   "outputs": [],
   "source": [
    "df['fy_gone'].value_counts()"
   ]
  },
  {
   "cell_type": "code",
   "execution_count": null,
   "id": "7b89a2b0",
   "metadata": {},
   "outputs": [],
   "source": [
    "df['fy_gone'].value_counts().sort_index()"
   ]
  },
  {
   "cell_type": "code",
   "execution_count": null,
   "id": "2709e45a",
   "metadata": {},
   "outputs": [],
   "source": [
    "df[df['fy_gone'] > 2021]  # Angenommene Outlier"
   ]
  },
  {
   "cell_type": "code",
   "execution_count": null,
   "id": "4f8a1195",
   "metadata": {},
   "outputs": [],
   "source": [
    "df[df['fy_gone'] <= 2021]"
   ]
  },
  {
   "cell_type": "markdown",
   "id": "258590e3",
   "metadata": {},
   "source": [
    "##### 3.5 Operationen auf Spalten"
   ]
  },
  {
   "cell_type": "markdown",
   "id": "115177fa",
   "metadata": {},
   "source": [
    "**Indexing / Slicing:**"
   ]
  },
  {
   "cell_type": "code",
   "execution_count": null,
   "id": "6ca202ce",
   "metadata": {},
   "outputs": [],
   "source": [
    "df.iloc[:, 5]"
   ]
  },
  {
   "cell_type": "code",
   "execution_count": null,
   "id": "d519b800",
   "metadata": {},
   "outputs": [],
   "source": [
    "df.loc[:, 'depart_code']"
   ]
  },
  {
   "cell_type": "code",
   "execution_count": null,
   "id": "8503d64a",
   "metadata": {},
   "outputs": [],
   "source": [
    "df['depart_code']  # alternativ: df.depart_code"
   ]
  },
  {
   "cell_type": "code",
   "execution_count": null,
   "id": "7a0f3a94",
   "metadata": {},
   "outputs": [],
   "source": [
    "df[['ceo_id', 'depart_code']]"
   ]
  },
  {
   "cell_type": "code",
   "execution_count": null,
   "id": "e12c2656",
   "metadata": {},
   "outputs": [],
   "source": [
    "df.loc[900:1000, 'depart_code']"
   ]
  },
  {
   "cell_type": "code",
   "execution_count": null,
   "id": "f015021d",
   "metadata": {},
   "outputs": [],
   "source": [
    "df.index.value_counts()"
   ]
  },
  {
   "cell_type": "code",
   "execution_count": null,
   "id": "b6a8e497",
   "metadata": {},
   "outputs": [],
   "source": [
    "df[df.index == 6800]"
   ]
  },
  {
   "cell_type": "code",
   "execution_count": null,
   "id": "a8f5e3fe",
   "metadata": {},
   "outputs": [],
   "source": [
    "df.drop(['notes1', 'notes2'], axis=1)"
   ]
  },
  {
   "cell_type": "code",
   "execution_count": null,
   "id": "ccbff2c3",
   "metadata": {},
   "outputs": [],
   "source": [
    "df"
   ]
  },
  {
   "cell_type": "code",
   "execution_count": null,
   "id": "33a0d757",
   "metadata": {},
   "outputs": [],
   "source": [
    "# um das Ergebnis zu speichern, muss der reduzierte DataFrame in einer neuen Variable gespeichert werden (sonst geht das Ergebnis verloren)\n",
    "# alternativ: Verwendung des `inplace` Arguments!\n",
    "\n",
    "df.drop(['notes2'], axis=1)\n",
    "df"
   ]
  },
  {
   "cell_type": "code",
   "execution_count": null,
   "id": "afb71c57",
   "metadata": {},
   "outputs": [],
   "source": [
    "df.drop(['notes2'], axis=1, inplace=True)\n",
    "df"
   ]
  },
  {
   "cell_type": "markdown",
   "id": "77b4d1ac",
   "metadata": {},
   "source": [
    "**Umbennen:**"
   ]
  },
  {
   "cell_type": "code",
   "execution_count": null,
   "id": "cf877e09",
   "metadata": {},
   "outputs": [],
   "source": [
    "df.rename(columns={'firm_name': 'company_name', 'ceo_dismi': 'dismissed'})"
   ]
  },
  {
   "cell_type": "markdown",
   "id": "2f7f62d2",
   "metadata": {},
   "source": [
    "**Sortieren:**"
   ]
  },
  {
   "cell_type": "code",
   "execution_count": null,
   "id": "d2ac1f92",
   "metadata": {},
   "outputs": [],
   "source": [
    "col_names = ['firm_id', 'firm_name' , 'year', 'ceo_id', 'ceo_name', 'depart_code', 'ceo_dismi',\n",
    "             'interim_or_co', 'tenure_no', 'max_tenure', 'fy_gone', 'date_gone', 'still_active']\n",
    "\n",
    "df.reindex(columns=col_names)"
   ]
  },
  {
   "cell_type": "markdown",
   "id": "8ea0d9e6",
   "metadata": {},
   "source": [
    "**Transformieren:**"
   ]
  },
  {
   "cell_type": "code",
   "execution_count": null,
   "id": "2aa92d66",
   "metadata": {},
   "outputs": [],
   "source": [
    "dismis_dates = df['date_gone']\n",
    "dismis_dates"
   ]
  },
  {
   "cell_type": "code",
   "execution_count": null,
   "id": "e85871c1",
   "metadata": {},
   "outputs": [],
   "source": [
    "dismis_dates = pd.to_datetime(dismis_dates, errors='coerce')\n",
    "dismis_dates"
   ]
  },
  {
   "cell_type": "code",
   "execution_count": null,
   "id": "f5620385",
   "metadata": {},
   "outputs": [],
   "source": [
    "dismis_month = dismis_dates.dt.month_name()\n",
    "dismis_month"
   ]
  },
  {
   "cell_type": "code",
   "execution_count": null,
   "id": "1f6e67de",
   "metadata": {},
   "outputs": [],
   "source": [
    "df['month_gone'] = dismis_month\n",
    "df"
   ]
  },
  {
   "cell_type": "markdown",
   "id": "legitimate-power",
   "metadata": {},
   "source": [
    "##### 3.6 Datenaggregation auf Spalten"
   ]
  },
  {
   "cell_type": "markdown",
   "id": "2b4b38bf",
   "metadata": {},
   "source": [
    "**Univariate Statistiken:**"
   ]
  },
  {
   "cell_type": "code",
   "execution_count": null,
   "id": "642c8077",
   "metadata": {},
   "outputs": [],
   "source": [
    "df['max_tenure'].mean()"
   ]
  },
  {
   "cell_type": "code",
   "execution_count": null,
   "id": "bb01f358",
   "metadata": {},
   "outputs": [],
   "source": [
    "print(\"Probability of dismissal:\\t\\t\", df['ceo_dismi'].mean())\n",
    "print(\"Probability of dismissal (exkl. NA):\\t\", df['ceo_dismi'].mean(skipna=True))\n",
    "print(\"Probability of dismissal (inkl. NA):\\t\", df['ceo_dismi'].mean(skipna=False))"
   ]
  },
  {
   "cell_type": "code",
   "execution_count": null,
   "id": "ad9e94a2",
   "metadata": {},
   "outputs": [],
   "source": [
    "print(\"Number of dismissals:\\t\", df['ceo_dismi'].sum())\n",
    "print(\"Main fluctuation year:\\t\", df['fy_gone'].mode()[0])"
   ]
  },
  {
   "cell_type": "code",
   "execution_count": null,
   "id": "75fc8d6f",
   "metadata": {},
   "outputs": [],
   "source": [
    "print(\"First dismissal:\\t\", df['fy_gone'].min())\n",
    "print(\"Last dismissal:\\t\\t\", df['fy_gone'].max())"
   ]
  },
  {
   "cell_type": "markdown",
   "id": "6fe24cfa",
   "metadata": {},
   "source": [
    "**Bivariate Statistiken:**"
   ]
  },
  {
   "cell_type": "code",
   "execution_count": null,
   "id": "79958a6b",
   "metadata": {},
   "outputs": [],
   "source": [
    "df['tenure_no'].corr(df['max_tenure'])"
   ]
  },
  {
   "cell_type": "code",
   "execution_count": null,
   "id": "d05c5128",
   "metadata": {},
   "outputs": [],
   "source": [
    "df.corr(method='pearson')"
   ]
  },
  {
   "cell_type": "code",
   "execution_count": null,
   "id": "2d1920a0",
   "metadata": {},
   "outputs": [],
   "source": [
    "df.corr(method='spearman')"
   ]
  },
  {
   "cell_type": "markdown",
   "id": "1f47efbd",
   "metadata": {},
   "source": [
    "**Einzigartige Werte:**"
   ]
  },
  {
   "cell_type": "code",
   "execution_count": null,
   "id": "13030aad",
   "metadata": {},
   "outputs": [],
   "source": [
    "df['depart_code'].unique()"
   ]
  },
  {
   "cell_type": "code",
   "execution_count": null,
   "id": "4c89a13e",
   "metadata": {},
   "outputs": [],
   "source": [
    "df['depart_code'].value_counts()"
   ]
  },
  {
   "cell_type": "code",
   "execution_count": null,
   "id": "b74ad334",
   "metadata": {},
   "outputs": [],
   "source": [
    "df.describe()"
   ]
  },
  {
   "cell_type": "markdown",
   "id": "8ab4e04c",
   "metadata": {},
   "source": [
    "**Z-Standardisierung:**"
   ]
  },
  {
   "cell_type": "code",
   "execution_count": null,
   "id": "034760a1",
   "metadata": {},
   "outputs": [],
   "source": [
    "df['year']"
   ]
  },
  {
   "cell_type": "code",
   "execution_count": null,
   "id": "50c2ce3f",
   "metadata": {},
   "outputs": [],
   "source": [
    "(df['year'] - df['year'].mean()) / df['year'].std()"
   ]
  },
  {
   "cell_type": "markdown",
   "id": "dbb0e314",
   "metadata": {},
   "source": [
    "##### 3.7 Operationen auf Gruppen"
   ]
  },
  {
   "cell_type": "code",
   "execution_count": null,
   "id": "elementary-credits",
   "metadata": {},
   "outputs": [],
   "source": [
    "data = {'year': [1995, 2017, 2018, 1995],\n",
    "        'exec_fullname': ['Ira A. Eichner', 'David P. Storch',\n",
    "                          'John McClain Holmes, III', 'William J. Cadogan'],\n",
    "        'Departure Code': [5, 5, None, 6]}\n",
    "\n",
    "df_dummy = pd.DataFrame(data)\n",
    "df_dummy"
   ]
  },
  {
   "cell_type": "code",
   "execution_count": null,
   "id": "bizarre-azerbaijan",
   "metadata": {},
   "outputs": [],
   "source": [
    "grouped_df = df_dummy.groupby('year')['Departure Code']\n",
    "grouped_df"
   ]
  },
  {
   "cell_type": "code",
   "execution_count": null,
   "id": "3e3b367e",
   "metadata": {},
   "outputs": [],
   "source": [
    "grouped_df.sum()"
   ]
  },
  {
   "cell_type": "code",
   "execution_count": null,
   "id": "representative-cotton",
   "metadata": {},
   "outputs": [],
   "source": [
    "grouped_df.mean()"
   ]
  },
  {
   "cell_type": "code",
   "execution_count": null,
   "id": "149448f5",
   "metadata": {},
   "outputs": [],
   "source": [
    "grouped_df.agg(['sum', 'mean'])"
   ]
  },
  {
   "cell_type": "code",
   "execution_count": null,
   "id": "954e5f28",
   "metadata": {},
   "outputs": [],
   "source": [
    "grouped_df.agg([('total','sum'), ('average','mean')])"
   ]
  },
  {
   "cell_type": "code",
   "execution_count": null,
   "id": "dental-audience",
   "metadata": {},
   "outputs": [],
   "source": [
    "df_dummy.groupby('year').apply(lambda g: g[g['Departure Code'] == 5]) "
   ]
  },
  {
   "cell_type": "code",
   "execution_count": null,
   "id": "legislative-sound",
   "metadata": {},
   "outputs": [],
   "source": [
    "data2 = {'year': [1995, 2018, 2018, 1995],\n",
    "        'exec_fullname': ['Ira A. Eichner', 'David P. Storch',\n",
    "                          'John McClain Holmes, III', 'William J. Cadogan'],\n",
    "        'Departure Code': [5, 5, None, 6]}\n",
    "\n",
    "df_dummy2 = pd.DataFrame(data2)\n",
    "df_dummy2"
   ]
  },
  {
   "cell_type": "code",
   "execution_count": null,
   "id": "36eacfff",
   "metadata": {},
   "outputs": [],
   "source": [
    "df_dummy2.groupby('year').apply(lambda g: g.fillna(g.mean()))"
   ]
  },
  {
   "cell_type": "code",
   "execution_count": null,
   "id": "492c45e4",
   "metadata": {},
   "outputs": [],
   "source": [
    "# alternativ:\n",
    "\n",
    "def mean_impute(group):\n",
    "    group_mean = group['Departure Code'].mean()\n",
    "    return group.fillna(group_mean)\n",
    "\n",
    "df_dummy2.groupby('year').apply(lambda g: mean_impute(g))"
   ]
  }
 ],
 "metadata": {
  "interpreter": {
   "hash": "52634da84371cba311ea128a5ea7cdc41ff074b781779e754b270ff9f8153cee"
  },
  "kernelspec": {
   "display_name": "Python 3.8.5 64-bit",
   "language": "python",
   "name": "python3"
  },
  "language_info": {
   "codemirror_mode": {
    "name": "ipython",
    "version": 3
   },
   "file_extension": ".py",
   "mimetype": "text/x-python",
   "name": "python",
   "nbconvert_exporter": "python",
   "pygments_lexer": "ipython3",
   "version": "3.8.5"
  }
 },
 "nbformat": 4,
 "nbformat_minor": 5
}
